{
  "nbformat": 4,
  "nbformat_minor": 0,
  "metadata": {
    "colab": {
      "provenance": [],
      "authorship_tag": "ABX9TyMbdi/ZUfYDNCwhrN9VvMz2",
      "include_colab_link": true
    },
    "kernelspec": {
      "name": "python3",
      "display_name": "Python 3"
    },
    "language_info": {
      "name": "python"
    }
  },
  "cells": [
    {
      "cell_type": "markdown",
      "metadata": {
        "id": "view-in-github",
        "colab_type": "text"
      },
      "source": [
        "<a href=\"https://colab.research.google.com/github/dtuleva/Recipe_Recommendation_System/blob/main/paper_1_code_Language_agnostic_BERT_Sentence_Embedding_kaggle.ipynb\" target=\"_parent\"><img src=\"https://colab.research.google.com/assets/colab-badge.svg\" alt=\"Open In Colab\"/></a>"
      ]
    },
    {
      "cell_type": "code",
      "source": [
        "!pip install -q tensorflow-text"
      ],
      "metadata": {
        "id": "rvq_wcX55iom",
        "colab": {
          "base_uri": "https://localhost:8080/"
        },
        "outputId": "9983add1-76b3-48f7-c10f-7f55141abd84"
      },
      "execution_count": 2,
      "outputs": [
        {
          "output_type": "stream",
          "name": "stdout",
          "text": [
            "\u001b[2K     \u001b[90m━━━━━━━━━━━━━━━━━━━━━━━━━━━━━━━━━━━━━━━━\u001b[0m \u001b[32m5.2/5.2 MB\u001b[0m \u001b[31m32.3 MB/s\u001b[0m eta \u001b[36m0:00:00\u001b[0m\n",
            "\u001b[?25h"
          ]
        }
      ]
    },
    {
      "cell_type": "code",
      "execution_count": 3,
      "metadata": {
        "id": "6FJjbIsf5Scn"
      },
      "outputs": [],
      "source": [
        "import tensorflow_hub as hub\n",
        "import tensorflow as tf\n",
        "import tensorflow_text as text  # Needed for loading universal-sentence-encoder-cmlm/multilingual-preprocess\n",
        "import numpy as np\n",
        "\n",
        "import matplotlib.pyplot as plt\n",
        "import seaborn as sns\n"
      ]
    },
    {
      "cell_type": "markdown",
      "source": [
        "# Language-agnostic BERT Sentence Embedding"
      ],
      "metadata": {
        "id": "lSwr9Oau6Knr"
      }
    },
    {
      "cell_type": "markdown",
      "source": [
        "Following code is form kaggle models:"
      ],
      "metadata": {
        "id": "Tct-I09MCj5u"
      }
    },
    {
      "cell_type": "markdown",
      "source": [
        "We publicly release our best\n",
        "multilingual sentence embedding model for\n",
        "109+ languages at https://tfhub.dev/\n",
        "google/LaBSE. (tf hub is now kaggle models)"
      ],
      "metadata": {
        "id": "Xf_qdVZ56Ke-"
      }
    },
    {
      "cell_type": "code",
      "source": [
        "def normalization(embeds):\n",
        "  norms = np.linalg.norm(embeds, 2, axis=1, keepdims=True)\n",
        "  return embeds/norms\n",
        "\n",
        "english_sentences = tf.constant([\"dog\", \"Puppies are nice.\", \"I enjoy taking long walks along the beach with my dog.\"])\n",
        "italian_sentences = tf.constant([\"cane\", \"I cuccioli sono carini.\", \"Mi piace fare lunghe passeggiate lungo la spiaggia con il mio cane.\"])\n",
        "japanese_sentences = tf.constant([\"犬\", \"子犬はいいです\", \"私は犬と一緒にビーチを散歩するのが好きです\"])\n",
        "\n",
        "\n",
        "preprocessor = hub.KerasLayer(\n",
        "    \"https://kaggle.com/models/google/universal-sentence-encoder/frameworks/TensorFlow2/variations/cmlm-multilingual-preprocess/versions/2\")\n",
        "encoder = hub.KerasLayer(\"https://www.kaggle.com/models/google/labse/frameworks/TensorFlow2/variations/labse/versions/2\")\n",
        "\n",
        "english_embeds = encoder(preprocessor(english_sentences))[\"default\"]\n",
        "japanese_embeds = encoder(preprocessor(japanese_sentences))[\"default\"]\n",
        "italian_embeds = encoder(preprocessor(italian_sentences))[\"default\"]\n",
        "\n",
        "# For semantic similarity tasks, apply l2 normalization to embeddings\n",
        "english_embeds = normalization(english_embeds)\n",
        "japanese_embeds = normalization(japanese_embeds)\n",
        "italian_embeds = normalization(italian_embeds)\n",
        "\n",
        "print (np.matmul(english_embeds, np.transpose(italian_embeds)))\n",
        "\n",
        "# English-Japanese similarity\n",
        "print (np.matmul(english_embeds, np.transpose(japanese_embeds)))\n",
        "\n",
        "# Italian-Japanese similarity\n",
        "print (np.matmul(italian_embeds, np.transpose(japanese_embeds)))\n"
      ],
      "metadata": {
        "colab": {
          "base_uri": "https://localhost:8080/"
        },
        "id": "Go1ni38N5UPV",
        "outputId": "c0851c18-9b0e-460b-9d79-80a566c31e01"
      },
      "execution_count": 4,
      "outputs": [
        {
          "output_type": "stream",
          "name": "stdout",
          "text": [
            "[[0.63192916 0.30619782 0.44297493]\n",
            " [0.11652711 0.8596666  0.35940567]\n",
            " [0.14804006 0.32447952 0.9542651 ]]\n",
            "[[0.935672   0.5403067  0.46792293]\n",
            " [0.3180421  0.7622253  0.36085895]\n",
            " [0.36750716 0.42791528 0.8171454 ]]\n",
            "[[0.5343722  0.25018635 0.19974731]\n",
            " [0.30140823 0.71333206 0.40647537]\n",
            " [0.3850308  0.47767884 0.86743   ]]\n"
          ]
        }
      ]
    },
    {
      "cell_type": "markdown",
      "source": [
        "Let's try some stuff with it"
      ],
      "metadata": {
        "id": "7g-RRL_eCsA0"
      }
    },
    {
      "cell_type": "code",
      "source": [
        "bulgarian_sentences = tf.constant([\"куче\", \"Кученцата са сладки.\", \"Аз обичам дълги разходки по плажа с моето куче.\"])\n",
        "bulgarian_me_sentences = tf.constant([\"котка\", \"Не обичам кучета\", \"Който измисля изречения с кучета, а не с котки не е човек.\"])"
      ],
      "metadata": {
        "id": "DU3Ku6G551bQ"
      },
      "execution_count": 5,
      "outputs": []
    },
    {
      "cell_type": "code",
      "source": [
        "bulgarian_embeds = encoder(preprocessor(bulgarian_sentences))[\"default\"]\n",
        "bulgarian_me_embeds = encoder(preprocessor(bulgarian_me_sentences))[\"default\"]"
      ],
      "metadata": {
        "id": "jpM1R-J-CxbO"
      },
      "execution_count": 6,
      "outputs": []
    },
    {
      "cell_type": "code",
      "source": [
        "bulgarian_embeds = normalization(bulgarian_embeds)\n",
        "bulgarian_me_embeds = normalization(bulgarian_me_embeds)"
      ],
      "metadata": {
        "id": "PVHBebXCC6IN"
      },
      "execution_count": 7,
      "outputs": []
    },
    {
      "cell_type": "code",
      "source": [
        "print (np.matmul(bulgarian_embeds, np.transpose(bulgarian_me_embeds)))"
      ],
      "metadata": {
        "colab": {
          "base_uri": "https://localhost:8080/"
        },
        "id": "FXTBDnVeDNps",
        "outputId": "981eca7e-7b85-438c-cc46-5ae10147ce6c"
      },
      "execution_count": 8,
      "outputs": [
        {
          "output_type": "stream",
          "name": "stdout",
          "text": [
            "[[0.8836837  0.6050569  0.49100384]\n",
            " [0.23057853 0.43266857 0.25179577]\n",
            " [0.45354044 0.60121375 0.40188354]]\n"
          ]
        }
      ]
    },
    {
      "cell_type": "code",
      "source": [
        "print (np.matmul(bulgarian_embeds, np.transpose(english_embeds)))"
      ],
      "metadata": {
        "colab": {
          "base_uri": "https://localhost:8080/"
        },
        "id": "NT135g6wDS0X",
        "outputId": "658b3022-1577-43cc-e3dd-5d26e1e1b897"
      },
      "execution_count": 9,
      "outputs": [
        {
          "output_type": "stream",
          "name": "stdout",
          "text": [
            "[[0.94893646 0.35552067 0.4584133 ]\n",
            " [0.17250879 0.819975   0.23692328]\n",
            " [0.42679846 0.37889624 0.9307019 ]]\n"
          ]
        }
      ]
    },
    {
      "cell_type": "code",
      "source": [
        "print (np.matmul(bulgarian_embeds, np.transpose(japanese_embeds)))"
      ],
      "metadata": {
        "colab": {
          "base_uri": "https://localhost:8080/"
        },
        "id": "4qttab82Dezq",
        "outputId": "a15fa70f-1e3c-4e95-9a6e-04cc9a8560be"
      },
      "execution_count": 10,
      "outputs": [
        {
          "output_type": "stream",
          "name": "stdout",
          "text": [
            "[[0.87466383 0.5868841  0.53380346]\n",
            " [0.16530952 0.58843255 0.30696496]\n",
            " [0.3767397  0.4777222  0.85275865]]\n"
          ]
        }
      ]
    },
    {
      "cell_type": "markdown",
      "source": [
        "Printing does not make it, let's print a semantic similarity heatmap"
      ],
      "metadata": {
        "id": "cRRCrnWCDnXQ"
      }
    },
    {
      "cell_type": "code",
      "source": [
        "sns.heatmap(np.matmul(bulgarian_embeds, np.transpose(bulgarian_me_embeds)))"
      ],
      "metadata": {
        "colab": {
          "base_uri": "https://localhost:8080/",
          "height": 447
        },
        "outputId": "92716757-8eab-47c5-a057-dbe2cc8bb94f",
        "id": "xBsl8BihEtaN"
      },
      "execution_count": 11,
      "outputs": [
        {
          "output_type": "execute_result",
          "data": {
            "text/plain": [
              "<Axes: >"
            ]
          },
          "metadata": {},
          "execution_count": 11
        },
        {
          "output_type": "display_data",
          "data": {
            "text/plain": [
              "<Figure size 640x480 with 2 Axes>"
            ],
            "image/png": "[encoded data removed]"
          },
          "metadata": {}
        }
      ]
    },
    {
      "cell_type": "code",
      "source": [
        "sns.heatmap(np.matmul(bulgarian_embeds, np.transpose(english_embeds)))"
      ],
      "metadata": {
        "colab": {
          "base_uri": "https://localhost:8080/",
          "height": 447
        },
        "outputId": "a21c1e69-5bbb-44ff-f860-4fb3fc9bfc38",
        "id": "izgMu8oEEtal"
      },
      "execution_count": 12,
      "outputs": [
        {
          "output_type": "execute_result",
          "data": {
            "text/plain": [
              "<Axes: >"
            ]
          },
          "metadata": {},
          "execution_count": 12
        },
        {
          "output_type": "display_data",
          "data": {
            "text/plain": [
              "<Figure size 640x480 with 2 Axes>"
            ],
            "image/png": "[encoded data removed]"
          },
          "metadata": {}
        }
      ]
    },
    {
      "cell_type": "code",
      "source": [
        "sns.heatmap(np.matmul(bulgarian_embeds, np.transpose(japanese_embeds)))"
      ],
      "metadata": {
        "colab": {
          "base_uri": "https://localhost:8080/",
          "height": 447
        },
        "outputId": "10d0f853-f847-4eae-d7fd-7aa8441cef03",
        "id": "WEM7_FT5Etam"
      },
      "execution_count": 13,
      "outputs": [
        {
          "output_type": "execute_result",
          "data": {
            "text/plain": [
              "<Axes: >"
            ]
          },
          "metadata": {},
          "execution_count": 13
        },
        {
          "output_type": "display_data",
          "data": {
            "text/plain": [
              "<Figure size 640x480 with 2 Axes>"
            ],
            "image/png": "[encoded data removed]"
          },
          "metadata": {}
        }
      ]
    },
    {
      "cell_type": "code",
      "source": [
        "sns.heatmap(np.matmul(english_embeds, np.transpose(italian_embeds)))\n"
      ],
      "metadata": {
        "colab": {
          "base_uri": "https://localhost:8080/",
          "height": 447
        },
        "id": "b7_cVuXyDhkO",
        "outputId": "f7e2b567-278e-4e66-a5b2-b5cd9151b207"
      },
      "execution_count": 14,
      "outputs": [
        {
          "output_type": "execute_result",
          "data": {
            "text/plain": [
              "<Axes: >"
            ]
          },
          "metadata": {},
          "execution_count": 14
        },
        {
          "output_type": "display_data",
          "data": {
            "text/plain": [
              "<Figure size 640x480 with 2 Axes>"
            ],
            "image/png": "[encoded data removed]"
          },
          "metadata": {}
        }
      ]
    },
    {
      "cell_type": "code",
      "source": [
        "\n",
        "sns.heatmap(np.matmul(english_embeds, np.transpose(japanese_embeds)))\n",
        "\n"
      ],
      "metadata": {
        "colab": {
          "base_uri": "https://localhost:8080/",
          "height": 447
        },
        "id": "MYJTikHaE3Gl",
        "outputId": "0942f74f-cc23-40a8-889d-07d8943edb42"
      },
      "execution_count": 15,
      "outputs": [
        {
          "output_type": "execute_result",
          "data": {
            "text/plain": [
              "<Axes: >"
            ]
          },
          "metadata": {},
          "execution_count": 15
        },
        {
          "output_type": "display_data",
          "data": {
            "text/plain": [
              "<Figure size 640x480 with 2 Axes>"
            ],
            "image/png": "[encoded data removed]"
          },
          "metadata": {}
        }
      ]
    },
    {
      "cell_type": "code",
      "source": [
        "sns.heatmap(np.matmul(italian_embeds, np.transpose(japanese_embeds)))"
      ],
      "metadata": {
        "colab": {
          "base_uri": "https://localhost:8080/",
          "height": 447
        },
        "id": "nMZwu9mnE6vu",
        "outputId": "42924c8a-5a04-4ef0-f974-a411b526b1e8"
      },
      "execution_count": 16,
      "outputs": [
        {
          "output_type": "execute_result",
          "data": {
            "text/plain": [
              "<Axes: >"
            ]
          },
          "metadata": {},
          "execution_count": 16
        },
        {
          "output_type": "display_data",
          "data": {
            "text/plain": [
              "<Figure size 640x480 with 2 Axes>"
            ],
            "image/png": "[encoded data removed]"
          },
          "metadata": {}
        }
      ]
    }
  ]
}