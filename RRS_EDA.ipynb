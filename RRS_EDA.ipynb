{
 "cells": [
  {
   "cell_type": "code",
   "execution_count": 1,
   "metadata": {},
   "outputs": [],
   "source": [
    "%matplotlib inline"
   ]
  },
  {
   "cell_type": "code",
   "execution_count": 2,
   "metadata": {},
   "outputs": [],
   "source": [
    "import numpy as np\n",
    "import pandas as pd\n",
    "import matplotlib.pyplot as plt\n",
    "\n",
    "import ast\n",
    "from collections import Counter"
   ]
  },
  {
   "cell_type": "markdown",
   "metadata": {},
   "source": [
    "# Recipe Recommendation System\n",
    "### Could it recommend a subtitle too?\n",
    "\n",
    "## part 1 - Datasets and EDA"
   ]
  },
  {
   "cell_type": "markdown",
   "metadata": {},
   "source": []
  },
  {
   "cell_type": "markdown",
   "metadata": {},
   "source": [
    "https://www.kaggle.com/datasets/elisaxxygao/foodrecsysv1"
   ]
  },
  {
   "cell_type": "markdown",
   "metadata": {},
   "source": [
    "### 1.0 Recipes"
   ]
  },
  {
   "cell_type": "code",
   "execution_count": 3,
   "metadata": {},
   "outputs": [
    {
     "data": {
      "text/html": [
       "<div>\n",
       "<style scoped>\n",
       "    .dataframe tbody tr th:only-of-type {\n",
       "        vertical-align: middle;\n",
       "    }\n",
       "\n",
       "    .dataframe tbody tr th {\n",
       "        vertical-align: top;\n",
       "    }\n",
       "\n",
       "    .dataframe thead th {\n",
       "        text-align: right;\n",
       "    }\n",
       "</style>\n",
       "<table border=\"1\" class=\"dataframe\">\n",
       "  <thead>\n",
       "    <tr style=\"text-align: right;\">\n",
       "      <th></th>\n",
       "      <th>recipe_id</th>\n",
       "      <th>recipe_name</th>\n",
       "      <th>aver_rate</th>\n",
       "      <th>image_url</th>\n",
       "      <th>review_nums</th>\n",
       "      <th>ingredients</th>\n",
       "      <th>cooking_directions</th>\n",
       "      <th>nutritions</th>\n",
       "      <th>reviews</th>\n",
       "    </tr>\n",
       "  </thead>\n",
       "  <tbody>\n",
       "    <tr>\n",
       "      <th>0</th>\n",
       "      <td>222388</td>\n",
       "      <td>Homemade Bacon</td>\n",
       "      <td>5.000000</td>\n",
       "      <td>https://images.media-allrecipes.com/userphotos...</td>\n",
       "      <td>3</td>\n",
       "      <td>pork belly^smoked paprika^kosher salt^ground b...</td>\n",
       "      <td>{'directions': u'Prep\\n5 m\\nCook\\n2 h 45 m\\nRe...</td>\n",
       "      <td>{u'niacin': {u'hasCompleteData': False, u'name...</td>\n",
       "      <td>{8542392: {'rating': 5, 'followersCount': 11, ...</td>\n",
       "    </tr>\n",
       "    <tr>\n",
       "      <th>1</th>\n",
       "      <td>240488</td>\n",
       "      <td>Pork Loin, Apples, and Sauerkraut</td>\n",
       "      <td>4.764706</td>\n",
       "      <td>https://images.media-allrecipes.com/userphotos...</td>\n",
       "      <td>29</td>\n",
       "      <td>sauerkraut drained^Granny Smith apples sliced^...</td>\n",
       "      <td>{'directions': u'Prep\\n15 m\\nCook\\n2 h 30 m\\nR...</td>\n",
       "      <td>{u'niacin': {u'hasCompleteData': False, u'name...</td>\n",
       "      <td>{3574785: {'rating': 5, 'followersCount': 0, '...</td>\n",
       "    </tr>\n",
       "    <tr>\n",
       "      <th>2</th>\n",
       "      <td>218939</td>\n",
       "      <td>Foolproof Rosemary Chicken Wings</td>\n",
       "      <td>4.571429</td>\n",
       "      <td>https://images.media-allrecipes.com/userphotos...</td>\n",
       "      <td>12</td>\n",
       "      <td>chicken wings^sprigs rosemary^head garlic^oliv...</td>\n",
       "      <td>{'directions': u\"Prep\\n20 m\\nCook\\n40 m\\nReady...</td>\n",
       "      <td>{u'niacin': {u'hasCompleteData': True, u'name'...</td>\n",
       "      <td>{13774946: {'rating': 5, 'followersCount': 0, ...</td>\n",
       "    </tr>\n",
       "    <tr>\n",
       "      <th>3</th>\n",
       "      <td>87211</td>\n",
       "      <td>Chicken Pesto Paninis</td>\n",
       "      <td>4.625000</td>\n",
       "      <td>https://images.media-allrecipes.com/userphotos...</td>\n",
       "      <td>163</td>\n",
       "      <td>focaccia bread quartered^prepared basil pesto^...</td>\n",
       "      <td>{'directions': u'Prep\\n15 m\\nCook\\n5 m\\nReady ...</td>\n",
       "      <td>{u'niacin': {u'hasCompleteData': True, u'name'...</td>\n",
       "      <td>{1563136: {'rating': 5, 'followersCount': 0, '...</td>\n",
       "    </tr>\n",
       "    <tr>\n",
       "      <th>4</th>\n",
       "      <td>245714</td>\n",
       "      <td>Potato Bacon Pizza</td>\n",
       "      <td>4.500000</td>\n",
       "      <td>https://images.media-allrecipes.com/userphotos...</td>\n",
       "      <td>2</td>\n",
       "      <td>red potatoes^strips bacon^Sauce:^heavy whippin...</td>\n",
       "      <td>{'directions': u'Prep\\n20 m\\nCook\\n45 m\\nReady...</td>\n",
       "      <td>{u'niacin': {u'hasCompleteData': True, u'name'...</td>\n",
       "      <td>{2945555: {'rating': 5, 'followersCount': 6690...</td>\n",
       "    </tr>\n",
       "    <tr>\n",
       "      <th>...</th>\n",
       "      <td>...</td>\n",
       "      <td>...</td>\n",
       "      <td>...</td>\n",
       "      <td>...</td>\n",
       "      <td>...</td>\n",
       "      <td>...</td>\n",
       "      <td>...</td>\n",
       "      <td>...</td>\n",
       "      <td>...</td>\n",
       "    </tr>\n",
       "    <tr>\n",
       "      <th>49693</th>\n",
       "      <td>222886</td>\n",
       "      <td>Grateful Dead Cocktail</td>\n",
       "      <td>3.500000</td>\n",
       "      <td>https://images.media-allrecipes.com/userphotos...</td>\n",
       "      <td>4</td>\n",
       "      <td>fluid ounce tequila^fluid ounce vodka^fluid ou...</td>\n",
       "      <td>{'directions': u'Prep\\n5 m\\nReady In\\n5 m\\nCom...</td>\n",
       "      <td>{u'niacin': {u'hasCompleteData': False, u'name...</td>\n",
       "      <td>{2043209: {'rating': 5, 'followersCount': 1509...</td>\n",
       "    </tr>\n",
       "    <tr>\n",
       "      <th>49694</th>\n",
       "      <td>25650</td>\n",
       "      <td>Cheese Filling For Pastries</td>\n",
       "      <td>4.333333</td>\n",
       "      <td>https://images.media-allrecipes.com/userphotos...</td>\n",
       "      <td>3</td>\n",
       "      <td>raisins^brandy^cream cheese^white sugar^all-pu...</td>\n",
       "      <td>{'directions': u'Prep\\n15 m\\nReady In\\n15 m\\nS...</td>\n",
       "      <td>{u'niacin': {u'hasCompleteData': True, u'name'...</td>\n",
       "      <td>{1380296: {'rating': 4, 'followersCount': 0, '...</td>\n",
       "    </tr>\n",
       "    <tr>\n",
       "      <th>49695</th>\n",
       "      <td>23544</td>\n",
       "      <td>Peach Smoothie</td>\n",
       "      <td>3.615385</td>\n",
       "      <td>https://images.media-allrecipes.com/userphotos...</td>\n",
       "      <td>21</td>\n",
       "      <td>sliced peaches drained^scoops vanilla ice crea...</td>\n",
       "      <td>{'directions': u'Prep\\n1 m\\nReady In\\n1 m\\nIn ...</td>\n",
       "      <td>{u'niacin': {u'hasCompleteData': False, u'name...</td>\n",
       "      <td>{6412992: {'rating': 4, 'followersCount': 7, '...</td>\n",
       "    </tr>\n",
       "    <tr>\n",
       "      <th>49696</th>\n",
       "      <td>170710</td>\n",
       "      <td>Double Dare Peaches</td>\n",
       "      <td>4.714286</td>\n",
       "      <td>https://images.media-allrecipes.com/userphotos...</td>\n",
       "      <td>19</td>\n",
       "      <td>butter^habanero peppers^fresh peaches^brown su...</td>\n",
       "      <td>{'directions': u'Prep\\n20 m\\nCook\\n10 m\\nReady...</td>\n",
       "      <td>{u'niacin': {u'hasCompleteData': True, u'name'...</td>\n",
       "      <td>{2381248: {'rating': 5, 'followersCount': 2, '...</td>\n",
       "    </tr>\n",
       "    <tr>\n",
       "      <th>49697</th>\n",
       "      <td>79774</td>\n",
       "      <td>All-Purpose Marinara Sauce</td>\n",
       "      <td>4.500000</td>\n",
       "      <td>https://images.media-allrecipes.com/userphotos...</td>\n",
       "      <td>2</td>\n",
       "      <td>olive oil^bulb garlic^tomatoes chopped^diced t...</td>\n",
       "      <td>{'directions': u'Prep\\n15 m\\nCook\\n40 m\\nReady...</td>\n",
       "      <td>{u'niacin': {u'hasCompleteData': False, u'name...</td>\n",
       "      <td>{1245064: {'rating': 4, 'followersCount': 4, '...</td>\n",
       "    </tr>\n",
       "  </tbody>\n",
       "</table>\n",
       "<p>49698 rows × 9 columns</p>\n",
       "</div>"
      ],
      "text/plain": [
       "       recipe_id                        recipe_name  aver_rate  \\\n",
       "0         222388                     Homemade Bacon   5.000000   \n",
       "1         240488  Pork Loin, Apples, and Sauerkraut   4.764706   \n",
       "2         218939   Foolproof Rosemary Chicken Wings   4.571429   \n",
       "3          87211              Chicken Pesto Paninis   4.625000   \n",
       "4         245714                 Potato Bacon Pizza   4.500000   \n",
       "...          ...                                ...        ...   \n",
       "49693     222886             Grateful Dead Cocktail   3.500000   \n",
       "49694      25650        Cheese Filling For Pastries   4.333333   \n",
       "49695      23544                     Peach Smoothie   3.615385   \n",
       "49696     170710                Double Dare Peaches   4.714286   \n",
       "49697      79774         All-Purpose Marinara Sauce   4.500000   \n",
       "\n",
       "                                               image_url  review_nums  \\\n",
       "0      https://images.media-allrecipes.com/userphotos...            3   \n",
       "1      https://images.media-allrecipes.com/userphotos...           29   \n",
       "2      https://images.media-allrecipes.com/userphotos...           12   \n",
       "3      https://images.media-allrecipes.com/userphotos...          163   \n",
       "4      https://images.media-allrecipes.com/userphotos...            2   \n",
       "...                                                  ...          ...   \n",
       "49693  https://images.media-allrecipes.com/userphotos...            4   \n",
       "49694  https://images.media-allrecipes.com/userphotos...            3   \n",
       "49695  https://images.media-allrecipes.com/userphotos...           21   \n",
       "49696  https://images.media-allrecipes.com/userphotos...           19   \n",
       "49697  https://images.media-allrecipes.com/userphotos...            2   \n",
       "\n",
       "                                             ingredients  \\\n",
       "0      pork belly^smoked paprika^kosher salt^ground b...   \n",
       "1      sauerkraut drained^Granny Smith apples sliced^...   \n",
       "2      chicken wings^sprigs rosemary^head garlic^oliv...   \n",
       "3      focaccia bread quartered^prepared basil pesto^...   \n",
       "4      red potatoes^strips bacon^Sauce:^heavy whippin...   \n",
       "...                                                  ...   \n",
       "49693  fluid ounce tequila^fluid ounce vodka^fluid ou...   \n",
       "49694  raisins^brandy^cream cheese^white sugar^all-pu...   \n",
       "49695  sliced peaches drained^scoops vanilla ice crea...   \n",
       "49696  butter^habanero peppers^fresh peaches^brown su...   \n",
       "49697  olive oil^bulb garlic^tomatoes chopped^diced t...   \n",
       "\n",
       "                                      cooking_directions  \\\n",
       "0      {'directions': u'Prep\\n5 m\\nCook\\n2 h 45 m\\nRe...   \n",
       "1      {'directions': u'Prep\\n15 m\\nCook\\n2 h 30 m\\nR...   \n",
       "2      {'directions': u\"Prep\\n20 m\\nCook\\n40 m\\nReady...   \n",
       "3      {'directions': u'Prep\\n15 m\\nCook\\n5 m\\nReady ...   \n",
       "4      {'directions': u'Prep\\n20 m\\nCook\\n45 m\\nReady...   \n",
       "...                                                  ...   \n",
       "49693  {'directions': u'Prep\\n5 m\\nReady In\\n5 m\\nCom...   \n",
       "49694  {'directions': u'Prep\\n15 m\\nReady In\\n15 m\\nS...   \n",
       "49695  {'directions': u'Prep\\n1 m\\nReady In\\n1 m\\nIn ...   \n",
       "49696  {'directions': u'Prep\\n20 m\\nCook\\n10 m\\nReady...   \n",
       "49697  {'directions': u'Prep\\n15 m\\nCook\\n40 m\\nReady...   \n",
       "\n",
       "                                              nutritions  \\\n",
       "0      {u'niacin': {u'hasCompleteData': False, u'name...   \n",
       "1      {u'niacin': {u'hasCompleteData': False, u'name...   \n",
       "2      {u'niacin': {u'hasCompleteData': True, u'name'...   \n",
       "3      {u'niacin': {u'hasCompleteData': True, u'name'...   \n",
       "4      {u'niacin': {u'hasCompleteData': True, u'name'...   \n",
       "...                                                  ...   \n",
       "49693  {u'niacin': {u'hasCompleteData': False, u'name...   \n",
       "49694  {u'niacin': {u'hasCompleteData': True, u'name'...   \n",
       "49695  {u'niacin': {u'hasCompleteData': False, u'name...   \n",
       "49696  {u'niacin': {u'hasCompleteData': True, u'name'...   \n",
       "49697  {u'niacin': {u'hasCompleteData': False, u'name...   \n",
       "\n",
       "                                                 reviews  \n",
       "0      {8542392: {'rating': 5, 'followersCount': 11, ...  \n",
       "1      {3574785: {'rating': 5, 'followersCount': 0, '...  \n",
       "2      {13774946: {'rating': 5, 'followersCount': 0, ...  \n",
       "3      {1563136: {'rating': 5, 'followersCount': 0, '...  \n",
       "4      {2945555: {'rating': 5, 'followersCount': 6690...  \n",
       "...                                                  ...  \n",
       "49693  {2043209: {'rating': 5, 'followersCount': 1509...  \n",
       "49694  {1380296: {'rating': 4, 'followersCount': 0, '...  \n",
       "49695  {6412992: {'rating': 4, 'followersCount': 7, '...  \n",
       "49696  {2381248: {'rating': 5, 'followersCount': 2, '...  \n",
       "49697  {1245064: {'rating': 4, 'followersCount': 4, '...  \n",
       "\n",
       "[49698 rows x 9 columns]"
      ]
     },
     "execution_count": 3,
     "metadata": {},
     "output_type": "execute_result"
    }
   ],
   "source": [
    "recipes = pd.read_csv(\"data/foodRecSys-V1_kaggle/raw-data_recipe.csv\")\n",
    "recipes"
   ]
  },
  {
   "cell_type": "code",
   "execution_count": 4,
   "metadata": {},
   "outputs": [
    {
     "data": {
      "text/plain": [
       "recipe_id               int64\n",
       "recipe_name            object\n",
       "aver_rate             float64\n",
       "image_url              object\n",
       "review_nums             int64\n",
       "ingredients            object\n",
       "cooking_directions     object\n",
       "nutritions             object\n",
       "reviews                object\n",
       "dtype: object"
      ]
     },
     "execution_count": 4,
     "metadata": {},
     "output_type": "execute_result"
    }
   ],
   "source": [
    "recipes.dtypes"
   ]
  },
  {
   "cell_type": "code",
   "execution_count": 26,
   "metadata": {},
   "outputs": [
    {
     "data": {
      "text/html": [
       "<div>\n",
       "<style scoped>\n",
       "    .dataframe tbody tr th:only-of-type {\n",
       "        vertical-align: middle;\n",
       "    }\n",
       "\n",
       "    .dataframe tbody tr th {\n",
       "        vertical-align: top;\n",
       "    }\n",
       "\n",
       "    .dataframe thead th {\n",
       "        text-align: right;\n",
       "    }\n",
       "</style>\n",
       "<table border=\"1\" class=\"dataframe\">\n",
       "  <thead>\n",
       "    <tr style=\"text-align: right;\">\n",
       "      <th></th>\n",
       "      <th>count</th>\n",
       "      <th>mean</th>\n",
       "      <th>std</th>\n",
       "      <th>min</th>\n",
       "      <th>25%</th>\n",
       "      <th>50%</th>\n",
       "      <th>75%</th>\n",
       "      <th>max</th>\n",
       "    </tr>\n",
       "  </thead>\n",
       "  <tbody>\n",
       "    <tr>\n",
       "      <th>recipe_id</th>\n",
       "      <td>49698.0</td>\n",
       "      <td>131092.695119</td>\n",
       "      <td>98230.166389</td>\n",
       "      <td>6663.0</td>\n",
       "      <td>22244.250000</td>\n",
       "      <td>142057.500000</td>\n",
       "      <td>231644.750000</td>\n",
       "      <td>262956.0</td>\n",
       "    </tr>\n",
       "    <tr>\n",
       "      <th>aver_rate</th>\n",
       "      <td>49698.0</td>\n",
       "      <td>4.311699</td>\n",
       "      <td>0.485282</td>\n",
       "      <td>0.0</td>\n",
       "      <td>4.081311</td>\n",
       "      <td>4.411765</td>\n",
       "      <td>4.622239</td>\n",
       "      <td>5.0</td>\n",
       "    </tr>\n",
       "    <tr>\n",
       "      <th>review_nums</th>\n",
       "      <td>49698.0</td>\n",
       "      <td>76.342408</td>\n",
       "      <td>282.160920</td>\n",
       "      <td>1.0</td>\n",
       "      <td>6.000000</td>\n",
       "      <td>17.000000</td>\n",
       "      <td>54.000000</td>\n",
       "      <td>11191.0</td>\n",
       "    </tr>\n",
       "  </tbody>\n",
       "</table>\n",
       "</div>"
      ],
      "text/plain": [
       "               count           mean           std     min           25%  \\\n",
       "recipe_id    49698.0  131092.695119  98230.166389  6663.0  22244.250000   \n",
       "aver_rate    49698.0       4.311699      0.485282     0.0      4.081311   \n",
       "review_nums  49698.0      76.342408    282.160920     1.0      6.000000   \n",
       "\n",
       "                       50%            75%       max  \n",
       "recipe_id    142057.500000  231644.750000  262956.0  \n",
       "aver_rate         4.411765       4.622239       5.0  \n",
       "review_nums      17.000000      54.000000   11191.0  "
      ]
     },
     "execution_count": 26,
     "metadata": {},
     "output_type": "execute_result"
    }
   ],
   "source": [
    "recipes.describe().T"
   ]
  },
  {
   "cell_type": "code",
   "execution_count": 5,
   "metadata": {},
   "outputs": [
    {
     "data": {
      "text/plain": [
       "'{8542392: {\\'rating\\': 5, \\'followersCount\\': 11, \\'madeRecipesCount\\': 18, \\'favoritesCount\\': 200, \\'dateLastModified\\': u\\'2017-04-22T12:46:43.663\\', \\'text\\': u\"Best breakfast ever! I ran out of paprika while seasoning, so I used garlic piercer on the other half of the batch. Very good! Can\\'t wait to make it again... and figure out how to use the drippings!\", \\'followingCount\\': 0}, 11174581: {\\'rating\\': 5, \\'followersCount\\': 8, \\'madeRecipesCount\\': 55, \\'favoritesCount\\': 101, \\'dateLastModified\\': u\\'2013-06-20T15:50:25.96\\', \\'text\\': u\"Awesome!\\\\nIt\\'s amazing.\", \\'followingCount\\': 0}, 8262477: {\\'rating\\': 5, \\'followersCount\\': 0, \\'madeRecipesCount\\': 1, \\'favoritesCount\\': 52, \\'dateLastModified\\': u\\'2015-02-14T07:27:51.307\\', \\'text\\': u\\'The flavors came together well and it really was simple to prepare. My husband and I both enjoyed it!\\', \\'followingCount\\': 0}}\\n'"
      ]
     },
     "execution_count": 5,
     "metadata": {},
     "output_type": "execute_result"
    }
   ],
   "source": [
    "recipes.reviews[0]"
   ]
  },
  {
   "cell_type": "code",
   "execution_count": 6,
   "metadata": {},
   "outputs": [],
   "source": [
    "recipes = recipes.drop(columns = [\"image_url\", \"nutritions\"])"
   ]
  },
  {
   "cell_type": "code",
   "execution_count": 7,
   "metadata": {},
   "outputs": [],
   "source": [
    "recipes.ingredients = recipes.ingredients.str.split(\"^\")"
   ]
  },
  {
   "cell_type": "code",
   "execution_count": 8,
   "metadata": {},
   "outputs": [
    {
     "data": {
      "text/plain": [
       "['pork belly', 'smoked paprika', 'kosher salt', 'ground black pepper']"
      ]
     },
     "execution_count": 8,
     "metadata": {},
     "output_type": "execute_result"
    }
   ],
   "source": [
    "recipes.ingredients[0]"
   ]
  },
  {
   "cell_type": "code",
   "execution_count": 9,
   "metadata": {},
   "outputs": [],
   "source": [
    "recipes.cooking_directions = recipes.cooking_directions.apply(ast.literal_eval)"
   ]
  },
  {
   "cell_type": "code",
   "execution_count": 10,
   "metadata": {},
   "outputs": [],
   "source": [
    "# Make sure there is only \"directions\" info\n",
    "assert(recipes.cooking_directions.apply(lambda x: len(x.keys()) == 1).all())\n",
    "assert(recipes.cooking_directions.apply(lambda x: list(x.keys())[0] == \"directions\").all())"
   ]
  },
  {
   "cell_type": "code",
   "execution_count": 11,
   "metadata": {},
   "outputs": [],
   "source": [
    "# reduce to string\n",
    "recipes.cooking_directions = recipes.cooking_directions.apply(lambda x: list(x.values())[0])"
   ]
  },
  {
   "cell_type": "code",
   "execution_count": 12,
   "metadata": {},
   "outputs": [
    {
     "data": {
      "text/plain": [
       "str"
      ]
     },
     "execution_count": 12,
     "metadata": {},
     "output_type": "execute_result"
    }
   ],
   "source": [
    "type(recipes.cooking_directions[0])"
   ]
  },
  {
   "cell_type": "code",
   "execution_count": 13,
   "metadata": {},
   "outputs": [
    {
     "data": {
      "text/html": [
       "<div>\n",
       "<style scoped>\n",
       "    .dataframe tbody tr th:only-of-type {\n",
       "        vertical-align: middle;\n",
       "    }\n",
       "\n",
       "    .dataframe tbody tr th {\n",
       "        vertical-align: top;\n",
       "    }\n",
       "\n",
       "    .dataframe thead th {\n",
       "        text-align: right;\n",
       "    }\n",
       "</style>\n",
       "<table border=\"1\" class=\"dataframe\">\n",
       "  <thead>\n",
       "    <tr style=\"text-align: right;\">\n",
       "      <th></th>\n",
       "      <th>recipe_id</th>\n",
       "      <th>recipe_name</th>\n",
       "      <th>aver_rate</th>\n",
       "      <th>review_nums</th>\n",
       "      <th>ingredients</th>\n",
       "      <th>cooking_directions</th>\n",
       "      <th>reviews</th>\n",
       "    </tr>\n",
       "  </thead>\n",
       "  <tbody>\n",
       "    <tr>\n",
       "      <th>40594</th>\n",
       "      <td>6667</td>\n",
       "      <td>Cornish Splits</td>\n",
       "      <td>4.333333</td>\n",
       "      <td>87</td>\n",
       "      <td>[active dry yeast, lukewarm milk, white sugar,...</td>\n",
       "      <td>In a small bowl, dissolve the yeast in the mil...</td>\n",
       "      <td>{3045389: {'rating': 1, 'followersCount': 3, '...</td>\n",
       "    </tr>\n",
       "  </tbody>\n",
       "</table>\n",
       "</div>"
      ],
      "text/plain": [
       "       recipe_id     recipe_name  aver_rate  review_nums  \\\n",
       "40594       6667  Cornish Splits   4.333333           87   \n",
       "\n",
       "                                             ingredients  \\\n",
       "40594  [active dry yeast, lukewarm milk, white sugar,...   \n",
       "\n",
       "                                      cooking_directions  \\\n",
       "40594  In a small bowl, dissolve the yeast in the mil...   \n",
       "\n",
       "                                                 reviews  \n",
       "40594  {3045389: {'rating': 1, 'followersCount': 3, '...  "
      ]
     },
     "execution_count": 13,
     "metadata": {},
     "output_type": "execute_result"
    }
   ],
   "source": [
    "recipes[recipes.recipe_id == 6667]"
   ]
  },
  {
   "cell_type": "code",
   "execution_count": 14,
   "metadata": {},
   "outputs": [],
   "source": [
    "# pretty print recipe with matching image by id"
   ]
  },
  {
   "cell_type": "code",
   "execution_count": 15,
   "metadata": {},
   "outputs": [],
   "source": [
    "# [item for row in matrix for item in row]"
   ]
  },
  {
   "cell_type": "code",
   "execution_count": 16,
   "metadata": {},
   "outputs": [],
   "source": [
    "ingredients_flat = [ingredient for recipe in recipes.ingredients for ingredient in recipe]"
   ]
  },
  {
   "cell_type": "code",
   "execution_count": 17,
   "metadata": {},
   "outputs": [],
   "source": [
    "ingredients_counter = Counter(ingredients_flat)"
   ]
  },
  {
   "cell_type": "code",
   "execution_count": 18,
   "metadata": {},
   "outputs": [
    {
     "data": {
      "text/plain": [
       "38131"
      ]
     },
     "execution_count": 18,
     "metadata": {},
     "output_type": "execute_result"
    }
   ],
   "source": [
    "len(ingredients_counter)"
   ]
  },
  {
   "cell_type": "code",
   "execution_count": 19,
   "metadata": {},
   "outputs": [
    {
     "data": {
      "text/plain": [
       "454274"
      ]
     },
     "execution_count": 19,
     "metadata": {},
     "output_type": "execute_result"
    }
   ],
   "source": [
    "ingredients_counter.total()"
   ]
  },
  {
   "cell_type": "code",
   "execution_count": 20,
   "metadata": {},
   "outputs": [
    {
     "data": {
      "text/plain": [
       "[('salt', 15070),\n",
       " ('butter', 13263),\n",
       " ('white sugar', 13032),\n",
       " ('all-purpose flour', 10257),\n",
       " ('garlic', 8113),\n",
       " ('water', 7626),\n",
       " ('olive oil', 7531),\n",
       " ('vanilla extract', 6507),\n",
       " ('milk', 6258),\n",
       " ('eggs', 5856)]"
      ]
     },
     "execution_count": 20,
     "metadata": {},
     "output_type": "execute_result"
    }
   ],
   "source": [
    "ingredients_counter.most_common(10)"
   ]
  },
  {
   "cell_type": "code",
   "execution_count": 21,
   "metadata": {},
   "outputs": [
    {
     "data": {
      "text/plain": [
       "[('jalapeno-stuffed green olives', 1),\n",
       " ('fluid ounce) jiggers premium tequila', 1),\n",
       " ('fluid ounce) jigger orange liqueur', 1),\n",
       " ('fluid ounce) jigger sweetened lime juice', 1),\n",
       " ('fluid ounces beer (such as Miller® High Life®)', 1),\n",
       " ('fluid ounces cola-flavored carbonated beverage (such as Coca-Cola®)', 1),\n",
       " ('fresh red currants', 1),\n",
       " ('fluid ounces liquid fruit pectin', 1),\n",
       " ('Almond Breeze Coconutmilk Almondmilk Original Unsweetened', 1),\n",
       " ('Meyer lemon juiced and peeled', 1),\n",
       " ('fluid ounces spiced rum (such as Kraken®)', 1),\n",
       " ('fluid ounce freshly squeezed orange juice', 1),\n",
       " ('fluid ounce white rum (such as Captain Morgan™)', 1),\n",
       " (\"fluid ounce dark rum (such as Myers's®)\", 1),\n",
       " ('fluid ounce hibiscus syrup', 1),\n",
       " ('fluid ounce almond orgeat syrup (such as Torani®)', 1),\n",
       " ('black beans drained and liquid reserved', 1),\n",
       " ('fluid ounces reduced calorie cranberry juice cocktail', 1),\n",
       " ('fluid ounces reduced calorie lemonade', 1),\n",
       " ('crushed jalapeno and habanero peanut brittle (such as Klondike Candies®) (optional)',\n",
       "  1)]"
      ]
     },
     "execution_count": 21,
     "metadata": {},
     "output_type": "execute_result"
    }
   ],
   "source": [
    "ingredients_counter.most_common()[-20:]"
   ]
  },
  {
   "cell_type": "markdown",
   "metadata": {},
   "source": [
    "measuring units, brands and preparation methods (squeezed) to be removed for accurate counting -> text processing instead of naive vectorization\n",
    "\n",
    "from i don't remember which article mean(embedding_title, embedding_ingredients, embedding_directions)"
   ]
  },
  {
   "cell_type": "code",
   "execution_count": 22,
   "metadata": {},
   "outputs": [],
   "source": [
    "top_20 = ingredients_counter.most_common(20)\n",
    "most_common_keys = list(reversed([x[0] for x in top_20]))\n",
    "most_common_counts = list(reversed([x[1] for x in top_20]))"
   ]
  },
  {
   "cell_type": "code",
   "execution_count": 23,
   "metadata": {},
   "outputs": [
    {
     "data": {
      "image/png": "[encoded data removed]",
      "text/plain": [
       "<Figure size 640x480 with 1 Axes>"
      ]
     },
     "metadata": {},
     "output_type": "display_data"
    }
   ],
   "source": [
    "plt.barh(most_common_keys, most_common_counts)\n",
    "plt.show()"
   ]
  },
  {
   "cell_type": "code",
   "execution_count": null,
   "metadata": {},
   "outputs": [],
   "source": []
  },
  {
   "cell_type": "code",
   "execution_count": null,
   "metadata": {},
   "outputs": [],
   "source": []
  },
  {
   "cell_type": "markdown",
   "metadata": {},
   "source": [
    "### 2.0 Ratings"
   ]
  },
  {
   "cell_type": "markdown",
   "metadata": {},
   "source": []
  },
  {
   "cell_type": "markdown",
   "metadata": {},
   "source": []
  },
  {
   "cell_type": "code",
   "execution_count": 49,
   "metadata": {},
   "outputs": [
    {
     "data": {
      "text/html": [
       "<div>\n",
       "<style scoped>\n",
       "    .dataframe tbody tr th:only-of-type {\n",
       "        vertical-align: middle;\n",
       "    }\n",
       "\n",
       "    .dataframe tbody tr th {\n",
       "        vertical-align: top;\n",
       "    }\n",
       "\n",
       "    .dataframe thead th {\n",
       "        text-align: right;\n",
       "    }\n",
       "</style>\n",
       "<table border=\"1\" class=\"dataframe\">\n",
       "  <thead>\n",
       "    <tr style=\"text-align: right;\">\n",
       "      <th></th>\n",
       "      <th>user_id</th>\n",
       "      <th>recipe_id</th>\n",
       "      <th>rating</th>\n",
       "      <th>dateLastModified</th>\n",
       "    </tr>\n",
       "  </thead>\n",
       "  <tbody>\n",
       "    <tr>\n",
       "      <th>0</th>\n",
       "      <td>8542392</td>\n",
       "      <td>222388</td>\n",
       "      <td>5</td>\n",
       "      <td>2017-04-22T12:46:43.663\\n</td>\n",
       "    </tr>\n",
       "    <tr>\n",
       "      <th>1</th>\n",
       "      <td>11174581</td>\n",
       "      <td>222388</td>\n",
       "      <td>5</td>\n",
       "      <td>2013-06-20T15:50:25.96\\n</td>\n",
       "    </tr>\n",
       "    <tr>\n",
       "      <th>2</th>\n",
       "      <td>8262477</td>\n",
       "      <td>222388</td>\n",
       "      <td>5</td>\n",
       "      <td>2015-02-14T07:27:51.307\\n</td>\n",
       "    </tr>\n",
       "    <tr>\n",
       "      <th>3</th>\n",
       "      <td>3574785</td>\n",
       "      <td>240488</td>\n",
       "      <td>5</td>\n",
       "      <td>2017-10-07T18:20:08.973\\n</td>\n",
       "    </tr>\n",
       "    <tr>\n",
       "      <th>4</th>\n",
       "      <td>12145410</td>\n",
       "      <td>240488</td>\n",
       "      <td>2</td>\n",
       "      <td>2018-01-06T00:06:09.563\\n</td>\n",
       "    </tr>\n",
       "    <tr>\n",
       "      <th>...</th>\n",
       "      <td>...</td>\n",
       "      <td>...</td>\n",
       "      <td>...</td>\n",
       "      <td>...</td>\n",
       "    </tr>\n",
       "    <tr>\n",
       "      <th>3793998</th>\n",
       "      <td>12318233</td>\n",
       "      <td>170710</td>\n",
       "      <td>5</td>\n",
       "      <td>2013-11-03T11:09:47.763\\n</td>\n",
       "    </tr>\n",
       "    <tr>\n",
       "      <th>3793999</th>\n",
       "      <td>51226</td>\n",
       "      <td>170710</td>\n",
       "      <td>5</td>\n",
       "      <td>2009-07-18T19:33:36.317\\n</td>\n",
       "    </tr>\n",
       "    <tr>\n",
       "      <th>3794000</th>\n",
       "      <td>1476783</td>\n",
       "      <td>170710</td>\n",
       "      <td>5</td>\n",
       "      <td>2009-07-27T10:21:45.823\\n</td>\n",
       "    </tr>\n",
       "    <tr>\n",
       "      <th>3794001</th>\n",
       "      <td>1245064</td>\n",
       "      <td>79774</td>\n",
       "      <td>4</td>\n",
       "      <td>2006-01-21T20:57:09.327\\n</td>\n",
       "    </tr>\n",
       "    <tr>\n",
       "      <th>3794002</th>\n",
       "      <td>982699</td>\n",
       "      <td>79774</td>\n",
       "      <td>4</td>\n",
       "      <td>2007-07-22T14:59:17.393\\n</td>\n",
       "    </tr>\n",
       "  </tbody>\n",
       "</table>\n",
       "<p>3794003 rows × 4 columns</p>\n",
       "</div>"
      ],
      "text/plain": [
       "          user_id  recipe_id  rating           dateLastModified\n",
       "0         8542392     222388       5  2017-04-22T12:46:43.663\\n\n",
       "1        11174581     222388       5   2013-06-20T15:50:25.96\\n\n",
       "2         8262477     222388       5  2015-02-14T07:27:51.307\\n\n",
       "3         3574785     240488       5  2017-10-07T18:20:08.973\\n\n",
       "4        12145410     240488       2  2018-01-06T00:06:09.563\\n\n",
       "...           ...        ...     ...                        ...\n",
       "3793998  12318233     170710       5  2013-11-03T11:09:47.763\\n\n",
       "3793999     51226     170710       5  2009-07-18T19:33:36.317\\n\n",
       "3794000   1476783     170710       5  2009-07-27T10:21:45.823\\n\n",
       "3794001   1245064      79774       4  2006-01-21T20:57:09.327\\n\n",
       "3794002    982699      79774       4  2007-07-22T14:59:17.393\\n\n",
       "\n",
       "[3794003 rows x 4 columns]"
      ]
     },
     "execution_count": 49,
     "metadata": {},
     "output_type": "execute_result"
    }
   ],
   "source": [
    "interactions = pd.read_csv(\"data/foodRecSys-V1_kaggle/raw-data_interaction.csv\")\n",
    "interactions"
   ]
  },
  {
   "cell_type": "code",
   "execution_count": 50,
   "metadata": {},
   "outputs": [
    {
     "data": {
      "text/plain": [
       "user_id              int64\n",
       "recipe_id            int64\n",
       "rating               int64\n",
       "dateLastModified    object\n",
       "dtype: object"
      ]
     },
     "execution_count": 50,
     "metadata": {},
     "output_type": "execute_result"
    }
   ],
   "source": [
    "interactions.dtypes"
   ]
  },
  {
   "cell_type": "code",
   "execution_count": 52,
   "metadata": {},
   "outputs": [],
   "source": [
    "interactions.dateLastModified = pd.to_datetime(interactions.dateLastModified, format = \"ISO8601\")"
   ]
  },
  {
   "cell_type": "code",
   "execution_count": 54,
   "metadata": {},
   "outputs": [
    {
     "data": {
      "text/html": [
       "<div>\n",
       "<style scoped>\n",
       "    .dataframe tbody tr th:only-of-type {\n",
       "        vertical-align: middle;\n",
       "    }\n",
       "\n",
       "    .dataframe tbody tr th {\n",
       "        vertical-align: top;\n",
       "    }\n",
       "\n",
       "    .dataframe thead th {\n",
       "        text-align: right;\n",
       "    }\n",
       "</style>\n",
       "<table border=\"1\" class=\"dataframe\">\n",
       "  <thead>\n",
       "    <tr style=\"text-align: right;\">\n",
       "      <th></th>\n",
       "      <th>count</th>\n",
       "      <th>mean</th>\n",
       "      <th>min</th>\n",
       "      <th>25%</th>\n",
       "      <th>50%</th>\n",
       "      <th>75%</th>\n",
       "      <th>max</th>\n",
       "      <th>std</th>\n",
       "    </tr>\n",
       "  </thead>\n",
       "  <tbody>\n",
       "    <tr>\n",
       "      <th>user_id</th>\n",
       "      <td>3794003.0</td>\n",
       "      <td>4860242.781291</td>\n",
       "      <td>16.0</td>\n",
       "      <td>1404674.0</td>\n",
       "      <td>2954489.0</td>\n",
       "      <td>6384689.0</td>\n",
       "      <td>23463743.0</td>\n",
       "      <td>5010314.802679</td>\n",
       "    </tr>\n",
       "    <tr>\n",
       "      <th>recipe_id</th>\n",
       "      <td>3794003.0</td>\n",
       "      <td>61121.799155</td>\n",
       "      <td>6663.0</td>\n",
       "      <td>14235.0</td>\n",
       "      <td>23390.0</td>\n",
       "      <td>78649.0</td>\n",
       "      <td>262956.0</td>\n",
       "      <td>71787.206572</td>\n",
       "    </tr>\n",
       "    <tr>\n",
       "      <th>rating</th>\n",
       "      <td>3794003.0</td>\n",
       "      <td>4.513192</td>\n",
       "      <td>1.0</td>\n",
       "      <td>4.0</td>\n",
       "      <td>5.0</td>\n",
       "      <td>5.0</td>\n",
       "      <td>5.0</td>\n",
       "      <td>0.875418</td>\n",
       "    </tr>\n",
       "    <tr>\n",
       "      <th>dateLastModified</th>\n",
       "      <td>3794003</td>\n",
       "      <td>2010-10-22 14:10:57.267878656</td>\n",
       "      <td>2000-02-07 21:06:30.137000</td>\n",
       "      <td>2008-02-25 06:23:30.880000</td>\n",
       "      <td>2010-10-25 12:15:48.150000128</td>\n",
       "      <td>2013-12-24 06:31:24.813499904</td>\n",
       "      <td>2018-03-16 07:19:52.260000</td>\n",
       "      <td>NaN</td>\n",
       "    </tr>\n",
       "  </tbody>\n",
       "</table>\n",
       "</div>"
      ],
      "text/plain": [
       "                      count                           mean  \\\n",
       "user_id           3794003.0                 4860242.781291   \n",
       "recipe_id         3794003.0                   61121.799155   \n",
       "rating            3794003.0                       4.513192   \n",
       "dateLastModified    3794003  2010-10-22 14:10:57.267878656   \n",
       "\n",
       "                                         min                         25%  \\\n",
       "user_id                                 16.0                   1404674.0   \n",
       "recipe_id                             6663.0                     14235.0   \n",
       "rating                                   1.0                         4.0   \n",
       "dateLastModified  2000-02-07 21:06:30.137000  2008-02-25 06:23:30.880000   \n",
       "\n",
       "                                            50%  \\\n",
       "user_id                               2954489.0   \n",
       "recipe_id                               23390.0   \n",
       "rating                                      5.0   \n",
       "dateLastModified  2010-10-25 12:15:48.150000128   \n",
       "\n",
       "                                            75%                         max  \\\n",
       "user_id                               6384689.0                  23463743.0   \n",
       "recipe_id                               78649.0                    262956.0   \n",
       "rating                                      5.0                         5.0   \n",
       "dateLastModified  2013-12-24 06:31:24.813499904  2018-03-16 07:19:52.260000   \n",
       "\n",
       "                             std  \n",
       "user_id           5010314.802679  \n",
       "recipe_id           71787.206572  \n",
       "rating                  0.875418  \n",
       "dateLastModified             NaN  "
      ]
     },
     "execution_count": 54,
     "metadata": {},
     "output_type": "execute_result"
    }
   ],
   "source": [
    "interactions.describe().T"
   ]
  },
  {
   "cell_type": "code",
   "execution_count": 64,
   "metadata": {},
   "outputs": [
    {
     "data": {
      "image/png": "[encoded data removed]",
      "text/plain": [
       "<Figure size 640x480 with 1 Axes>"
      ]
     },
     "metadata": {},
     "output_type": "display_data"
    }
   ],
   "source": [
    "plt.hist(interactions.rating, bins = range(6),)\n",
    "plt.semilogy()\n",
    "plt.show()"
   ]
  },
  {
   "cell_type": "code",
   "execution_count": 58,
   "metadata": {},
   "outputs": [
    {
     "data": {
      "image/png": "[encoded data removed]",
      "text/plain": [
       "<Figure size 640x480 with 1 Axes>"
      ]
     },
     "metadata": {},
     "output_type": "display_data"
    }
   ],
   "source": [
    "plt.hist(interactions.dateLastModified.dt.year)\n",
    "plt.show()"
   ]
  },
  {
   "cell_type": "code",
   "execution_count": null,
   "metadata": {},
   "outputs": [],
   "source": []
  }
 ],
 "metadata": {
  "kernelspec": {
   "display_name": "mlflowkernel",
   "language": "python",
   "name": "mlflowkernel"
  },
  "language_info": {
   "codemirror_mode": {
    "name": "ipython",
    "version": 3
   },
   "file_extension": ".py",
   "mimetype": "text/x-python",
   "name": "python",
   "nbconvert_exporter": "python",
   "pygments_lexer": "ipython3",
   "version": "3.11.6"
  }
 },
 "nbformat": 4,
 "nbformat_minor": 2
}
