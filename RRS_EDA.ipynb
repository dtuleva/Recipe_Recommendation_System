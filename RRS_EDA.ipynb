{
 "cells": [
  {
   "cell_type": "code",
   "execution_count": 4,
   "metadata": {},
   "outputs": [],
   "source": [
    "%matplotlib inline"
   ]
  },
  {
   "cell_type": "code",
   "execution_count": 5,
   "metadata": {},
   "outputs": [],
   "source": [
    "import ast\n",
    "from collections import Counter\n",
    "\n",
    "import numpy as np\n",
    "import pandas as pd\n",
    "import matplotlib.pyplot as plt\n",
    "import seaborn as sns\n",
    "\n",
    "import tensorflow as tf\n"
   ]
  },
  {
   "cell_type": "markdown",
   "metadata": {},
   "source": [
    "# Recipe Recommendation System\n",
    "### Could it recommend a subtitle too?\n",
    "\n",
    "## part 1 - Datasets and EDA"
   ]
  },
  {
   "cell_type": "markdown",
   "metadata": {},
   "source": []
  },
  {
   "cell_type": "markdown",
   "metadata": {},
   "source": [
    "https://www.kaggle.com/datasets/elisaxxygao/foodrecsysv1"
   ]
  },
  {
   "cell_type": "markdown",
   "metadata": {},
   "source": [
    "### 1.0 Recipes"
   ]
  },
  {
   "cell_type": "code",
   "execution_count": 6,
   "metadata": {},
   "outputs": [
    {
     "data": {
      "text/html": [
       "<div>\n",
       "<style scoped>\n",
       "    .dataframe tbody tr th:only-of-type {\n",
       "        vertical-align: middle;\n",
       "    }\n",
       "\n",
       "    .dataframe tbody tr th {\n",
       "        vertical-align: top;\n",
       "    }\n",
       "\n",
       "    .dataframe thead th {\n",
       "        text-align: right;\n",
       "    }\n",
       "</style>\n",
       "<table border=\"1\" class=\"dataframe\">\n",
       "  <thead>\n",
       "    <tr style=\"text-align: right;\">\n",
       "      <th></th>\n",
       "      <th>recipe_id</th>\n",
       "      <th>recipe_name</th>\n",
       "      <th>aver_rate</th>\n",
       "      <th>image_url</th>\n",
       "      <th>review_nums</th>\n",
       "      <th>ingredients</th>\n",
       "      <th>cooking_directions</th>\n",
       "      <th>nutritions</th>\n",
       "      <th>reviews</th>\n",
       "    </tr>\n",
       "  </thead>\n",
       "  <tbody>\n",
       "    <tr>\n",
       "      <th>0</th>\n",
       "      <td>222388</td>\n",
       "      <td>Homemade Bacon</td>\n",
       "      <td>5.000000</td>\n",
       "      <td>https://images.media-allrecipes.com/userphotos...</td>\n",
       "      <td>3</td>\n",
       "      <td>pork belly^smoked paprika^kosher salt^ground b...</td>\n",
       "      <td>{'directions': u'Prep\\n5 m\\nCook\\n2 h 45 m\\nRe...</td>\n",
       "      <td>{u'niacin': {u'hasCompleteData': False, u'name...</td>\n",
       "      <td>{8542392: {'rating': 5, 'followersCount': 11, ...</td>\n",
       "    </tr>\n",
       "    <tr>\n",
       "      <th>1</th>\n",
       "      <td>240488</td>\n",
       "      <td>Pork Loin, Apples, and Sauerkraut</td>\n",
       "      <td>4.764706</td>\n",
       "      <td>https://images.media-allrecipes.com/userphotos...</td>\n",
       "      <td>29</td>\n",
       "      <td>sauerkraut drained^Granny Smith apples sliced^...</td>\n",
       "      <td>{'directions': u'Prep\\n15 m\\nCook\\n2 h 30 m\\nR...</td>\n",
       "      <td>{u'niacin': {u'hasCompleteData': False, u'name...</td>\n",
       "      <td>{3574785: {'rating': 5, 'followersCount': 0, '...</td>\n",
       "    </tr>\n",
       "    <tr>\n",
       "      <th>2</th>\n",
       "      <td>218939</td>\n",
       "      <td>Foolproof Rosemary Chicken Wings</td>\n",
       "      <td>4.571429</td>\n",
       "      <td>https://images.media-allrecipes.com/userphotos...</td>\n",
       "      <td>12</td>\n",
       "      <td>chicken wings^sprigs rosemary^head garlic^oliv...</td>\n",
       "      <td>{'directions': u\"Prep\\n20 m\\nCook\\n40 m\\nReady...</td>\n",
       "      <td>{u'niacin': {u'hasCompleteData': True, u'name'...</td>\n",
       "      <td>{13774946: {'rating': 5, 'followersCount': 0, ...</td>\n",
       "    </tr>\n",
       "    <tr>\n",
       "      <th>3</th>\n",
       "      <td>87211</td>\n",
       "      <td>Chicken Pesto Paninis</td>\n",
       "      <td>4.625000</td>\n",
       "      <td>https://images.media-allrecipes.com/userphotos...</td>\n",
       "      <td>163</td>\n",
       "      <td>focaccia bread quartered^prepared basil pesto^...</td>\n",
       "      <td>{'directions': u'Prep\\n15 m\\nCook\\n5 m\\nReady ...</td>\n",
       "      <td>{u'niacin': {u'hasCompleteData': True, u'name'...</td>\n",
       "      <td>{1563136: {'rating': 5, 'followersCount': 0, '...</td>\n",
       "    </tr>\n",
       "    <tr>\n",
       "      <th>4</th>\n",
       "      <td>245714</td>\n",
       "      <td>Potato Bacon Pizza</td>\n",
       "      <td>4.500000</td>\n",
       "      <td>https://images.media-allrecipes.com/userphotos...</td>\n",
       "      <td>2</td>\n",
       "      <td>red potatoes^strips bacon^Sauce:^heavy whippin...</td>\n",
       "      <td>{'directions': u'Prep\\n20 m\\nCook\\n45 m\\nReady...</td>\n",
       "      <td>{u'niacin': {u'hasCompleteData': True, u'name'...</td>\n",
       "      <td>{2945555: {'rating': 5, 'followersCount': 6690...</td>\n",
       "    </tr>\n",
       "    <tr>\n",
       "      <th>...</th>\n",
       "      <td>...</td>\n",
       "      <td>...</td>\n",
       "      <td>...</td>\n",
       "      <td>...</td>\n",
       "      <td>...</td>\n",
       "      <td>...</td>\n",
       "      <td>...</td>\n",
       "      <td>...</td>\n",
       "      <td>...</td>\n",
       "    </tr>\n",
       "    <tr>\n",
       "      <th>49693</th>\n",
       "      <td>222886</td>\n",
       "      <td>Grateful Dead Cocktail</td>\n",
       "      <td>3.500000</td>\n",
       "      <td>https://images.media-allrecipes.com/userphotos...</td>\n",
       "      <td>4</td>\n",
       "      <td>fluid ounce tequila^fluid ounce vodka^fluid ou...</td>\n",
       "      <td>{'directions': u'Prep\\n5 m\\nReady In\\n5 m\\nCom...</td>\n",
       "      <td>{u'niacin': {u'hasCompleteData': False, u'name...</td>\n",
       "      <td>{2043209: {'rating': 5, 'followersCount': 1509...</td>\n",
       "    </tr>\n",
       "    <tr>\n",
       "      <th>49694</th>\n",
       "      <td>25650</td>\n",
       "      <td>Cheese Filling For Pastries</td>\n",
       "      <td>4.333333</td>\n",
       "      <td>https://images.media-allrecipes.com/userphotos...</td>\n",
       "      <td>3</td>\n",
       "      <td>raisins^brandy^cream cheese^white sugar^all-pu...</td>\n",
       "      <td>{'directions': u'Prep\\n15 m\\nReady In\\n15 m\\nS...</td>\n",
       "      <td>{u'niacin': {u'hasCompleteData': True, u'name'...</td>\n",
       "      <td>{1380296: {'rating': 4, 'followersCount': 0, '...</td>\n",
       "    </tr>\n",
       "    <tr>\n",
       "      <th>49695</th>\n",
       "      <td>23544</td>\n",
       "      <td>Peach Smoothie</td>\n",
       "      <td>3.615385</td>\n",
       "      <td>https://images.media-allrecipes.com/userphotos...</td>\n",
       "      <td>21</td>\n",
       "      <td>sliced peaches drained^scoops vanilla ice crea...</td>\n",
       "      <td>{'directions': u'Prep\\n1 m\\nReady In\\n1 m\\nIn ...</td>\n",
       "      <td>{u'niacin': {u'hasCompleteData': False, u'name...</td>\n",
       "      <td>{6412992: {'rating': 4, 'followersCount': 7, '...</td>\n",
       "    </tr>\n",
       "    <tr>\n",
       "      <th>49696</th>\n",
       "      <td>170710</td>\n",
       "      <td>Double Dare Peaches</td>\n",
       "      <td>4.714286</td>\n",
       "      <td>https://images.media-allrecipes.com/userphotos...</td>\n",
       "      <td>19</td>\n",
       "      <td>butter^habanero peppers^fresh peaches^brown su...</td>\n",
       "      <td>{'directions': u'Prep\\n20 m\\nCook\\n10 m\\nReady...</td>\n",
       "      <td>{u'niacin': {u'hasCompleteData': True, u'name'...</td>\n",
       "      <td>{2381248: {'rating': 5, 'followersCount': 2, '...</td>\n",
       "    </tr>\n",
       "    <tr>\n",
       "      <th>49697</th>\n",
       "      <td>79774</td>\n",
       "      <td>All-Purpose Marinara Sauce</td>\n",
       "      <td>4.500000</td>\n",
       "      <td>https://images.media-allrecipes.com/userphotos...</td>\n",
       "      <td>2</td>\n",
       "      <td>olive oil^bulb garlic^tomatoes chopped^diced t...</td>\n",
       "      <td>{'directions': u'Prep\\n15 m\\nCook\\n40 m\\nReady...</td>\n",
       "      <td>{u'niacin': {u'hasCompleteData': False, u'name...</td>\n",
       "      <td>{1245064: {'rating': 4, 'followersCount': 4, '...</td>\n",
       "    </tr>\n",
       "  </tbody>\n",
       "</table>\n",
       "<p>49698 rows × 9 columns</p>\n",
       "</div>"
      ],
      "text/plain": [
       "       recipe_id                        recipe_name  aver_rate  \\\n",
       "0         222388                     Homemade Bacon   5.000000   \n",
       "1         240488  Pork Loin, Apples, and Sauerkraut   4.764706   \n",
       "2         218939   Foolproof Rosemary Chicken Wings   4.571429   \n",
       "3          87211              Chicken Pesto Paninis   4.625000   \n",
       "4         245714                 Potato Bacon Pizza   4.500000   \n",
       "...          ...                                ...        ...   \n",
       "49693     222886             Grateful Dead Cocktail   3.500000   \n",
       "49694      25650        Cheese Filling For Pastries   4.333333   \n",
       "49695      23544                     Peach Smoothie   3.615385   \n",
       "49696     170710                Double Dare Peaches   4.714286   \n",
       "49697      79774         All-Purpose Marinara Sauce   4.500000   \n",
       "\n",
       "                                               image_url  review_nums  \\\n",
       "0      https://images.media-allrecipes.com/userphotos...            3   \n",
       "1      https://images.media-allrecipes.com/userphotos...           29   \n",
       "2      https://images.media-allrecipes.com/userphotos...           12   \n",
       "3      https://images.media-allrecipes.com/userphotos...          163   \n",
       "4      https://images.media-allrecipes.com/userphotos...            2   \n",
       "...                                                  ...          ...   \n",
       "49693  https://images.media-allrecipes.com/userphotos...            4   \n",
       "49694  https://images.media-allrecipes.com/userphotos...            3   \n",
       "49695  https://images.media-allrecipes.com/userphotos...           21   \n",
       "49696  https://images.media-allrecipes.com/userphotos...           19   \n",
       "49697  https://images.media-allrecipes.com/userphotos...            2   \n",
       "\n",
       "                                             ingredients  \\\n",
       "0      pork belly^smoked paprika^kosher salt^ground b...   \n",
       "1      sauerkraut drained^Granny Smith apples sliced^...   \n",
       "2      chicken wings^sprigs rosemary^head garlic^oliv...   \n",
       "3      focaccia bread quartered^prepared basil pesto^...   \n",
       "4      red potatoes^strips bacon^Sauce:^heavy whippin...   \n",
       "...                                                  ...   \n",
       "49693  fluid ounce tequila^fluid ounce vodka^fluid ou...   \n",
       "49694  raisins^brandy^cream cheese^white sugar^all-pu...   \n",
       "49695  sliced peaches drained^scoops vanilla ice crea...   \n",
       "49696  butter^habanero peppers^fresh peaches^brown su...   \n",
       "49697  olive oil^bulb garlic^tomatoes chopped^diced t...   \n",
       "\n",
       "                                      cooking_directions  \\\n",
       "0      {'directions': u'Prep\\n5 m\\nCook\\n2 h 45 m\\nRe...   \n",
       "1      {'directions': u'Prep\\n15 m\\nCook\\n2 h 30 m\\nR...   \n",
       "2      {'directions': u\"Prep\\n20 m\\nCook\\n40 m\\nReady...   \n",
       "3      {'directions': u'Prep\\n15 m\\nCook\\n5 m\\nReady ...   \n",
       "4      {'directions': u'Prep\\n20 m\\nCook\\n45 m\\nReady...   \n",
       "...                                                  ...   \n",
       "49693  {'directions': u'Prep\\n5 m\\nReady In\\n5 m\\nCom...   \n",
       "49694  {'directions': u'Prep\\n15 m\\nReady In\\n15 m\\nS...   \n",
       "49695  {'directions': u'Prep\\n1 m\\nReady In\\n1 m\\nIn ...   \n",
       "49696  {'directions': u'Prep\\n20 m\\nCook\\n10 m\\nReady...   \n",
       "49697  {'directions': u'Prep\\n15 m\\nCook\\n40 m\\nReady...   \n",
       "\n",
       "                                              nutritions  \\\n",
       "0      {u'niacin': {u'hasCompleteData': False, u'name...   \n",
       "1      {u'niacin': {u'hasCompleteData': False, u'name...   \n",
       "2      {u'niacin': {u'hasCompleteData': True, u'name'...   \n",
       "3      {u'niacin': {u'hasCompleteData': True, u'name'...   \n",
       "4      {u'niacin': {u'hasCompleteData': True, u'name'...   \n",
       "...                                                  ...   \n",
       "49693  {u'niacin': {u'hasCompleteData': False, u'name...   \n",
       "49694  {u'niacin': {u'hasCompleteData': True, u'name'...   \n",
       "49695  {u'niacin': {u'hasCompleteData': False, u'name...   \n",
       "49696  {u'niacin': {u'hasCompleteData': True, u'name'...   \n",
       "49697  {u'niacin': {u'hasCompleteData': False, u'name...   \n",
       "\n",
       "                                                 reviews  \n",
       "0      {8542392: {'rating': 5, 'followersCount': 11, ...  \n",
       "1      {3574785: {'rating': 5, 'followersCount': 0, '...  \n",
       "2      {13774946: {'rating': 5, 'followersCount': 0, ...  \n",
       "3      {1563136: {'rating': 5, 'followersCount': 0, '...  \n",
       "4      {2945555: {'rating': 5, 'followersCount': 6690...  \n",
       "...                                                  ...  \n",
       "49693  {2043209: {'rating': 5, 'followersCount': 1509...  \n",
       "49694  {1380296: {'rating': 4, 'followersCount': 0, '...  \n",
       "49695  {6412992: {'rating': 4, 'followersCount': 7, '...  \n",
       "49696  {2381248: {'rating': 5, 'followersCount': 2, '...  \n",
       "49697  {1245064: {'rating': 4, 'followersCount': 4, '...  \n",
       "\n",
       "[49698 rows x 9 columns]"
      ]
     },
     "execution_count": 6,
     "metadata": {},
     "output_type": "execute_result"
    }
   ],
   "source": [
    "recipes = pd.read_csv(\"data/foodRecSys-V1_kaggle/raw-data_recipe.csv\")\n",
    "# recipes = pd.read_csv(\"data/foodRecSys-V1_kaggle/raw-data_recipe.csv\", nrows = 10)\n",
    "recipes"
   ]
  },
  {
   "cell_type": "code",
   "execution_count": 7,
   "metadata": {},
   "outputs": [
    {
     "data": {
      "text/plain": [
       "recipe_id               int64\n",
       "recipe_name            object\n",
       "aver_rate             float64\n",
       "image_url              object\n",
       "review_nums             int64\n",
       "ingredients            object\n",
       "cooking_directions     object\n",
       "nutritions             object\n",
       "reviews                object\n",
       "dtype: object"
      ]
     },
     "execution_count": 7,
     "metadata": {},
     "output_type": "execute_result"
    }
   ],
   "source": [
    "recipes.dtypes"
   ]
  },
  {
   "cell_type": "markdown",
   "metadata": {},
   "source": [
    "The recipe dataset has 9 features - integer id, name, average rating, image url, number of reviews, ingredients, cooking directions, nutrition and reviews."
   ]
  },
  {
   "cell_type": "code",
   "execution_count": 8,
   "metadata": {},
   "outputs": [
    {
     "data": {
      "text/html": [
       "<div>\n",
       "<style scoped>\n",
       "    .dataframe tbody tr th:only-of-type {\n",
       "        vertical-align: middle;\n",
       "    }\n",
       "\n",
       "    .dataframe tbody tr th {\n",
       "        vertical-align: top;\n",
       "    }\n",
       "\n",
       "    .dataframe thead th {\n",
       "        text-align: right;\n",
       "    }\n",
       "</style>\n",
       "<table border=\"1\" class=\"dataframe\">\n",
       "  <thead>\n",
       "    <tr style=\"text-align: right;\">\n",
       "      <th></th>\n",
       "      <th>recipe_id</th>\n",
       "      <th>recipe_name</th>\n",
       "      <th>aver_rate</th>\n",
       "      <th>review_nums</th>\n",
       "      <th>ingredients</th>\n",
       "      <th>cooking_directions</th>\n",
       "      <th>reviews</th>\n",
       "    </tr>\n",
       "  </thead>\n",
       "  <tbody>\n",
       "    <tr>\n",
       "      <th>0</th>\n",
       "      <td>222388</td>\n",
       "      <td>Homemade Bacon</td>\n",
       "      <td>5.000000</td>\n",
       "      <td>3</td>\n",
       "      <td>pork belly^smoked paprika^kosher salt^ground b...</td>\n",
       "      <td>{'directions': u'Prep\\n5 m\\nCook\\n2 h 45 m\\nRe...</td>\n",
       "      <td>{8542392: {'rating': 5, 'followersCount': 11, ...</td>\n",
       "    </tr>\n",
       "    <tr>\n",
       "      <th>1</th>\n",
       "      <td>240488</td>\n",
       "      <td>Pork Loin, Apples, and Sauerkraut</td>\n",
       "      <td>4.764706</td>\n",
       "      <td>29</td>\n",
       "      <td>sauerkraut drained^Granny Smith apples sliced^...</td>\n",
       "      <td>{'directions': u'Prep\\n15 m\\nCook\\n2 h 30 m\\nR...</td>\n",
       "      <td>{3574785: {'rating': 5, 'followersCount': 0, '...</td>\n",
       "    </tr>\n",
       "    <tr>\n",
       "      <th>2</th>\n",
       "      <td>218939</td>\n",
       "      <td>Foolproof Rosemary Chicken Wings</td>\n",
       "      <td>4.571429</td>\n",
       "      <td>12</td>\n",
       "      <td>chicken wings^sprigs rosemary^head garlic^oliv...</td>\n",
       "      <td>{'directions': u\"Prep\\n20 m\\nCook\\n40 m\\nReady...</td>\n",
       "      <td>{13774946: {'rating': 5, 'followersCount': 0, ...</td>\n",
       "    </tr>\n",
       "  </tbody>\n",
       "</table>\n",
       "</div>"
      ],
      "text/plain": [
       "   recipe_id                        recipe_name  aver_rate  review_nums  \\\n",
       "0     222388                     Homemade Bacon   5.000000            3   \n",
       "1     240488  Pork Loin, Apples, and Sauerkraut   4.764706           29   \n",
       "2     218939   Foolproof Rosemary Chicken Wings   4.571429           12   \n",
       "\n",
       "                                         ingredients  \\\n",
       "0  pork belly^smoked paprika^kosher salt^ground b...   \n",
       "1  sauerkraut drained^Granny Smith apples sliced^...   \n",
       "2  chicken wings^sprigs rosemary^head garlic^oliv...   \n",
       "\n",
       "                                  cooking_directions  \\\n",
       "0  {'directions': u'Prep\\n5 m\\nCook\\n2 h 45 m\\nRe...   \n",
       "1  {'directions': u'Prep\\n15 m\\nCook\\n2 h 30 m\\nR...   \n",
       "2  {'directions': u\"Prep\\n20 m\\nCook\\n40 m\\nReady...   \n",
       "\n",
       "                                             reviews  \n",
       "0  {8542392: {'rating': 5, 'followersCount': 11, ...  \n",
       "1  {3574785: {'rating': 5, 'followersCount': 0, '...  \n",
       "2  {13774946: {'rating': 5, 'followersCount': 0, ...  "
      ]
     },
     "execution_count": 8,
     "metadata": {},
     "output_type": "execute_result"
    }
   ],
   "source": [
    "# not interested in nutrition, url not functional, image in dataset be id\n",
    "\n",
    "recipes = recipes.drop(columns = [\"image_url\", \"nutritions\"]) \n",
    "recipes.head(3)"
   ]
  },
  {
   "cell_type": "markdown",
   "metadata": {},
   "source": [
    "Let's explore numerical values:"
   ]
  },
  {
   "cell_type": "code",
   "execution_count": 9,
   "metadata": {},
   "outputs": [
    {
     "data": {
      "text/html": [
       "<div>\n",
       "<style scoped>\n",
       "    .dataframe tbody tr th:only-of-type {\n",
       "        vertical-align: middle;\n",
       "    }\n",
       "\n",
       "    .dataframe tbody tr th {\n",
       "        vertical-align: top;\n",
       "    }\n",
       "\n",
       "    .dataframe thead th {\n",
       "        text-align: right;\n",
       "    }\n",
       "</style>\n",
       "<table border=\"1\" class=\"dataframe\">\n",
       "  <thead>\n",
       "    <tr style=\"text-align: right;\">\n",
       "      <th></th>\n",
       "      <th>count</th>\n",
       "      <th>mean</th>\n",
       "      <th>std</th>\n",
       "      <th>min</th>\n",
       "      <th>25%</th>\n",
       "      <th>50%</th>\n",
       "      <th>75%</th>\n",
       "      <th>max</th>\n",
       "    </tr>\n",
       "  </thead>\n",
       "  <tbody>\n",
       "    <tr>\n",
       "      <th>recipe_id</th>\n",
       "      <td>49698.0</td>\n",
       "      <td>131092.695119</td>\n",
       "      <td>98230.166389</td>\n",
       "      <td>6663.0</td>\n",
       "      <td>22244.250000</td>\n",
       "      <td>142057.500000</td>\n",
       "      <td>231644.750000</td>\n",
       "      <td>262956.0</td>\n",
       "    </tr>\n",
       "    <tr>\n",
       "      <th>aver_rate</th>\n",
       "      <td>49698.0</td>\n",
       "      <td>4.311699</td>\n",
       "      <td>0.485282</td>\n",
       "      <td>0.0</td>\n",
       "      <td>4.081311</td>\n",
       "      <td>4.411765</td>\n",
       "      <td>4.622239</td>\n",
       "      <td>5.0</td>\n",
       "    </tr>\n",
       "    <tr>\n",
       "      <th>review_nums</th>\n",
       "      <td>49698.0</td>\n",
       "      <td>76.342408</td>\n",
       "      <td>282.160920</td>\n",
       "      <td>1.0</td>\n",
       "      <td>6.000000</td>\n",
       "      <td>17.000000</td>\n",
       "      <td>54.000000</td>\n",
       "      <td>11191.0</td>\n",
       "    </tr>\n",
       "  </tbody>\n",
       "</table>\n",
       "</div>"
      ],
      "text/plain": [
       "               count           mean           std     min           25%  \\\n",
       "recipe_id    49698.0  131092.695119  98230.166389  6663.0  22244.250000   \n",
       "aver_rate    49698.0       4.311699      0.485282     0.0      4.081311   \n",
       "review_nums  49698.0      76.342408    282.160920     1.0      6.000000   \n",
       "\n",
       "                       50%            75%       max  \n",
       "recipe_id    142057.500000  231644.750000  262956.0  \n",
       "aver_rate         4.411765       4.622239       5.0  \n",
       "review_nums      17.000000      54.000000   11191.0  "
      ]
     },
     "execution_count": 9,
     "metadata": {},
     "output_type": "execute_result"
    }
   ],
   "source": [
    "recipes.describe().T"
   ]
  },
  {
   "cell_type": "markdown",
   "metadata": {},
   "source": [
    "The mean and standard deviation of recipe id have no real meaning, but from the min and max we can see that there are more ids than recipes, which is consistent with the dataset description - only recipes with valid interactions are included, leading to many vacant ids.\n",
    "\n",
    "We make sure there are no duplicate rows and ids:"
   ]
  },
  {
   "cell_type": "code",
   "execution_count": 10,
   "metadata": {},
   "outputs": [],
   "source": [
    "assert(recipes.duplicated().sum() == 0)\n",
    "assert(recipes.duplicated(subset=\"recipe_id\").sum() == 0)"
   ]
  },
  {
   "cell_type": "markdown",
   "metadata": {},
   "source": [
    "And check for duplicate recipe names:"
   ]
  },
  {
   "cell_type": "code",
   "execution_count": 11,
   "metadata": {},
   "outputs": [
    {
     "data": {
      "text/plain": [
       "1186"
      ]
     },
     "execution_count": 11,
     "metadata": {},
     "output_type": "execute_result"
    }
   ],
   "source": [
    "recipes.duplicated(subset=\"recipe_name\", keep = False).sum() # keep = False for count all duplicates"
   ]
  },
  {
   "cell_type": "markdown",
   "metadata": {},
   "source": [
    "As expected, names are not unique. We can not explicitly investigate over 1000 recipes, but we can at least see some of the most frequent recipe names:"
   ]
  },
  {
   "cell_type": "code",
   "execution_count": 12,
   "metadata": {},
   "outputs": [
    {
     "data": {
      "text/plain": [
       "recipe_name\n",
       "Spinach Casserole                            4\n",
       "Mexican Casserole                            4\n",
       "English Trifle                               4\n",
       "Marinated Mushrooms                          4\n",
       "Three Bean Salad                             4\n",
       "                                            ..\n",
       "Parmesan Baskets                             1\n",
       "Curry Party Mix                              1\n",
       "Brownie Batter Dip (aka Chocolate Hummus)    1\n",
       "Spiced Nuts II                               1\n",
       "All-Purpose Marinara Sauce                   1\n",
       "Name: count, Length: 49085, dtype: int64"
      ]
     },
     "execution_count": 12,
     "metadata": {},
     "output_type": "execute_result"
    }
   ],
   "source": [
    "recipes.recipe_name.value_counts()"
   ]
  },
  {
   "cell_type": "markdown",
   "metadata": {},
   "source": [
    "Take the first one as example:"
   ]
  },
  {
   "cell_type": "code",
   "execution_count": 14,
   "metadata": {},
   "outputs": [
    {
     "data": {
      "text/html": [
       "<div>\n",
       "<style scoped>\n",
       "    .dataframe tbody tr th:only-of-type {\n",
       "        vertical-align: middle;\n",
       "    }\n",
       "\n",
       "    .dataframe tbody tr th {\n",
       "        vertical-align: top;\n",
       "    }\n",
       "\n",
       "    .dataframe thead th {\n",
       "        text-align: right;\n",
       "    }\n",
       "</style>\n",
       "<table border=\"1\" class=\"dataframe\">\n",
       "  <thead>\n",
       "    <tr style=\"text-align: right;\">\n",
       "      <th></th>\n",
       "      <th>recipe_id</th>\n",
       "      <th>recipe_name</th>\n",
       "      <th>aver_rate</th>\n",
       "      <th>review_nums</th>\n",
       "      <th>ingredients</th>\n",
       "      <th>cooking_directions</th>\n",
       "      <th>reviews</th>\n",
       "    </tr>\n",
       "  </thead>\n",
       "  <tbody>\n",
       "    <tr>\n",
       "      <th>31485</th>\n",
       "      <td>209928</td>\n",
       "      <td>Spinach Casserole</td>\n",
       "      <td>4.444445</td>\n",
       "      <td>43</td>\n",
       "      <td>cottage cheese^eggs^all-purpose flour^sour cre...</td>\n",
       "      <td>{'directions': u'Prep\\n10 m\\nCook\\n55 m\\nReady...</td>\n",
       "      <td>{2978049: {'rating': 5, 'followersCount': 4, '...</td>\n",
       "    </tr>\n",
       "    <tr>\n",
       "      <th>36200</th>\n",
       "      <td>24714</td>\n",
       "      <td>Spinach Casserole</td>\n",
       "      <td>3.212121</td>\n",
       "      <td>27</td>\n",
       "      <td>seashell pasta^frozen chopped spinach thawed a...</td>\n",
       "      <td>{'directions': u'Prep\\n10 m\\nCook\\n25 m\\nReady...</td>\n",
       "      <td>{873103: {'rating': 5, 'followersCount': 0, 'm...</td>\n",
       "    </tr>\n",
       "    <tr>\n",
       "      <th>39265</th>\n",
       "      <td>25892</td>\n",
       "      <td>Spinach Casserole</td>\n",
       "      <td>4.378947</td>\n",
       "      <td>74</td>\n",
       "      <td>frozen chopped spinach thawed and drained^crea...</td>\n",
       "      <td>{'directions': u'Prep\\n10 m\\nCook\\n20 m\\nReady...</td>\n",
       "      <td>{17466433: {'rating': 5, 'followersCount': 0, ...</td>\n",
       "    </tr>\n",
       "    <tr>\n",
       "      <th>40705</th>\n",
       "      <td>18820</td>\n",
       "      <td>Spinach Casserole</td>\n",
       "      <td>4.176471</td>\n",
       "      <td>58</td>\n",
       "      <td>frozen chopped spinach^crumbled feta cheese^sh...</td>\n",
       "      <td>{'directions': u'Prep\\n15 m\\nCook\\n20 m\\nReady...</td>\n",
       "      <td>{540673: {'rating': 5, 'followersCount': 0, 'm...</td>\n",
       "    </tr>\n",
       "  </tbody>\n",
       "</table>\n",
       "</div>"
      ],
      "text/plain": [
       "       recipe_id        recipe_name  aver_rate  review_nums  \\\n",
       "31485     209928  Spinach Casserole   4.444445           43   \n",
       "36200      24714  Spinach Casserole   3.212121           27   \n",
       "39265      25892  Spinach Casserole   4.378947           74   \n",
       "40705      18820  Spinach Casserole   4.176471           58   \n",
       "\n",
       "                                             ingredients  \\\n",
       "31485  cottage cheese^eggs^all-purpose flour^sour cre...   \n",
       "36200  seashell pasta^frozen chopped spinach thawed a...   \n",
       "39265  frozen chopped spinach thawed and drained^crea...   \n",
       "40705  frozen chopped spinach^crumbled feta cheese^sh...   \n",
       "\n",
       "                                      cooking_directions  \\\n",
       "31485  {'directions': u'Prep\\n10 m\\nCook\\n55 m\\nReady...   \n",
       "36200  {'directions': u'Prep\\n10 m\\nCook\\n25 m\\nReady...   \n",
       "39265  {'directions': u'Prep\\n10 m\\nCook\\n20 m\\nReady...   \n",
       "40705  {'directions': u'Prep\\n15 m\\nCook\\n20 m\\nReady...   \n",
       "\n",
       "                                                 reviews  \n",
       "31485  {2978049: {'rating': 5, 'followersCount': 4, '...  \n",
       "36200  {873103: {'rating': 5, 'followersCount': 0, 'm...  \n",
       "39265  {17466433: {'rating': 5, 'followersCount': 0, ...  \n",
       "40705  {540673: {'rating': 5, 'followersCount': 0, 'm...  "
      ]
     },
     "execution_count": 14,
     "metadata": {},
     "output_type": "execute_result"
    }
   ],
   "source": [
    "recipes[recipes.recipe_name == \"Spinach Casserole\"]"
   ]
  },
  {
   "cell_type": "markdown",
   "metadata": {},
   "source": [
    "Same dish - different recipe. Easiest way to prove the recipes are unique is to account for ingredients as well as name:"
   ]
  },
  {
   "cell_type": "code",
   "execution_count": 18,
   "metadata": {},
   "outputs": [
    {
     "data": {
      "text/html": [
       "<div>\n",
       "<style scoped>\n",
       "    .dataframe tbody tr th:only-of-type {\n",
       "        vertical-align: middle;\n",
       "    }\n",
       "\n",
       "    .dataframe tbody tr th {\n",
       "        vertical-align: top;\n",
       "    }\n",
       "\n",
       "    .dataframe thead th {\n",
       "        text-align: right;\n",
       "    }\n",
       "</style>\n",
       "<table border=\"1\" class=\"dataframe\">\n",
       "  <thead>\n",
       "    <tr style=\"text-align: right;\">\n",
       "      <th></th>\n",
       "      <th>recipe_id</th>\n",
       "      <th>recipe_name</th>\n",
       "      <th>aver_rate</th>\n",
       "      <th>review_nums</th>\n",
       "      <th>ingredients</th>\n",
       "      <th>cooking_directions</th>\n",
       "      <th>reviews</th>\n",
       "    </tr>\n",
       "  </thead>\n",
       "  <tbody>\n",
       "    <tr>\n",
       "      <th>2936</th>\n",
       "      <td>9231</td>\n",
       "      <td>Turkey Tenderloins</td>\n",
       "      <td>4.542484</td>\n",
       "      <td>125</td>\n",
       "      <td>turkey tenderloins^soy sauce^Dijon-style prepa...</td>\n",
       "      <td>{'directions': u'Place the turkey tenderloins ...</td>\n",
       "      <td>{1469184: {'rating': 4, 'followersCount': 0, '...</td>\n",
       "    </tr>\n",
       "    <tr>\n",
       "      <th>6500</th>\n",
       "      <td>13523</td>\n",
       "      <td>Turkey Tenderloins</td>\n",
       "      <td>4.451613</td>\n",
       "      <td>25</td>\n",
       "      <td>turkey tenderloins^soy sauce^Dijon-style prepa...</td>\n",
       "      <td>{'directions': u'Place the turkey tenderloins ...</td>\n",
       "      <td>{10003847: {'rating': 5, 'followersCount': 4, ...</td>\n",
       "    </tr>\n",
       "    <tr>\n",
       "      <th>11414</th>\n",
       "      <td>9227</td>\n",
       "      <td>Thanksgiving Meatloaf</td>\n",
       "      <td>4.146667</td>\n",
       "      <td>66</td>\n",
       "      <td>ground turkey^chicken-flavor stuffing mix^eggs...</td>\n",
       "      <td>{'directions': u'Preheat oven to 350 degrees F...</td>\n",
       "      <td>{4497281: {'rating': 5, 'followersCount': 0, '...</td>\n",
       "    </tr>\n",
       "    <tr>\n",
       "      <th>14309</th>\n",
       "      <td>13534</td>\n",
       "      <td>Thanksgiving Meatloaf</td>\n",
       "      <td>4.057693</td>\n",
       "      <td>51</td>\n",
       "      <td>ground turkey^chicken-flavor stuffing mix^eggs...</td>\n",
       "      <td>{'directions': u'Preheat oven to 350 degrees F...</td>\n",
       "      <td>{16870435: {'rating': 4, 'followersCount': 1, ...</td>\n",
       "    </tr>\n",
       "    <tr>\n",
       "      <th>18821</th>\n",
       "      <td>9290</td>\n",
       "      <td>German Christmas Gingerbread</td>\n",
       "      <td>4.450000</td>\n",
       "      <td>15</td>\n",
       "      <td>butter^packed brown sugar^eggs^honey^orange li...</td>\n",
       "      <td>{'directions': u'Whisk together the flours, ba...</td>\n",
       "      <td>{21435077: {'rating': 4, 'followersCount': 0, ...</td>\n",
       "    </tr>\n",
       "    <tr>\n",
       "      <th>18980</th>\n",
       "      <td>7643</td>\n",
       "      <td>German Christmas Gingerbread</td>\n",
       "      <td>4.590909</td>\n",
       "      <td>16</td>\n",
       "      <td>butter^packed brown sugar^eggs^honey^orange li...</td>\n",
       "      <td>{'directions': u'Whisk together the flours, ba...</td>\n",
       "      <td>{1182080: {'rating': 4, 'followersCount': 0, '...</td>\n",
       "    </tr>\n",
       "    <tr>\n",
       "      <th>19481</th>\n",
       "      <td>9192</td>\n",
       "      <td>Pumpkin Spice Ring</td>\n",
       "      <td>4.250000</td>\n",
       "      <td>2</td>\n",
       "      <td>angel food cake mix^pumpkin puree^pumpkin pie ...</td>\n",
       "      <td>{'directions': u'Combine pumpkin and pumpkin p...</td>\n",
       "      <td>{294260: {'rating': 4, 'followersCount': 2, 'm...</td>\n",
       "    </tr>\n",
       "    <tr>\n",
       "      <th>20186</th>\n",
       "      <td>13613</td>\n",
       "      <td>Pumpkin Spice Ring</td>\n",
       "      <td>4.111111</td>\n",
       "      <td>8</td>\n",
       "      <td>angel food cake mix^pumpkin puree^pumpkin pie ...</td>\n",
       "      <td>{'directions': u'Combine pumpkin and pumpkin p...</td>\n",
       "      <td>{394346: {'rating': 5, 'followersCount': 0, 'm...</td>\n",
       "    </tr>\n",
       "    <tr>\n",
       "      <th>20454</th>\n",
       "      <td>9129</td>\n",
       "      <td>Extra Gingery Bread</td>\n",
       "      <td>4.439024</td>\n",
       "      <td>31</td>\n",
       "      <td>all-purpose flour^ground cinnamon^baking soda^...</td>\n",
       "      <td>{'directions': u'Preheat oven to 350 degrees F...</td>\n",
       "      <td>{854400: {'rating': 5, 'followersCount': 1, 'm...</td>\n",
       "    </tr>\n",
       "    <tr>\n",
       "      <th>20473</th>\n",
       "      <td>13593</td>\n",
       "      <td>Pecan Pie Bars II</td>\n",
       "      <td>4.450000</td>\n",
       "      <td>50</td>\n",
       "      <td>yellow cake mix^margarine softened^egg^eggs^va...</td>\n",
       "      <td>{'directions': u'Preheat oven to 350 degrees F...</td>\n",
       "      <td>{4330112: {'rating': 5, 'followersCount': 0, '...</td>\n",
       "    </tr>\n",
       "    <tr>\n",
       "      <th>20852</th>\n",
       "      <td>13553</td>\n",
       "      <td>Cherry Salad</td>\n",
       "      <td>3.850000</td>\n",
       "      <td>18</td>\n",
       "      <td>frozen whipped topping thawed^sweetened conden...</td>\n",
       "      <td>{'directions': u'Mix whipped topping, sweetene...</td>\n",
       "      <td>{842177: {'rating': 1, 'followersCount': 0, 'm...</td>\n",
       "    </tr>\n",
       "    <tr>\n",
       "      <th>21440</th>\n",
       "      <td>9089</td>\n",
       "      <td>Cherry Salad</td>\n",
       "      <td>4.285714</td>\n",
       "      <td>39</td>\n",
       "      <td>frozen whipped topping thawed^sweetened conden...</td>\n",
       "      <td>{'directions': u'Mix whipped topping, sweetene...</td>\n",
       "      <td>{2998145: {'rating': 5, 'followersCount': 0, '...</td>\n",
       "    </tr>\n",
       "    <tr>\n",
       "      <th>22027</th>\n",
       "      <td>7861</td>\n",
       "      <td>Icelandic Christmas Cake</td>\n",
       "      <td>4.428571</td>\n",
       "      <td>32</td>\n",
       "      <td>white sugar^butter^eggs^all-purpose flour^baki...</td>\n",
       "      <td>{'directions': u'Preheat oven to 350 degrees F...</td>\n",
       "      <td>{4228614: {'rating': 5, 'followersCount': 1, '...</td>\n",
       "    </tr>\n",
       "    <tr>\n",
       "      <th>22481</th>\n",
       "      <td>9291</td>\n",
       "      <td>Icelandic Christmas Cake</td>\n",
       "      <td>4.200000</td>\n",
       "      <td>10</td>\n",
       "      <td>white sugar^butter^eggs^all-purpose flour^baki...</td>\n",
       "      <td>{'directions': u'Preheat oven to 350 degrees F...</td>\n",
       "      <td>{907520: {'rating': 5, 'followersCount': 0, 'm...</td>\n",
       "    </tr>\n",
       "    <tr>\n",
       "      <th>23117</th>\n",
       "      <td>9178</td>\n",
       "      <td>Pecan Pie Bars II</td>\n",
       "      <td>4.083333</td>\n",
       "      <td>22</td>\n",
       "      <td>yellow cake mix^margarine softened^egg^eggs^va...</td>\n",
       "      <td>{'directions': u'Preheat oven to 350 degrees F...</td>\n",
       "      <td>{1462531: {'rating': 1, 'followersCount': 0, '...</td>\n",
       "    </tr>\n",
       "    <tr>\n",
       "      <th>23312</th>\n",
       "      <td>13551</td>\n",
       "      <td>Joey's Bread Pudding</td>\n",
       "      <td>4.250000</td>\n",
       "      <td>9</td>\n",
       "      <td>butter^loaf sliced white bread toasted^eggs^va...</td>\n",
       "      <td>{'directions': u'Prep\\n20 m\\nCook\\n55 m\\nReady...</td>\n",
       "      <td>{52352: {'rating': 4, 'followersCount': 0, 'ma...</td>\n",
       "    </tr>\n",
       "    <tr>\n",
       "      <th>23357</th>\n",
       "      <td>9149</td>\n",
       "      <td>Joey's Bread Pudding</td>\n",
       "      <td>4.626866</td>\n",
       "      <td>57</td>\n",
       "      <td>butter^loaf sliced white bread toasted^eggs^va...</td>\n",
       "      <td>{'directions': u'Prep\\n20 m\\nCook\\n55 m\\nReady...</td>\n",
       "      <td>{3719808: {'rating': 4, 'followersCount': 0, '...</td>\n",
       "    </tr>\n",
       "    <tr>\n",
       "      <th>25870</th>\n",
       "      <td>9144</td>\n",
       "      <td>Hawaiian Fruit Crumble</td>\n",
       "      <td>4.235294</td>\n",
       "      <td>15</td>\n",
       "      <td>thinly sliced apples^lemon juice^crushed pinea...</td>\n",
       "      <td>{'directions': u'Toss apple slices with lemon ...</td>\n",
       "      <td>{2974981: {'rating': 5, 'followersCount': 0, '...</td>\n",
       "    </tr>\n",
       "    <tr>\n",
       "      <th>26902</th>\n",
       "      <td>13550</td>\n",
       "      <td>Hawaiian Fruit Crumble</td>\n",
       "      <td>4.555555</td>\n",
       "      <td>9</td>\n",
       "      <td>thinly sliced apples^lemon juice^crushed pinea...</td>\n",
       "      <td>{'directions': u'Toss apple slices with lemon ...</td>\n",
       "      <td>{3180992: {'rating': 5, 'followersCount': 5, '...</td>\n",
       "    </tr>\n",
       "    <tr>\n",
       "      <th>27329</th>\n",
       "      <td>13554</td>\n",
       "      <td>Extra Gingery Bread</td>\n",
       "      <td>4.666667</td>\n",
       "      <td>7</td>\n",
       "      <td>all-purpose flour^ground cinnamon^baking soda^...</td>\n",
       "      <td>{'directions': u'Preheat oven to 350 degrees F...</td>\n",
       "      <td>{1532140: {'rating': 5, 'followersCount': 332,...</td>\n",
       "    </tr>\n",
       "    <tr>\n",
       "      <th>27577</th>\n",
       "      <td>13637</td>\n",
       "      <td>Three Bean Salad</td>\n",
       "      <td>4.610811</td>\n",
       "      <td>149</td>\n",
       "      <td>green beans^wax beans^kidney beans drained and...</td>\n",
       "      <td>{'directions': u'Mix together green beans, wax...</td>\n",
       "      <td>{3540480: {'rating': 5, 'followersCount': 0, '...</td>\n",
       "    </tr>\n",
       "    <tr>\n",
       "      <th>28308</th>\n",
       "      <td>13617</td>\n",
       "      <td>Michelle's Famous Washed Cranberry Sauce</td>\n",
       "      <td>4.512821</td>\n",
       "      <td>35</td>\n",
       "      <td>fresh cranberries picked through and rinsed^wa...</td>\n",
       "      <td>{'directions': u'Prep\\n5 m\\nCook\\n10 m\\nReady ...</td>\n",
       "      <td>{3064960: {'rating': 5, 'followersCount': 0, '...</td>\n",
       "    </tr>\n",
       "    <tr>\n",
       "      <th>28379</th>\n",
       "      <td>9158</td>\n",
       "      <td>Michelle's Famous Washed Cranberry Sauce</td>\n",
       "      <td>4.689321</td>\n",
       "      <td>90</td>\n",
       "      <td>fresh cranberries picked through and rinsed^wa...</td>\n",
       "      <td>{'directions': u'Prep\\n5 m\\nCook\\n10 m\\nReady ...</td>\n",
       "      <td>{614920: {'rating': 5, 'followersCount': 0, 'm...</td>\n",
       "    </tr>\n",
       "    <tr>\n",
       "      <th>28568</th>\n",
       "      <td>9228</td>\n",
       "      <td>Three Bean Salad</td>\n",
       "      <td>4.558558</td>\n",
       "      <td>94</td>\n",
       "      <td>green beans^wax beans^kidney beans drained and...</td>\n",
       "      <td>{'directions': u'Mix together green beans, wax...</td>\n",
       "      <td>{3682822: {'rating': 4, 'followersCount': 1, '...</td>\n",
       "    </tr>\n",
       "    <tr>\n",
       "      <th>28785</th>\n",
       "      <td>9165</td>\n",
       "      <td>Nutty Wild Rice Salad with Kiwifruit and Red G...</td>\n",
       "      <td>3.950000</td>\n",
       "      <td>17</td>\n",
       "      <td>chicken stock^wild rice^lemon juice^olive oil^...</td>\n",
       "      <td>{'directions': u'Place broth in a medium sauce...</td>\n",
       "      <td>{3229409: {'rating': 5, 'followersCount': 0, '...</td>\n",
       "    </tr>\n",
       "    <tr>\n",
       "      <th>29171</th>\n",
       "      <td>13620</td>\n",
       "      <td>Nutty Wild Rice Salad with Kiwifruit and Red G...</td>\n",
       "      <td>4.058824</td>\n",
       "      <td>13</td>\n",
       "      <td>chicken stock^wild rice^lemon juice^olive oil^...</td>\n",
       "      <td>{'directions': u'Place broth in a medium sauce...</td>\n",
       "      <td>{3989952: {'rating': 4, 'followersCount': 1, '...</td>\n",
       "    </tr>\n",
       "    <tr>\n",
       "      <th>30338</th>\n",
       "      <td>9112</td>\n",
       "      <td>Cranberry Sauce with Raspberry Vinegar</td>\n",
       "      <td>4.562500</td>\n",
       "      <td>24</td>\n",
       "      <td>white sugar^raspberry vinegar^water^fresh cran...</td>\n",
       "      <td>{'directions': u'Combine 1 1/4 cup sugar, vine...</td>\n",
       "      <td>{3201153: {'rating': 1, 'followersCount': 0, '...</td>\n",
       "    </tr>\n",
       "    <tr>\n",
       "      <th>30503</th>\n",
       "      <td>9102</td>\n",
       "      <td>Cranberry Chutney I</td>\n",
       "      <td>4.621212</td>\n",
       "      <td>51</td>\n",
       "      <td>water^white sugar^fresh cranberries^apples^cid...</td>\n",
       "      <td>{'directions': u'In a medium saucepan combine ...</td>\n",
       "      <td>{6014084: {'rating': 5, 'followersCount': 0, '...</td>\n",
       "    </tr>\n",
       "    <tr>\n",
       "      <th>30571</th>\n",
       "      <td>13528</td>\n",
       "      <td>Green Beans With Walnuts</td>\n",
       "      <td>4.470588</td>\n",
       "      <td>74</td>\n",
       "      <td>fresh green beans washed and trimmed^butter^ch...</td>\n",
       "      <td>{'directions': u'Place the walnuts on an ungre...</td>\n",
       "      <td>{1387636: {'rating': 3, 'followersCount': 7, '...</td>\n",
       "    </tr>\n",
       "    <tr>\n",
       "      <th>31292</th>\n",
       "      <td>9182</td>\n",
       "      <td>Pumpkin Biscuits</td>\n",
       "      <td>3.968750</td>\n",
       "      <td>28</td>\n",
       "      <td>all-purpose flour^packed brown sugar^baking po...</td>\n",
       "      <td>{'directions': u'Preheat oven to 400 degrees F...</td>\n",
       "      <td>{7792643: {'rating': 4, 'followersCount': 0, '...</td>\n",
       "    </tr>\n",
       "    <tr>\n",
       "      <th>31336</th>\n",
       "      <td>9138</td>\n",
       "      <td>Green Beans With Walnuts</td>\n",
       "      <td>4.445783</td>\n",
       "      <td>51</td>\n",
       "      <td>fresh green beans washed and trimmed^butter^ch...</td>\n",
       "      <td>{'directions': u'Place the walnuts on an ungre...</td>\n",
       "      <td>{4210688: {'rating': 5, 'followersCount': 1, '...</td>\n",
       "    </tr>\n",
       "    <tr>\n",
       "      <th>31668</th>\n",
       "      <td>9193</td>\n",
       "      <td>Red Cabbage With Apricots And Balsamic Vinegar</td>\n",
       "      <td>4.030303</td>\n",
       "      <td>31</td>\n",
       "      <td>butter^red onion^ground allspice^ground nutmeg...</td>\n",
       "      <td>{'directions': u'Melt butter or margarine in a...</td>\n",
       "      <td>{678930: {'rating': 2, 'followersCount': 17, '...</td>\n",
       "    </tr>\n",
       "    <tr>\n",
       "      <th>32892</th>\n",
       "      <td>13524</td>\n",
       "      <td>Cranberry Chutney I</td>\n",
       "      <td>4.564103</td>\n",
       "      <td>170</td>\n",
       "      <td>water^white sugar^fresh cranberries^apples^cid...</td>\n",
       "      <td>{'directions': u'In a medium saucepan combine ...</td>\n",
       "      <td>{1483265: {'rating': 1, 'followersCount': 0, '...</td>\n",
       "    </tr>\n",
       "    <tr>\n",
       "      <th>33147</th>\n",
       "      <td>13518</td>\n",
       "      <td>Cranberry Sauce with Raspberry Vinegar</td>\n",
       "      <td>4.454545</td>\n",
       "      <td>5</td>\n",
       "      <td>white sugar^raspberry vinegar^water^fresh cran...</td>\n",
       "      <td>{'directions': u'Combine 1 1/4 cup sugar, vine...</td>\n",
       "      <td>{466670: {'rating': 4, 'followersCount': 196, ...</td>\n",
       "    </tr>\n",
       "    <tr>\n",
       "      <th>36867</th>\n",
       "      <td>9167</td>\n",
       "      <td>Orange and Onion Salad</td>\n",
       "      <td>4.250000</td>\n",
       "      <td>4</td>\n",
       "      <td>large oranges^red wine vinegar^olive oil^dried...</td>\n",
       "      <td>{'directions': u'Peel the oranges and cut each...</td>\n",
       "      <td>{7302321: {'rating': 4, 'followersCount': 4, '...</td>\n",
       "    </tr>\n",
       "    <tr>\n",
       "      <th>37833</th>\n",
       "      <td>13621</td>\n",
       "      <td>Orange and Onion Salad</td>\n",
       "      <td>3.750000</td>\n",
       "      <td>3</td>\n",
       "      <td>large oranges^red wine vinegar^olive oil^dried...</td>\n",
       "      <td>{'directions': u'Peel the oranges and cut each...</td>\n",
       "      <td>{2539958: {'rating': 4, 'followersCount': 0, '...</td>\n",
       "    </tr>\n",
       "    <tr>\n",
       "      <th>38100</th>\n",
       "      <td>9223</td>\n",
       "      <td>Sweet Potato Casserole V</td>\n",
       "      <td>4.640000</td>\n",
       "      <td>40</td>\n",
       "      <td>cooked and mashed sweet potatoes^packed brown ...</td>\n",
       "      <td>{'directions': u'Preheat the oven to 350 degre...</td>\n",
       "      <td>{742208: {'rating': 5, 'followersCount': 0, 'm...</td>\n",
       "    </tr>\n",
       "    <tr>\n",
       "      <th>38173</th>\n",
       "      <td>13565</td>\n",
       "      <td>Dressing Patties</td>\n",
       "      <td>4.000000</td>\n",
       "      <td>3</td>\n",
       "      <td>x 13 inch) pan cornbread^refrigerated biscuit ...</td>\n",
       "      <td>{'directions': u\"Preheat oven to 350 degrees F...</td>\n",
       "      <td>{842903: {'rating': 5, 'followersCount': 3, 'm...</td>\n",
       "    </tr>\n",
       "    <tr>\n",
       "      <th>38341</th>\n",
       "      <td>9222</td>\n",
       "      <td>Sweet Potato Casserole IV</td>\n",
       "      <td>4.758865</td>\n",
       "      <td>115</td>\n",
       "      <td>cooked and mashed sweet potatoes^white sugar^b...</td>\n",
       "      <td>{'directions': u'Mix together sweet potatoes, ...</td>\n",
       "      <td>{4280321: {'rating': 5, 'followersCount': 0, '...</td>\n",
       "    </tr>\n",
       "    <tr>\n",
       "      <th>38771</th>\n",
       "      <td>13570</td>\n",
       "      <td>Sweet Potato Casserole IV</td>\n",
       "      <td>4.747127</td>\n",
       "      <td>73</td>\n",
       "      <td>cooked and mashed sweet potatoes^white sugar^b...</td>\n",
       "      <td>{'directions': u'Mix together sweet potatoes, ...</td>\n",
       "      <td>{2461065: {'rating': 5, 'followersCount': 0, '...</td>\n",
       "    </tr>\n",
       "    <tr>\n",
       "      <th>39084</th>\n",
       "      <td>9126</td>\n",
       "      <td>Dressing Patties</td>\n",
       "      <td>4.538462</td>\n",
       "      <td>12</td>\n",
       "      <td>x 13 inch) pan cornbread^refrigerated biscuit ...</td>\n",
       "      <td>{'directions': u\"Preheat oven to 350 degrees F...</td>\n",
       "      <td>{5807302: {'rating': 5, 'followersCount': 0, '...</td>\n",
       "    </tr>\n",
       "    <tr>\n",
       "      <th>39182</th>\n",
       "      <td>13583</td>\n",
       "      <td>Sweet Potato Casserole V</td>\n",
       "      <td>4.700000</td>\n",
       "      <td>14</td>\n",
       "      <td>cooked and mashed sweet potatoes^packed brown ...</td>\n",
       "      <td>{'directions': u'Preheat the oven to 350 degre...</td>\n",
       "      <td>{296161: {'rating': 5, 'followersCount': 0, 'm...</td>\n",
       "    </tr>\n",
       "    <tr>\n",
       "      <th>39685</th>\n",
       "      <td>13552</td>\n",
       "      <td>Red Cabbage With Apricots And Balsamic Vinegar</td>\n",
       "      <td>4.000000</td>\n",
       "      <td>6</td>\n",
       "      <td>butter^red onion^ground allspice^ground nutmeg...</td>\n",
       "      <td>{'directions': u'Melt butter or margarine in a...</td>\n",
       "      <td>{4339136: {'rating': 5, 'followersCount': 0, '...</td>\n",
       "    </tr>\n",
       "    <tr>\n",
       "      <th>39808</th>\n",
       "      <td>13544</td>\n",
       "      <td>Pumpkin Biscuits</td>\n",
       "      <td>3.500000</td>\n",
       "      <td>14</td>\n",
       "      <td>all-purpose flour^packed brown sugar^baking po...</td>\n",
       "      <td>{'directions': u'Preheat oven to 400 degrees F...</td>\n",
       "      <td>{802048: {'rating': 4, 'followersCount': 0, 'm...</td>\n",
       "    </tr>\n",
       "  </tbody>\n",
       "</table>\n",
       "</div>"
      ],
      "text/plain": [
       "       recipe_id                                        recipe_name  \\\n",
       "2936        9231                                 Turkey Tenderloins   \n",
       "6500       13523                                 Turkey Tenderloins   \n",
       "11414       9227                              Thanksgiving Meatloaf   \n",
       "14309      13534                              Thanksgiving Meatloaf   \n",
       "18821       9290                       German Christmas Gingerbread   \n",
       "18980       7643                       German Christmas Gingerbread   \n",
       "19481       9192                                 Pumpkin Spice Ring   \n",
       "20186      13613                                 Pumpkin Spice Ring   \n",
       "20454       9129                                Extra Gingery Bread   \n",
       "20473      13593                                  Pecan Pie Bars II   \n",
       "20852      13553                                       Cherry Salad   \n",
       "21440       9089                                       Cherry Salad   \n",
       "22027       7861                           Icelandic Christmas Cake   \n",
       "22481       9291                           Icelandic Christmas Cake   \n",
       "23117       9178                                  Pecan Pie Bars II   \n",
       "23312      13551                               Joey's Bread Pudding   \n",
       "23357       9149                               Joey's Bread Pudding   \n",
       "25870       9144                             Hawaiian Fruit Crumble   \n",
       "26902      13550                             Hawaiian Fruit Crumble   \n",
       "27329      13554                                Extra Gingery Bread   \n",
       "27577      13637                                   Three Bean Salad   \n",
       "28308      13617           Michelle's Famous Washed Cranberry Sauce   \n",
       "28379       9158           Michelle's Famous Washed Cranberry Sauce   \n",
       "28568       9228                                   Three Bean Salad   \n",
       "28785       9165  Nutty Wild Rice Salad with Kiwifruit and Red G...   \n",
       "29171      13620  Nutty Wild Rice Salad with Kiwifruit and Red G...   \n",
       "30338       9112             Cranberry Sauce with Raspberry Vinegar   \n",
       "30503       9102                                Cranberry Chutney I   \n",
       "30571      13528                           Green Beans With Walnuts   \n",
       "31292       9182                                   Pumpkin Biscuits   \n",
       "31336       9138                           Green Beans With Walnuts   \n",
       "31668       9193     Red Cabbage With Apricots And Balsamic Vinegar   \n",
       "32892      13524                                Cranberry Chutney I   \n",
       "33147      13518             Cranberry Sauce with Raspberry Vinegar   \n",
       "36867       9167                             Orange and Onion Salad   \n",
       "37833      13621                             Orange and Onion Salad   \n",
       "38100       9223                           Sweet Potato Casserole V   \n",
       "38173      13565                                   Dressing Patties   \n",
       "38341       9222                          Sweet Potato Casserole IV   \n",
       "38771      13570                          Sweet Potato Casserole IV   \n",
       "39084       9126                                   Dressing Patties   \n",
       "39182      13583                           Sweet Potato Casserole V   \n",
       "39685      13552     Red Cabbage With Apricots And Balsamic Vinegar   \n",
       "39808      13544                                   Pumpkin Biscuits   \n",
       "\n",
       "       aver_rate  review_nums  \\\n",
       "2936    4.542484          125   \n",
       "6500    4.451613           25   \n",
       "11414   4.146667           66   \n",
       "14309   4.057693           51   \n",
       "18821   4.450000           15   \n",
       "18980   4.590909           16   \n",
       "19481   4.250000            2   \n",
       "20186   4.111111            8   \n",
       "20454   4.439024           31   \n",
       "20473   4.450000           50   \n",
       "20852   3.850000           18   \n",
       "21440   4.285714           39   \n",
       "22027   4.428571           32   \n",
       "22481   4.200000           10   \n",
       "23117   4.083333           22   \n",
       "23312   4.250000            9   \n",
       "23357   4.626866           57   \n",
       "25870   4.235294           15   \n",
       "26902   4.555555            9   \n",
       "27329   4.666667            7   \n",
       "27577   4.610811          149   \n",
       "28308   4.512821           35   \n",
       "28379   4.689321           90   \n",
       "28568   4.558558           94   \n",
       "28785   3.950000           17   \n",
       "29171   4.058824           13   \n",
       "30338   4.562500           24   \n",
       "30503   4.621212           51   \n",
       "30571   4.470588           74   \n",
       "31292   3.968750           28   \n",
       "31336   4.445783           51   \n",
       "31668   4.030303           31   \n",
       "32892   4.564103          170   \n",
       "33147   4.454545            5   \n",
       "36867   4.250000            4   \n",
       "37833   3.750000            3   \n",
       "38100   4.640000           40   \n",
       "38173   4.000000            3   \n",
       "38341   4.758865          115   \n",
       "38771   4.747127           73   \n",
       "39084   4.538462           12   \n",
       "39182   4.700000           14   \n",
       "39685   4.000000            6   \n",
       "39808   3.500000           14   \n",
       "\n",
       "                                             ingredients  \\\n",
       "2936   turkey tenderloins^soy sauce^Dijon-style prepa...   \n",
       "6500   turkey tenderloins^soy sauce^Dijon-style prepa...   \n",
       "11414  ground turkey^chicken-flavor stuffing mix^eggs...   \n",
       "14309  ground turkey^chicken-flavor stuffing mix^eggs...   \n",
       "18821  butter^packed brown sugar^eggs^honey^orange li...   \n",
       "18980  butter^packed brown sugar^eggs^honey^orange li...   \n",
       "19481  angel food cake mix^pumpkin puree^pumpkin pie ...   \n",
       "20186  angel food cake mix^pumpkin puree^pumpkin pie ...   \n",
       "20454  all-purpose flour^ground cinnamon^baking soda^...   \n",
       "20473  yellow cake mix^margarine softened^egg^eggs^va...   \n",
       "20852  frozen whipped topping thawed^sweetened conden...   \n",
       "21440  frozen whipped topping thawed^sweetened conden...   \n",
       "22027  white sugar^butter^eggs^all-purpose flour^baki...   \n",
       "22481  white sugar^butter^eggs^all-purpose flour^baki...   \n",
       "23117  yellow cake mix^margarine softened^egg^eggs^va...   \n",
       "23312  butter^loaf sliced white bread toasted^eggs^va...   \n",
       "23357  butter^loaf sliced white bread toasted^eggs^va...   \n",
       "25870  thinly sliced apples^lemon juice^crushed pinea...   \n",
       "26902  thinly sliced apples^lemon juice^crushed pinea...   \n",
       "27329  all-purpose flour^ground cinnamon^baking soda^...   \n",
       "27577  green beans^wax beans^kidney beans drained and...   \n",
       "28308  fresh cranberries picked through and rinsed^wa...   \n",
       "28379  fresh cranberries picked through and rinsed^wa...   \n",
       "28568  green beans^wax beans^kidney beans drained and...   \n",
       "28785  chicken stock^wild rice^lemon juice^olive oil^...   \n",
       "29171  chicken stock^wild rice^lemon juice^olive oil^...   \n",
       "30338  white sugar^raspberry vinegar^water^fresh cran...   \n",
       "30503  water^white sugar^fresh cranberries^apples^cid...   \n",
       "30571  fresh green beans washed and trimmed^butter^ch...   \n",
       "31292  all-purpose flour^packed brown sugar^baking po...   \n",
       "31336  fresh green beans washed and trimmed^butter^ch...   \n",
       "31668  butter^red onion^ground allspice^ground nutmeg...   \n",
       "32892  water^white sugar^fresh cranberries^apples^cid...   \n",
       "33147  white sugar^raspberry vinegar^water^fresh cran...   \n",
       "36867  large oranges^red wine vinegar^olive oil^dried...   \n",
       "37833  large oranges^red wine vinegar^olive oil^dried...   \n",
       "38100  cooked and mashed sweet potatoes^packed brown ...   \n",
       "38173  x 13 inch) pan cornbread^refrigerated biscuit ...   \n",
       "38341  cooked and mashed sweet potatoes^white sugar^b...   \n",
       "38771  cooked and mashed sweet potatoes^white sugar^b...   \n",
       "39084  x 13 inch) pan cornbread^refrigerated biscuit ...   \n",
       "39182  cooked and mashed sweet potatoes^packed brown ...   \n",
       "39685  butter^red onion^ground allspice^ground nutmeg...   \n",
       "39808  all-purpose flour^packed brown sugar^baking po...   \n",
       "\n",
       "                                      cooking_directions  \\\n",
       "2936   {'directions': u'Place the turkey tenderloins ...   \n",
       "6500   {'directions': u'Place the turkey tenderloins ...   \n",
       "11414  {'directions': u'Preheat oven to 350 degrees F...   \n",
       "14309  {'directions': u'Preheat oven to 350 degrees F...   \n",
       "18821  {'directions': u'Whisk together the flours, ba...   \n",
       "18980  {'directions': u'Whisk together the flours, ba...   \n",
       "19481  {'directions': u'Combine pumpkin and pumpkin p...   \n",
       "20186  {'directions': u'Combine pumpkin and pumpkin p...   \n",
       "20454  {'directions': u'Preheat oven to 350 degrees F...   \n",
       "20473  {'directions': u'Preheat oven to 350 degrees F...   \n",
       "20852  {'directions': u'Mix whipped topping, sweetene...   \n",
       "21440  {'directions': u'Mix whipped topping, sweetene...   \n",
       "22027  {'directions': u'Preheat oven to 350 degrees F...   \n",
       "22481  {'directions': u'Preheat oven to 350 degrees F...   \n",
       "23117  {'directions': u'Preheat oven to 350 degrees F...   \n",
       "23312  {'directions': u'Prep\\n20 m\\nCook\\n55 m\\nReady...   \n",
       "23357  {'directions': u'Prep\\n20 m\\nCook\\n55 m\\nReady...   \n",
       "25870  {'directions': u'Toss apple slices with lemon ...   \n",
       "26902  {'directions': u'Toss apple slices with lemon ...   \n",
       "27329  {'directions': u'Preheat oven to 350 degrees F...   \n",
       "27577  {'directions': u'Mix together green beans, wax...   \n",
       "28308  {'directions': u'Prep\\n5 m\\nCook\\n10 m\\nReady ...   \n",
       "28379  {'directions': u'Prep\\n5 m\\nCook\\n10 m\\nReady ...   \n",
       "28568  {'directions': u'Mix together green beans, wax...   \n",
       "28785  {'directions': u'Place broth in a medium sauce...   \n",
       "29171  {'directions': u'Place broth in a medium sauce...   \n",
       "30338  {'directions': u'Combine 1 1/4 cup sugar, vine...   \n",
       "30503  {'directions': u'In a medium saucepan combine ...   \n",
       "30571  {'directions': u'Place the walnuts on an ungre...   \n",
       "31292  {'directions': u'Preheat oven to 400 degrees F...   \n",
       "31336  {'directions': u'Place the walnuts on an ungre...   \n",
       "31668  {'directions': u'Melt butter or margarine in a...   \n",
       "32892  {'directions': u'In a medium saucepan combine ...   \n",
       "33147  {'directions': u'Combine 1 1/4 cup sugar, vine...   \n",
       "36867  {'directions': u'Peel the oranges and cut each...   \n",
       "37833  {'directions': u'Peel the oranges and cut each...   \n",
       "38100  {'directions': u'Preheat the oven to 350 degre...   \n",
       "38173  {'directions': u\"Preheat oven to 350 degrees F...   \n",
       "38341  {'directions': u'Mix together sweet potatoes, ...   \n",
       "38771  {'directions': u'Mix together sweet potatoes, ...   \n",
       "39084  {'directions': u\"Preheat oven to 350 degrees F...   \n",
       "39182  {'directions': u'Preheat the oven to 350 degre...   \n",
       "39685  {'directions': u'Melt butter or margarine in a...   \n",
       "39808  {'directions': u'Preheat oven to 400 degrees F...   \n",
       "\n",
       "                                                 reviews  \n",
       "2936   {1469184: {'rating': 4, 'followersCount': 0, '...  \n",
       "6500   {10003847: {'rating': 5, 'followersCount': 4, ...  \n",
       "11414  {4497281: {'rating': 5, 'followersCount': 0, '...  \n",
       "14309  {16870435: {'rating': 4, 'followersCount': 1, ...  \n",
       "18821  {21435077: {'rating': 4, 'followersCount': 0, ...  \n",
       "18980  {1182080: {'rating': 4, 'followersCount': 0, '...  \n",
       "19481  {294260: {'rating': 4, 'followersCount': 2, 'm...  \n",
       "20186  {394346: {'rating': 5, 'followersCount': 0, 'm...  \n",
       "20454  {854400: {'rating': 5, 'followersCount': 1, 'm...  \n",
       "20473  {4330112: {'rating': 5, 'followersCount': 0, '...  \n",
       "20852  {842177: {'rating': 1, 'followersCount': 0, 'm...  \n",
       "21440  {2998145: {'rating': 5, 'followersCount': 0, '...  \n",
       "22027  {4228614: {'rating': 5, 'followersCount': 1, '...  \n",
       "22481  {907520: {'rating': 5, 'followersCount': 0, 'm...  \n",
       "23117  {1462531: {'rating': 1, 'followersCount': 0, '...  \n",
       "23312  {52352: {'rating': 4, 'followersCount': 0, 'ma...  \n",
       "23357  {3719808: {'rating': 4, 'followersCount': 0, '...  \n",
       "25870  {2974981: {'rating': 5, 'followersCount': 0, '...  \n",
       "26902  {3180992: {'rating': 5, 'followersCount': 5, '...  \n",
       "27329  {1532140: {'rating': 5, 'followersCount': 332,...  \n",
       "27577  {3540480: {'rating': 5, 'followersCount': 0, '...  \n",
       "28308  {3064960: {'rating': 5, 'followersCount': 0, '...  \n",
       "28379  {614920: {'rating': 5, 'followersCount': 0, 'm...  \n",
       "28568  {3682822: {'rating': 4, 'followersCount': 1, '...  \n",
       "28785  {3229409: {'rating': 5, 'followersCount': 0, '...  \n",
       "29171  {3989952: {'rating': 4, 'followersCount': 1, '...  \n",
       "30338  {3201153: {'rating': 1, 'followersCount': 0, '...  \n",
       "30503  {6014084: {'rating': 5, 'followersCount': 0, '...  \n",
       "30571  {1387636: {'rating': 3, 'followersCount': 7, '...  \n",
       "31292  {7792643: {'rating': 4, 'followersCount': 0, '...  \n",
       "31336  {4210688: {'rating': 5, 'followersCount': 1, '...  \n",
       "31668  {678930: {'rating': 2, 'followersCount': 17, '...  \n",
       "32892  {1483265: {'rating': 1, 'followersCount': 0, '...  \n",
       "33147  {466670: {'rating': 4, 'followersCount': 196, ...  \n",
       "36867  {7302321: {'rating': 4, 'followersCount': 4, '...  \n",
       "37833  {2539958: {'rating': 4, 'followersCount': 0, '...  \n",
       "38100  {742208: {'rating': 5, 'followersCount': 0, 'm...  \n",
       "38173  {842903: {'rating': 5, 'followersCount': 3, 'm...  \n",
       "38341  {4280321: {'rating': 5, 'followersCount': 0, '...  \n",
       "38771  {2461065: {'rating': 5, 'followersCount': 0, '...  \n",
       "39084  {5807302: {'rating': 5, 'followersCount': 0, '...  \n",
       "39182  {296161: {'rating': 5, 'followersCount': 0, 'm...  \n",
       "39685  {4339136: {'rating': 5, 'followersCount': 0, '...  \n",
       "39808  {802048: {'rating': 4, 'followersCount': 0, 'm...  "
      ]
     },
     "execution_count": 18,
     "metadata": {},
     "output_type": "execute_result"
    }
   ],
   "source": [
    "recipes[recipes.duplicated(subset=[\"recipe_name\", \"ingredients\", \"cooking_directions\"], keep = False)]"
   ]
  },
  {
   "cell_type": "code",
   "execution_count": 1,
   "metadata": {},
   "outputs": [],
   "source": [
    "# df.groupby(['location', 'item'])"
   ]
  },
  {
   "cell_type": "markdown",
   "metadata": {},
   "source": [
    "The average rating is quite high, let's take a closer look at it's distribution:"
   ]
  },
  {
   "cell_type": "code",
   "execution_count": 19,
   "metadata": {},
   "outputs": [
    {
     "data": {
      "image/png": "[encoded data removed]",
      "text/plain": [
       "<Figure size 640x480 with 1 Axes>"
      ]
     },
     "metadata": {},
     "output_type": "display_data"
    }
   ],
   "source": [
    "sns.histplot(recipes.aver_rate, binwidth = 1, binrange = [0, 5])\n",
    "plt.show()"
   ]
  },
  {
   "cell_type": "markdown",
   "metadata": {},
   "source": [
    "This distribution is probably distorted by the biased sampling - only ratings from reviews that are actual text are included, many more ratings without review are not accounted for. This makes comparing recipes' average rating meaningless."
   ]
  },
  {
   "cell_type": "markdown",
   "metadata": {},
   "source": []
  },
  {
   "cell_type": "code",
   "execution_count": 22,
   "metadata": {},
   "outputs": [
    {
     "data": {
      "image/png": "[encoded data removed]",
      "text/plain": [
       "<Figure size 640x480 with 1 Axes>"
      ]
     },
     "metadata": {},
     "output_type": "display_data"
    }
   ],
   "source": [
    "sns.histplot(recipes.review_nums, binrange = [0, 500])\n",
    "plt.show()"
   ]
  },
  {
   "cell_type": "code",
   "execution_count": null,
   "metadata": {},
   "outputs": [],
   "source": []
  },
  {
   "cell_type": "code",
   "execution_count": 23,
   "metadata": {},
   "outputs": [],
   "source": [
    "recipes.ingredients = recipes.ingredients.str.split(\"^\")"
   ]
  },
  {
   "cell_type": "code",
   "execution_count": 24,
   "metadata": {},
   "outputs": [
    {
     "data": {
      "text/plain": [
       "['pork belly', 'smoked paprika', 'kosher salt', 'ground black pepper']"
      ]
     },
     "execution_count": 24,
     "metadata": {},
     "output_type": "execute_result"
    }
   ],
   "source": [
    "recipes.ingredients[0]"
   ]
  },
  {
   "cell_type": "code",
   "execution_count": 25,
   "metadata": {},
   "outputs": [
    {
     "data": {
      "text/plain": [
       "list"
      ]
     },
     "execution_count": 25,
     "metadata": {},
     "output_type": "execute_result"
    }
   ],
   "source": [
    "type(recipes.ingredients[0])"
   ]
  },
  {
   "cell_type": "code",
   "execution_count": 26,
   "metadata": {},
   "outputs": [],
   "source": [
    "recipes.cooking_directions = recipes.cooking_directions.apply(ast.literal_eval)"
   ]
  },
  {
   "cell_type": "code",
   "execution_count": 27,
   "metadata": {},
   "outputs": [],
   "source": [
    "# Make sure there is only \"directions\" info\n",
    "assert(recipes.cooking_directions.apply(lambda x: len(x.keys()) == 1).all())\n",
    "assert(recipes.cooking_directions.apply(lambda x: list(x.keys())[0] == \"directions\").all())"
   ]
  },
  {
   "cell_type": "code",
   "execution_count": 28,
   "metadata": {},
   "outputs": [
    {
     "data": {
      "text/plain": [
       "'Prep\\n5 m\\nCook\\n2 h 45 m\\nReady In\\n11 h 50 m\\nPreheat oven to 200 degrees F (95 degrees C).\\nSeason pork belly with paprika, salt, and pepper. Tightly wrap pork twice in heavy-duty aluminum foil. Place on a baking sheet and bake in the preheated oven for 2 1/2 hours. Turn off the oven; let pork rest in the oven for 1 hour. Remove meat from oven, leaving it wrapped in aluminum foil, and refrigerate at least 8 hours or overnight.\\nRemove pork from foil and slice across the grain in 1/4-inch thick slices. Working in batches, cook pork in a non-stick skillet over medium heat until golden and crisped, 6 to 8 minutes per slice.'"
      ]
     },
     "execution_count": 28,
     "metadata": {},
     "output_type": "execute_result"
    }
   ],
   "source": [
    "recipes.cooking_directions[0][\"directions\"]"
   ]
  },
  {
   "cell_type": "code",
   "execution_count": 29,
   "metadata": {},
   "outputs": [],
   "source": [
    "# reduce to string\n",
    "recipes.cooking_directions = recipes.cooking_directions.apply(lambda x: list(x.values())[0])\n",
    "assert all(isinstance(directions, str) for directions in recipes.cooking_directions)"
   ]
  },
  {
   "cell_type": "code",
   "execution_count": 30,
   "metadata": {},
   "outputs": [
    {
     "name": "stdout",
     "output_type": "stream",
     "text": [
      "Prep\n",
      "5 m\n",
      "Cook\n",
      "2 h 45 m\n",
      "Ready In\n",
      "11 h 50 m\n",
      "Preheat oven to 200 degrees F (95 degrees C).\n",
      "Season pork belly with paprika, salt, and pepper. Tightly wrap pork twice in heavy-duty aluminum foil. Place on a baking sheet and bake in the preheated oven for 2 1/2 hours. Turn off the oven; let pork rest in the oven for 1 hour. Remove meat from oven, leaving it wrapped in aluminum foil, and refrigerate at least 8 hours or overnight.\n",
      "Remove pork from foil and slice across the grain in 1/4-inch thick slices. Working in batches, cook pork in a non-stick skillet over medium heat until golden and crisped, 6 to 8 minutes per slice.\n"
     ]
    }
   ],
   "source": [
    "print(recipes.cooking_directions[0])"
   ]
  },
  {
   "cell_type": "code",
   "execution_count": null,
   "metadata": {},
   "outputs": [],
   "source": []
  },
  {
   "cell_type": "code",
   "execution_count": 31,
   "metadata": {},
   "outputs": [
    {
     "data": {
      "text/html": [
       "<div>\n",
       "<style scoped>\n",
       "    .dataframe tbody tr th:only-of-type {\n",
       "        vertical-align: middle;\n",
       "    }\n",
       "\n",
       "    .dataframe tbody tr th {\n",
       "        vertical-align: top;\n",
       "    }\n",
       "\n",
       "    .dataframe thead th {\n",
       "        text-align: right;\n",
       "    }\n",
       "</style>\n",
       "<table border=\"1\" class=\"dataframe\">\n",
       "  <thead>\n",
       "    <tr style=\"text-align: right;\">\n",
       "      <th></th>\n",
       "      <th>recipe_id</th>\n",
       "      <th>reviews</th>\n",
       "    </tr>\n",
       "  </thead>\n",
       "  <tbody>\n",
       "    <tr>\n",
       "      <th>0</th>\n",
       "      <td>222388</td>\n",
       "      <td>{8542392: {'rating': 5, 'followersCount': 11, ...</td>\n",
       "    </tr>\n",
       "    <tr>\n",
       "      <th>1</th>\n",
       "      <td>240488</td>\n",
       "      <td>{3574785: {'rating': 5, 'followersCount': 0, '...</td>\n",
       "    </tr>\n",
       "    <tr>\n",
       "      <th>2</th>\n",
       "      <td>218939</td>\n",
       "      <td>{13774946: {'rating': 5, 'followersCount': 0, ...</td>\n",
       "    </tr>\n",
       "    <tr>\n",
       "      <th>3</th>\n",
       "      <td>87211</td>\n",
       "      <td>{1563136: {'rating': 5, 'followersCount': 0, '...</td>\n",
       "    </tr>\n",
       "    <tr>\n",
       "      <th>4</th>\n",
       "      <td>245714</td>\n",
       "      <td>{2945555: {'rating': 5, 'followersCount': 6690...</td>\n",
       "    </tr>\n",
       "    <tr>\n",
       "      <th>...</th>\n",
       "      <td>...</td>\n",
       "      <td>...</td>\n",
       "    </tr>\n",
       "    <tr>\n",
       "      <th>49693</th>\n",
       "      <td>222886</td>\n",
       "      <td>{2043209: {'rating': 5, 'followersCount': 1509...</td>\n",
       "    </tr>\n",
       "    <tr>\n",
       "      <th>49694</th>\n",
       "      <td>25650</td>\n",
       "      <td>{1380296: {'rating': 4, 'followersCount': 0, '...</td>\n",
       "    </tr>\n",
       "    <tr>\n",
       "      <th>49695</th>\n",
       "      <td>23544</td>\n",
       "      <td>{6412992: {'rating': 4, 'followersCount': 7, '...</td>\n",
       "    </tr>\n",
       "    <tr>\n",
       "      <th>49696</th>\n",
       "      <td>170710</td>\n",
       "      <td>{2381248: {'rating': 5, 'followersCount': 2, '...</td>\n",
       "    </tr>\n",
       "    <tr>\n",
       "      <th>49697</th>\n",
       "      <td>79774</td>\n",
       "      <td>{1245064: {'rating': 4, 'followersCount': 4, '...</td>\n",
       "    </tr>\n",
       "  </tbody>\n",
       "</table>\n",
       "<p>49698 rows × 2 columns</p>\n",
       "</div>"
      ],
      "text/plain": [
       "       recipe_id                                            reviews\n",
       "0         222388  {8542392: {'rating': 5, 'followersCount': 11, ...\n",
       "1         240488  {3574785: {'rating': 5, 'followersCount': 0, '...\n",
       "2         218939  {13774946: {'rating': 5, 'followersCount': 0, ...\n",
       "3          87211  {1563136: {'rating': 5, 'followersCount': 0, '...\n",
       "4         245714  {2945555: {'rating': 5, 'followersCount': 6690...\n",
       "...          ...                                                ...\n",
       "49693     222886  {2043209: {'rating': 5, 'followersCount': 1509...\n",
       "49694      25650  {1380296: {'rating': 4, 'followersCount': 0, '...\n",
       "49695      23544  {6412992: {'rating': 4, 'followersCount': 7, '...\n",
       "49696     170710  {2381248: {'rating': 5, 'followersCount': 2, '...\n",
       "49697      79774  {1245064: {'rating': 4, 'followersCount': 4, '...\n",
       "\n",
       "[49698 rows x 2 columns]"
      ]
     },
     "execution_count": 31,
     "metadata": {},
     "output_type": "execute_result"
    }
   ],
   "source": [
    "interactions = recipes[[\"recipe_id\", \"reviews\"]]\n",
    "interactions\n"
   ]
  },
  {
   "cell_type": "code",
   "execution_count": 32,
   "metadata": {},
   "outputs": [
    {
     "name": "stderr",
     "output_type": "stream",
     "text": [
      "C:\\Users\\diana\\AppData\\Local\\Temp\\ipykernel_12068\\2344191104.py:1: SettingWithCopyWarning: \n",
      "A value is trying to be set on a copy of a slice from a DataFrame.\n",
      "Try using .loc[row_indexer,col_indexer] = value instead\n",
      "\n",
      "See the caveats in the documentation: https://pandas.pydata.org/pandas-docs/stable/user_guide/indexing.html#returning-a-view-versus-a-copy\n",
      "  interactions[\"reviews\"] = interactions.reviews.apply(ast.literal_eval)\n"
     ]
    }
   ],
   "source": [
    "interactions[\"reviews\"] = interactions.reviews.apply(ast.literal_eval)"
   ]
  },
  {
   "cell_type": "code",
   "execution_count": 33,
   "metadata": {},
   "outputs": [
    {
     "data": {
      "text/plain": [
       "dict"
      ]
     },
     "execution_count": 33,
     "metadata": {},
     "output_type": "execute_result"
    }
   ],
   "source": [
    "type(interactions.reviews[0])"
   ]
  },
  {
   "cell_type": "code",
   "execution_count": 34,
   "metadata": {},
   "outputs": [],
   "source": [
    "# interactions.assign(reviews = interactions.reviews.map(lambda d: d.items()))"
   ]
  },
  {
   "cell_type": "code",
   "execution_count": 35,
   "metadata": {},
   "outputs": [],
   "source": [
    "# df_result = (\n",
    "#     df\n",
    "#     .assign(dict=df.dict.map(lambda d: d.items()))\n",
    "#     .explode(\"dict\")\n",
    "#     .assign(\n",
    "#         base=lambda df: df.dict.str.get(0),\n",
    "#         freq=lambda df: df.dict.str.get(1)\n",
    "#     )\n",
    "#     .drop(columns=\"dict\")\n",
    "#     .reset_index(drop=True)\n",
    "# )"
   ]
  },
  {
   "cell_type": "code",
   "execution_count": 36,
   "metadata": {},
   "outputs": [],
   "source": [
    "interactions_df = (\n",
    "    interactions\n",
    "    .assign(reviews=interactions.reviews.map(lambda d: d.items()))\n",
    "    .explode(\"reviews\")\n",
    "    .assign(\n",
    "        user_id=lambda df: df.reviews.str.get(0),\n",
    "        user_info=lambda df: df.reviews.str.get(1)\n",
    "    )\n",
    "    .drop(columns=\"reviews\")\n",
    "    .reset_index(drop=True)\n",
    ")"
   ]
  },
  {
   "cell_type": "code",
   "execution_count": 37,
   "metadata": {},
   "outputs": [
    {
     "data": {
      "text/plain": [
       "{'rating': 5,\n",
       " 'followersCount': 11,\n",
       " 'madeRecipesCount': 18,\n",
       " 'favoritesCount': 200,\n",
       " 'dateLastModified': '2017-04-22T12:46:43.663',\n",
       " 'text': \"Best breakfast ever! I ran out of paprika while seasoning, so I used garlic piercer on the other half of the batch. Very good! Can't wait to make it again... and figure out how to use the drippings!\",\n",
       " 'followingCount': 0}"
      ]
     },
     "execution_count": 37,
     "metadata": {},
     "output_type": "execute_result"
    }
   ],
   "source": [
    "interactions_df.user_info[0]"
   ]
  },
  {
   "cell_type": "code",
   "execution_count": 38,
   "metadata": {},
   "outputs": [
    {
     "data": {
      "text/plain": [
       "(3794003, 3)"
      ]
     },
     "execution_count": 38,
     "metadata": {},
     "output_type": "execute_result"
    }
   ],
   "source": [
    "interactions_df.shape"
   ]
  },
  {
   "cell_type": "code",
   "execution_count": 39,
   "metadata": {},
   "outputs": [],
   "source": [
    "interactions = interactions_df"
   ]
  },
  {
   "cell_type": "code",
   "execution_count": 40,
   "metadata": {},
   "outputs": [],
   "source": [
    "# TODO: export as proper csv, in another notebook maybe"
   ]
  },
  {
   "cell_type": "code",
   "execution_count": 41,
   "metadata": {},
   "outputs": [],
   "source": [
    "interactions = pd.concat([interactions[[\"recipe_id\", \"user_id\"]], interactions[\"user_info\"].apply(pd.Series)], axis=1)\n",
    "interactions"
   ]
  },
  {
   "cell_type": "code",
   "execution_count": null,
   "metadata": {},
   "outputs": [],
   "source": [
    "interactions.to_csv(\"data/interactions_verbose.csv\", index = False)"
   ]
  },
  {
   "cell_type": "code",
   "execution_count": null,
   "metadata": {},
   "outputs": [
    {
     "data": {
      "text/html": [
       "<div>\n",
       "<style scoped>\n",
       "    .dataframe tbody tr th:only-of-type {\n",
       "        vertical-align: middle;\n",
       "    }\n",
       "\n",
       "    .dataframe tbody tr th {\n",
       "        vertical-align: top;\n",
       "    }\n",
       "\n",
       "    .dataframe thead th {\n",
       "        text-align: right;\n",
       "    }\n",
       "</style>\n",
       "<table border=\"1\" class=\"dataframe\">\n",
       "  <thead>\n",
       "    <tr style=\"text-align: right;\">\n",
       "      <th></th>\n",
       "      <th>recipe_id</th>\n",
       "      <th>recipe_name</th>\n",
       "      <th>aver_rate</th>\n",
       "      <th>review_nums</th>\n",
       "      <th>ingredients</th>\n",
       "      <th>cooking_directions</th>\n",
       "      <th>reviews</th>\n",
       "    </tr>\n",
       "  </thead>\n",
       "  <tbody>\n",
       "    <tr>\n",
       "      <th>40594</th>\n",
       "      <td>6667</td>\n",
       "      <td>Cornish Splits</td>\n",
       "      <td>4.333333</td>\n",
       "      <td>87</td>\n",
       "      <td>[active dry yeast, lukewarm milk, white sugar,...</td>\n",
       "      <td>In a small bowl, dissolve the yeast in the mil...</td>\n",
       "      <td>{3045389: {'rating': 1, 'followersCount': 3, '...</td>\n",
       "    </tr>\n",
       "  </tbody>\n",
       "</table>\n",
       "</div>"
      ],
      "text/plain": [
       "       recipe_id     recipe_name  aver_rate  review_nums  \\\n",
       "40594       6667  Cornish Splits   4.333333           87   \n",
       "\n",
       "                                             ingredients  \\\n",
       "40594  [active dry yeast, lukewarm milk, white sugar,...   \n",
       "\n",
       "                                      cooking_directions  \\\n",
       "40594  In a small bowl, dissolve the yeast in the mil...   \n",
       "\n",
       "                                                 reviews  \n",
       "40594  {3045389: {'rating': 1, 'followersCount': 3, '...  "
      ]
     },
     "execution_count": 13,
     "metadata": {},
     "output_type": "execute_result"
    }
   ],
   "source": [
    "recipes[recipes.recipe_id == 6667]"
   ]
  },
  {
   "cell_type": "code",
   "execution_count": null,
   "metadata": {},
   "outputs": [],
   "source": [
    "# pretty print recipe with matching image by id"
   ]
  },
  {
   "cell_type": "code",
   "execution_count": null,
   "metadata": {},
   "outputs": [],
   "source": [
    "# [item for row in matrix for item in row]"
   ]
  },
  {
   "cell_type": "code",
   "execution_count": null,
   "metadata": {},
   "outputs": [],
   "source": [
    "ingredients_flat = [ingredient for recipe in recipes.ingredients for ingredient in recipe]"
   ]
  },
  {
   "cell_type": "code",
   "execution_count": null,
   "metadata": {},
   "outputs": [],
   "source": [
    "ingredients_counter = Counter(ingredients_flat)"
   ]
  },
  {
   "cell_type": "code",
   "execution_count": null,
   "metadata": {},
   "outputs": [
    {
     "data": {
      "text/plain": [
       "38131"
      ]
     },
     "execution_count": 18,
     "metadata": {},
     "output_type": "execute_result"
    }
   ],
   "source": [
    "len(ingredients_counter)"
   ]
  },
  {
   "cell_type": "code",
   "execution_count": null,
   "metadata": {},
   "outputs": [
    {
     "data": {
      "text/plain": [
       "454274"
      ]
     },
     "execution_count": 19,
     "metadata": {},
     "output_type": "execute_result"
    }
   ],
   "source": [
    "ingredients_counter.total()"
   ]
  },
  {
   "cell_type": "code",
   "execution_count": null,
   "metadata": {},
   "outputs": [
    {
     "data": {
      "text/plain": [
       "[('salt', 15070),\n",
       " ('butter', 13263),\n",
       " ('white sugar', 13032),\n",
       " ('all-purpose flour', 10257),\n",
       " ('garlic', 8113),\n",
       " ('water', 7626),\n",
       " ('olive oil', 7531),\n",
       " ('vanilla extract', 6507),\n",
       " ('milk', 6258),\n",
       " ('eggs', 5856)]"
      ]
     },
     "execution_count": 20,
     "metadata": {},
     "output_type": "execute_result"
    }
   ],
   "source": [
    "ingredients_counter.most_common(10)"
   ]
  },
  {
   "cell_type": "code",
   "execution_count": null,
   "metadata": {},
   "outputs": [
    {
     "data": {
      "text/plain": [
       "[('jalapeno-stuffed green olives', 1),\n",
       " ('fluid ounce) jiggers premium tequila', 1),\n",
       " ('fluid ounce) jigger orange liqueur', 1),\n",
       " ('fluid ounce) jigger sweetened lime juice', 1),\n",
       " ('fluid ounces beer (such as Miller® High Life®)', 1),\n",
       " ('fluid ounces cola-flavored carbonated beverage (such as Coca-Cola®)', 1),\n",
       " ('fresh red currants', 1),\n",
       " ('fluid ounces liquid fruit pectin', 1),\n",
       " ('Almond Breeze Coconutmilk Almondmilk Original Unsweetened', 1),\n",
       " ('Meyer lemon juiced and peeled', 1),\n",
       " ('fluid ounces spiced rum (such as Kraken®)', 1),\n",
       " ('fluid ounce freshly squeezed orange juice', 1),\n",
       " ('fluid ounce white rum (such as Captain Morgan™)', 1),\n",
       " (\"fluid ounce dark rum (such as Myers's®)\", 1),\n",
       " ('fluid ounce hibiscus syrup', 1),\n",
       " ('fluid ounce almond orgeat syrup (such as Torani®)', 1),\n",
       " ('black beans drained and liquid reserved', 1),\n",
       " ('fluid ounces reduced calorie cranberry juice cocktail', 1),\n",
       " ('fluid ounces reduced calorie lemonade', 1),\n",
       " ('crushed jalapeno and habanero peanut brittle (such as Klondike Candies®) (optional)',\n",
       "  1)]"
      ]
     },
     "execution_count": 21,
     "metadata": {},
     "output_type": "execute_result"
    }
   ],
   "source": [
    "ingredients_counter.most_common()[-20:]"
   ]
  },
  {
   "cell_type": "markdown",
   "metadata": {},
   "source": [
    "measuring units, brands and preparation methods (squeezed) to be removed for accurate counting -> text processing instead of naive vectorization\n",
    "\n",
    "from i don't remember which article mean(embedding_title, embedding_ingredients, embedding_directions)"
   ]
  },
  {
   "cell_type": "code",
   "execution_count": null,
   "metadata": {},
   "outputs": [],
   "source": [
    "top_20 = ingredients_counter.most_common(20)\n",
    "most_common_keys = list(reversed([x[0] for x in top_20]))\n",
    "most_common_counts = list(reversed([x[1] for x in top_20]))"
   ]
  },
  {
   "cell_type": "code",
   "execution_count": null,
   "metadata": {},
   "outputs": [
    {
     "data": {
      "image/png": "[encoded data removed]",
      "text/plain": [
       "<Figure size 640x480 with 1 Axes>"
      ]
     },
     "metadata": {},
     "output_type": "display_data"
    }
   ],
   "source": [
    "plt.barh(most_common_keys, most_common_counts)\n",
    "plt.show()"
   ]
  },
  {
   "cell_type": "code",
   "execution_count": null,
   "metadata": {},
   "outputs": [],
   "source": []
  },
  {
   "cell_type": "code",
   "execution_count": null,
   "metadata": {},
   "outputs": [],
   "source": []
  },
  {
   "cell_type": "markdown",
   "metadata": {},
   "source": [
    "### 2.0 Ratings"
   ]
  },
  {
   "cell_type": "markdown",
   "metadata": {},
   "source": []
  },
  {
   "cell_type": "markdown",
   "metadata": {},
   "source": []
  },
  {
   "cell_type": "code",
   "execution_count": null,
   "metadata": {},
   "outputs": [
    {
     "data": {
      "text/html": [
       "<div>\n",
       "<style scoped>\n",
       "    .dataframe tbody tr th:only-of-type {\n",
       "        vertical-align: middle;\n",
       "    }\n",
       "\n",
       "    .dataframe tbody tr th {\n",
       "        vertical-align: top;\n",
       "    }\n",
       "\n",
       "    .dataframe thead th {\n",
       "        text-align: right;\n",
       "    }\n",
       "</style>\n",
       "<table border=\"1\" class=\"dataframe\">\n",
       "  <thead>\n",
       "    <tr style=\"text-align: right;\">\n",
       "      <th></th>\n",
       "      <th>user_id</th>\n",
       "      <th>recipe_id</th>\n",
       "      <th>rating</th>\n",
       "      <th>dateLastModified</th>\n",
       "    </tr>\n",
       "  </thead>\n",
       "  <tbody>\n",
       "    <tr>\n",
       "      <th>0</th>\n",
       "      <td>8542392</td>\n",
       "      <td>222388</td>\n",
       "      <td>5</td>\n",
       "      <td>2017-04-22T12:46:43.663\\n</td>\n",
       "    </tr>\n",
       "    <tr>\n",
       "      <th>1</th>\n",
       "      <td>11174581</td>\n",
       "      <td>222388</td>\n",
       "      <td>5</td>\n",
       "      <td>2013-06-20T15:50:25.96\\n</td>\n",
       "    </tr>\n",
       "    <tr>\n",
       "      <th>2</th>\n",
       "      <td>8262477</td>\n",
       "      <td>222388</td>\n",
       "      <td>5</td>\n",
       "      <td>2015-02-14T07:27:51.307\\n</td>\n",
       "    </tr>\n",
       "    <tr>\n",
       "      <th>3</th>\n",
       "      <td>3574785</td>\n",
       "      <td>240488</td>\n",
       "      <td>5</td>\n",
       "      <td>2017-10-07T18:20:08.973\\n</td>\n",
       "    </tr>\n",
       "    <tr>\n",
       "      <th>4</th>\n",
       "      <td>12145410</td>\n",
       "      <td>240488</td>\n",
       "      <td>2</td>\n",
       "      <td>2018-01-06T00:06:09.563\\n</td>\n",
       "    </tr>\n",
       "    <tr>\n",
       "      <th>...</th>\n",
       "      <td>...</td>\n",
       "      <td>...</td>\n",
       "      <td>...</td>\n",
       "      <td>...</td>\n",
       "    </tr>\n",
       "    <tr>\n",
       "      <th>3793998</th>\n",
       "      <td>12318233</td>\n",
       "      <td>170710</td>\n",
       "      <td>5</td>\n",
       "      <td>2013-11-03T11:09:47.763\\n</td>\n",
       "    </tr>\n",
       "    <tr>\n",
       "      <th>3793999</th>\n",
       "      <td>51226</td>\n",
       "      <td>170710</td>\n",
       "      <td>5</td>\n",
       "      <td>2009-07-18T19:33:36.317\\n</td>\n",
       "    </tr>\n",
       "    <tr>\n",
       "      <th>3794000</th>\n",
       "      <td>1476783</td>\n",
       "      <td>170710</td>\n",
       "      <td>5</td>\n",
       "      <td>2009-07-27T10:21:45.823\\n</td>\n",
       "    </tr>\n",
       "    <tr>\n",
       "      <th>3794001</th>\n",
       "      <td>1245064</td>\n",
       "      <td>79774</td>\n",
       "      <td>4</td>\n",
       "      <td>2006-01-21T20:57:09.327\\n</td>\n",
       "    </tr>\n",
       "    <tr>\n",
       "      <th>3794002</th>\n",
       "      <td>982699</td>\n",
       "      <td>79774</td>\n",
       "      <td>4</td>\n",
       "      <td>2007-07-22T14:59:17.393\\n</td>\n",
       "    </tr>\n",
       "  </tbody>\n",
       "</table>\n",
       "<p>3794003 rows × 4 columns</p>\n",
       "</div>"
      ],
      "text/plain": [
       "          user_id  recipe_id  rating           dateLastModified\n",
       "0         8542392     222388       5  2017-04-22T12:46:43.663\\n\n",
       "1        11174581     222388       5   2013-06-20T15:50:25.96\\n\n",
       "2         8262477     222388       5  2015-02-14T07:27:51.307\\n\n",
       "3         3574785     240488       5  2017-10-07T18:20:08.973\\n\n",
       "4        12145410     240488       2  2018-01-06T00:06:09.563\\n\n",
       "...           ...        ...     ...                        ...\n",
       "3793998  12318233     170710       5  2013-11-03T11:09:47.763\\n\n",
       "3793999     51226     170710       5  2009-07-18T19:33:36.317\\n\n",
       "3794000   1476783     170710       5  2009-07-27T10:21:45.823\\n\n",
       "3794001   1245064      79774       4  2006-01-21T20:57:09.327\\n\n",
       "3794002    982699      79774       4  2007-07-22T14:59:17.393\\n\n",
       "\n",
       "[3794003 rows x 4 columns]"
      ]
     },
     "execution_count": 49,
     "metadata": {},
     "output_type": "execute_result"
    }
   ],
   "source": [
    "interactions = pd.read_csv(\"data/foodRecSys-V1_kaggle/raw-data_interaction.csv\")\n",
    "interactions"
   ]
  },
  {
   "cell_type": "code",
   "execution_count": null,
   "metadata": {},
   "outputs": [
    {
     "data": {
      "text/plain": [
       "user_id              int64\n",
       "recipe_id            int64\n",
       "rating               int64\n",
       "dateLastModified    object\n",
       "dtype: object"
      ]
     },
     "execution_count": 50,
     "metadata": {},
     "output_type": "execute_result"
    }
   ],
   "source": [
    "interactions.dtypes"
   ]
  },
  {
   "cell_type": "code",
   "execution_count": null,
   "metadata": {},
   "outputs": [],
   "source": [
    "interactions.dateLastModified = pd.to_datetime(interactions.dateLastModified, format = \"ISO8601\")"
   ]
  },
  {
   "cell_type": "code",
   "execution_count": null,
   "metadata": {},
   "outputs": [
    {
     "data": {
      "text/html": [
       "<div>\n",
       "<style scoped>\n",
       "    .dataframe tbody tr th:only-of-type {\n",
       "        vertical-align: middle;\n",
       "    }\n",
       "\n",
       "    .dataframe tbody tr th {\n",
       "        vertical-align: top;\n",
       "    }\n",
       "\n",
       "    .dataframe thead th {\n",
       "        text-align: right;\n",
       "    }\n",
       "</style>\n",
       "<table border=\"1\" class=\"dataframe\">\n",
       "  <thead>\n",
       "    <tr style=\"text-align: right;\">\n",
       "      <th></th>\n",
       "      <th>count</th>\n",
       "      <th>mean</th>\n",
       "      <th>min</th>\n",
       "      <th>25%</th>\n",
       "      <th>50%</th>\n",
       "      <th>75%</th>\n",
       "      <th>max</th>\n",
       "      <th>std</th>\n",
       "    </tr>\n",
       "  </thead>\n",
       "  <tbody>\n",
       "    <tr>\n",
       "      <th>user_id</th>\n",
       "      <td>3794003.0</td>\n",
       "      <td>4860242.781291</td>\n",
       "      <td>16.0</td>\n",
       "      <td>1404674.0</td>\n",
       "      <td>2954489.0</td>\n",
       "      <td>6384689.0</td>\n",
       "      <td>23463743.0</td>\n",
       "      <td>5010314.802679</td>\n",
       "    </tr>\n",
       "    <tr>\n",
       "      <th>recipe_id</th>\n",
       "      <td>3794003.0</td>\n",
       "      <td>61121.799155</td>\n",
       "      <td>6663.0</td>\n",
       "      <td>14235.0</td>\n",
       "      <td>23390.0</td>\n",
       "      <td>78649.0</td>\n",
       "      <td>262956.0</td>\n",
       "      <td>71787.206572</td>\n",
       "    </tr>\n",
       "    <tr>\n",
       "      <th>rating</th>\n",
       "      <td>3794003.0</td>\n",
       "      <td>4.513192</td>\n",
       "      <td>1.0</td>\n",
       "      <td>4.0</td>\n",
       "      <td>5.0</td>\n",
       "      <td>5.0</td>\n",
       "      <td>5.0</td>\n",
       "      <td>0.875418</td>\n",
       "    </tr>\n",
       "    <tr>\n",
       "      <th>dateLastModified</th>\n",
       "      <td>3794003</td>\n",
       "      <td>2010-10-22 14:10:57.267878656</td>\n",
       "      <td>2000-02-07 21:06:30.137000</td>\n",
       "      <td>2008-02-25 06:23:30.880000</td>\n",
       "      <td>2010-10-25 12:15:48.150000128</td>\n",
       "      <td>2013-12-24 06:31:24.813499904</td>\n",
       "      <td>2018-03-16 07:19:52.260000</td>\n",
       "      <td>NaN</td>\n",
       "    </tr>\n",
       "  </tbody>\n",
       "</table>\n",
       "</div>"
      ],
      "text/plain": [
       "                      count                           mean  \\\n",
       "user_id           3794003.0                 4860242.781291   \n",
       "recipe_id         3794003.0                   61121.799155   \n",
       "rating            3794003.0                       4.513192   \n",
       "dateLastModified    3794003  2010-10-22 14:10:57.267878656   \n",
       "\n",
       "                                         min                         25%  \\\n",
       "user_id                                 16.0                   1404674.0   \n",
       "recipe_id                             6663.0                     14235.0   \n",
       "rating                                   1.0                         4.0   \n",
       "dateLastModified  2000-02-07 21:06:30.137000  2008-02-25 06:23:30.880000   \n",
       "\n",
       "                                            50%  \\\n",
       "user_id                               2954489.0   \n",
       "recipe_id                               23390.0   \n",
       "rating                                      5.0   \n",
       "dateLastModified  2010-10-25 12:15:48.150000128   \n",
       "\n",
       "                                            75%                         max  \\\n",
       "user_id                               6384689.0                  23463743.0   \n",
       "recipe_id                               78649.0                    262956.0   \n",
       "rating                                      5.0                         5.0   \n",
       "dateLastModified  2013-12-24 06:31:24.813499904  2018-03-16 07:19:52.260000   \n",
       "\n",
       "                             std  \n",
       "user_id           5010314.802679  \n",
       "recipe_id           71787.206572  \n",
       "rating                  0.875418  \n",
       "dateLastModified             NaN  "
      ]
     },
     "execution_count": 54,
     "metadata": {},
     "output_type": "execute_result"
    }
   ],
   "source": [
    "interactions.describe().T"
   ]
  },
  {
   "cell_type": "code",
   "execution_count": null,
   "metadata": {},
   "outputs": [
    {
     "data": {
      "image/png": "[encoded data removed]",
      "text/plain": [
       "<Figure size 640x480 with 1 Axes>"
      ]
     },
     "metadata": {},
     "output_type": "display_data"
    }
   ],
   "source": [
    "plt.hist(interactions.rating, bins = range(6),)\n",
    "plt.semilogy()\n",
    "plt.show()"
   ]
  },
  {
   "cell_type": "code",
   "execution_count": null,
   "metadata": {},
   "outputs": [
    {
     "data": {
      "image/png": "[encoded data removed]",
      "text/plain": [
       "<Figure size 640x480 with 1 Axes>"
      ]
     },
     "metadata": {},
     "output_type": "display_data"
    }
   ],
   "source": [
    "plt.hist(interactions.dateLastModified.dt.year)\n",
    "plt.show()"
   ]
  },
  {
   "cell_type": "code",
   "execution_count": null,
   "metadata": {},
   "outputs": [],
   "source": []
  }
 ],
 "metadata": {
  "kernelspec": {
   "display_name": "Python 3",
   "language": "python",
   "name": "python3"
  },
  "language_info": {
   "codemirror_mode": {
    "name": "ipython",
    "version": 3
   },
   "file_extension": ".py",
   "mimetype": "text/x-python",
   "name": "python",
   "nbconvert_exporter": "python",
   "pygments_lexer": "ipython3",
   "version": "3.9.15"
  }
 },
 "nbformat": 4,
 "nbformat_minor": 2
}
