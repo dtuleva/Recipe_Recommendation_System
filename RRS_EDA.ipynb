{
 "cells": [
  {
   "cell_type": "code",
   "execution_count": 2,
   "metadata": {},
   "outputs": [],
   "source": [
    "%matplotlib inline"
   ]
  },
  {
   "cell_type": "code",
   "execution_count": 3,
   "metadata": {},
   "outputs": [],
   "source": [
    "import numpy as np\n",
    "import pandas as pd\n",
    "import matplotlib.pyplot as plt\n",
    "\n",
    "import ast\n",
    "from collections import Counter"
   ]
  },
  {
   "cell_type": "markdown",
   "metadata": {},
   "source": [
    "# Recipe Recommendation System\n",
    "### Could it recommend a subtitle too?\n",
    "\n",
    "## part 1 - Datasets and EDA"
   ]
  },
  {
   "cell_type": "markdown",
   "metadata": {},
   "source": []
  },
  {
   "cell_type": "markdown",
   "metadata": {},
   "source": [
    "https://www.kaggle.com/datasets/elisaxxygao/foodrecsysv1"
   ]
  },
  {
   "cell_type": "markdown",
   "metadata": {},
   "source": [
    "### 1.0 Recipes"
   ]
  },
  {
   "cell_type": "code",
   "execution_count": 5,
   "metadata": {},
   "outputs": [],
   "source": [
    "recipes = pd.read_csv(\"MommysCookbookDS/data/foodRecSys-V1_kaggle/raw-data_recipe.csv\")"
   ]
  },
  {
   "cell_type": "code",
   "execution_count": 6,
   "metadata": {},
   "outputs": [
    {
     "data": {
      "text/plain": [
       "(49698, 9)"
      ]
     },
     "execution_count": 6,
     "metadata": {},
     "output_type": "execute_result"
    }
   ],
   "source": [
    "recipes.shape"
   ]
  },
  {
   "cell_type": "code",
   "execution_count": 7,
   "metadata": {},
   "outputs": [
    {
     "data": {
      "text/html": [
       "<div>\n",
       "<style scoped>\n",
       "    .dataframe tbody tr th:only-of-type {\n",
       "        vertical-align: middle;\n",
       "    }\n",
       "\n",
       "    .dataframe tbody tr th {\n",
       "        vertical-align: top;\n",
       "    }\n",
       "\n",
       "    .dataframe thead th {\n",
       "        text-align: right;\n",
       "    }\n",
       "</style>\n",
       "<table border=\"1\" class=\"dataframe\">\n",
       "  <thead>\n",
       "    <tr style=\"text-align: right;\">\n",
       "      <th></th>\n",
       "      <th>recipe_id</th>\n",
       "      <th>recipe_name</th>\n",
       "      <th>aver_rate</th>\n",
       "      <th>image_url</th>\n",
       "      <th>review_nums</th>\n",
       "      <th>ingredients</th>\n",
       "      <th>cooking_directions</th>\n",
       "      <th>nutritions</th>\n",
       "      <th>reviews</th>\n",
       "    </tr>\n",
       "  </thead>\n",
       "  <tbody>\n",
       "    <tr>\n",
       "      <th>0</th>\n",
       "      <td>222388</td>\n",
       "      <td>Homemade Bacon</td>\n",
       "      <td>5.000000</td>\n",
       "      <td>https://images.media-allrecipes.com/userphotos...</td>\n",
       "      <td>3</td>\n",
       "      <td>pork belly^smoked paprika^kosher salt^ground b...</td>\n",
       "      <td>{'directions': u'Prep\\n5 m\\nCook\\n2 h 45 m\\nRe...</td>\n",
       "      <td>{u'niacin': {u'hasCompleteData': False, u'name...</td>\n",
       "      <td>{8542392: {'rating': 5, 'followersCount': 11, ...</td>\n",
       "    </tr>\n",
       "    <tr>\n",
       "      <th>1</th>\n",
       "      <td>240488</td>\n",
       "      <td>Pork Loin, Apples, and Sauerkraut</td>\n",
       "      <td>4.764706</td>\n",
       "      <td>https://images.media-allrecipes.com/userphotos...</td>\n",
       "      <td>29</td>\n",
       "      <td>sauerkraut drained^Granny Smith apples sliced^...</td>\n",
       "      <td>{'directions': u'Prep\\n15 m\\nCook\\n2 h 30 m\\nR...</td>\n",
       "      <td>{u'niacin': {u'hasCompleteData': False, u'name...</td>\n",
       "      <td>{3574785: {'rating': 5, 'followersCount': 0, '...</td>\n",
       "    </tr>\n",
       "    <tr>\n",
       "      <th>2</th>\n",
       "      <td>218939</td>\n",
       "      <td>Foolproof Rosemary Chicken Wings</td>\n",
       "      <td>4.571429</td>\n",
       "      <td>https://images.media-allrecipes.com/userphotos...</td>\n",
       "      <td>12</td>\n",
       "      <td>chicken wings^sprigs rosemary^head garlic^oliv...</td>\n",
       "      <td>{'directions': u\"Prep\\n20 m\\nCook\\n40 m\\nReady...</td>\n",
       "      <td>{u'niacin': {u'hasCompleteData': True, u'name'...</td>\n",
       "      <td>{13774946: {'rating': 5, 'followersCount': 0, ...</td>\n",
       "    </tr>\n",
       "  </tbody>\n",
       "</table>\n",
       "</div>"
      ],
      "text/plain": [
       "   recipe_id                        recipe_name  aver_rate  \\\n",
       "0     222388                     Homemade Bacon   5.000000   \n",
       "1     240488  Pork Loin, Apples, and Sauerkraut   4.764706   \n",
       "2     218939   Foolproof Rosemary Chicken Wings   4.571429   \n",
       "\n",
       "                                           image_url  review_nums  \\\n",
       "0  https://images.media-allrecipes.com/userphotos...            3   \n",
       "1  https://images.media-allrecipes.com/userphotos...           29   \n",
       "2  https://images.media-allrecipes.com/userphotos...           12   \n",
       "\n",
       "                                         ingredients  \\\n",
       "0  pork belly^smoked paprika^kosher salt^ground b...   \n",
       "1  sauerkraut drained^Granny Smith apples sliced^...   \n",
       "2  chicken wings^sprigs rosemary^head garlic^oliv...   \n",
       "\n",
       "                                  cooking_directions  \\\n",
       "0  {'directions': u'Prep\\n5 m\\nCook\\n2 h 45 m\\nRe...   \n",
       "1  {'directions': u'Prep\\n15 m\\nCook\\n2 h 30 m\\nR...   \n",
       "2  {'directions': u\"Prep\\n20 m\\nCook\\n40 m\\nReady...   \n",
       "\n",
       "                                          nutritions  \\\n",
       "0  {u'niacin': {u'hasCompleteData': False, u'name...   \n",
       "1  {u'niacin': {u'hasCompleteData': False, u'name...   \n",
       "2  {u'niacin': {u'hasCompleteData': True, u'name'...   \n",
       "\n",
       "                                             reviews  \n",
       "0  {8542392: {'rating': 5, 'followersCount': 11, ...  \n",
       "1  {3574785: {'rating': 5, 'followersCount': 0, '...  \n",
       "2  {13774946: {'rating': 5, 'followersCount': 0, ...  "
      ]
     },
     "execution_count": 7,
     "metadata": {},
     "output_type": "execute_result"
    }
   ],
   "source": [
    "recipes.head(3)"
   ]
  },
  {
   "cell_type": "code",
   "execution_count": 8,
   "metadata": {},
   "outputs": [
    {
     "data": {
      "text/plain": [
       "recipe_id               int64\n",
       "recipe_name            object\n",
       "aver_rate             float64\n",
       "image_url              object\n",
       "review_nums             int64\n",
       "ingredients            object\n",
       "cooking_directions     object\n",
       "nutritions             object\n",
       "reviews                object\n",
       "dtype: object"
      ]
     },
     "execution_count": 8,
     "metadata": {},
     "output_type": "execute_result"
    }
   ],
   "source": [
    "recipes.dtypes"
   ]
  },
  {
   "cell_type": "code",
   "execution_count": 11,
   "metadata": {},
   "outputs": [
    {
     "data": {
      "text/plain": [
       "'{8542392: {\\'rating\\': 5, \\'followersCount\\': 11, \\'madeRecipesCount\\': 18, \\'favoritesCount\\': 200, \\'dateLastModified\\': u\\'2017-04-22T12:46:43.663\\', \\'text\\': u\"Best breakfast ever! I ran out of paprika while seasoning, so I used garlic piercer on the other half of the batch. Very good! Can\\'t wait to make it again... and figure out how to use the drippings!\", \\'followingCount\\': 0}, 11174581: {\\'rating\\': 5, \\'followersCount\\': 8, \\'madeRecipesCount\\': 55, \\'favoritesCount\\': 101, \\'dateLastModified\\': u\\'2013-06-20T15:50:25.96\\', \\'text\\': u\"Awesome!\\\\nIt\\'s amazing.\", \\'followingCount\\': 0}, 8262477: {\\'rating\\': 5, \\'followersCount\\': 0, \\'madeRecipesCount\\': 1, \\'favoritesCount\\': 52, \\'dateLastModified\\': u\\'2015-02-14T07:27:51.307\\', \\'text\\': u\\'The flavors came together well and it really was simple to prepare. My husband and I both enjoyed it!\\', \\'followingCount\\': 0}}\\n'"
      ]
     },
     "execution_count": 11,
     "metadata": {},
     "output_type": "execute_result"
    }
   ],
   "source": [
    "recipes.reviews[0]"
   ]
  },
  {
   "cell_type": "code",
   "execution_count": 65,
   "metadata": {},
   "outputs": [],
   "source": [
    "recipes = recipes.drop(columns = [\"image_url\", \"nutritions\"])"
   ]
  },
  {
   "cell_type": "code",
   "execution_count": 82,
   "metadata": {},
   "outputs": [],
   "source": [
    "recipes.ingredients = recipes.ingredients.str.split(\"^\")"
   ]
  },
  {
   "cell_type": "code",
   "execution_count": 83,
   "metadata": {},
   "outputs": [
    {
     "data": {
      "text/plain": [
       "['sauerkraut drained',\n",
       " 'Granny Smith apples sliced',\n",
       " 'large onion',\n",
       " 'caraway seeds',\n",
       " 'apple cider divided',\n",
       " 'brown sugar',\n",
       " 'Rub:',\n",
       " 'Thai seasoning',\n",
       " 'salt',\n",
       " 'garlic powder',\n",
       " 'ground black pepper',\n",
       " 'boneless pork loin roast']"
      ]
     },
     "execution_count": 83,
     "metadata": {},
     "output_type": "execute_result"
    }
   ],
   "source": [
    "recipes.ingredients[0]"
   ]
  },
  {
   "cell_type": "code",
   "execution_count": 66,
   "metadata": {},
   "outputs": [],
   "source": [
    "recipes.cooking_directions = recipes.cooking_directions.apply(ast.literal_eval)"
   ]
  },
  {
   "cell_type": "code",
   "execution_count": 76,
   "metadata": {},
   "outputs": [],
   "source": [
    "# Make sure there is only \"directions\" info\n",
    "assert(recipes.cooking_directions.apply(lambda x: len(x.keys()) == 1).all())\n",
    "assert(recipes.cooking_directions.apply(lambda x: list(x.keys())[0] == \"directions\").all())"
   ]
  },
  {
   "cell_type": "code",
   "execution_count": 77,
   "metadata": {},
   "outputs": [],
   "source": [
    "# reduce to string\n",
    "recipes.cooking_directions = recipes.cooking_directions.apply(lambda x: list(x.values())[0])"
   ]
  },
  {
   "cell_type": "code",
   "execution_count": 84,
   "metadata": {},
   "outputs": [
    {
     "data": {
      "text/plain": [
       "str"
      ]
     },
     "execution_count": 84,
     "metadata": {},
     "output_type": "execute_result"
    }
   ],
   "source": [
    "type(recipes.cooking_directions[0])"
   ]
  },
  {
   "cell_type": "code",
   "execution_count": 85,
   "metadata": {},
   "outputs": [
    {
     "data": {
      "text/html": [
       "<div>\n",
       "<style scoped>\n",
       "    .dataframe tbody tr th:only-of-type {\n",
       "        vertical-align: middle;\n",
       "    }\n",
       "\n",
       "    .dataframe tbody tr th {\n",
       "        vertical-align: top;\n",
       "    }\n",
       "\n",
       "    .dataframe thead th {\n",
       "        text-align: right;\n",
       "    }\n",
       "</style>\n",
       "<table border=\"1\" class=\"dataframe\">\n",
       "  <thead>\n",
       "    <tr style=\"text-align: right;\">\n",
       "      <th></th>\n",
       "      <th>recipe_id</th>\n",
       "      <th>recipe_name</th>\n",
       "      <th>ingredients</th>\n",
       "      <th>cooking_directions</th>\n",
       "    </tr>\n",
       "  </thead>\n",
       "  <tbody>\n",
       "    <tr>\n",
       "      <th>37572</th>\n",
       "      <td>6667</td>\n",
       "      <td>Cornish Splits</td>\n",
       "      <td>[active dry yeast, lukewarm milk, white sugar,...</td>\n",
       "      <td>In a small bowl, dissolve the yeast in the mil...</td>\n",
       "    </tr>\n",
       "  </tbody>\n",
       "</table>\n",
       "</div>"
      ],
      "text/plain": [
       "       recipe_id     recipe_name  \\\n",
       "37572       6667  Cornish Splits   \n",
       "\n",
       "                                             ingredients  \\\n",
       "37572  [active dry yeast, lukewarm milk, white sugar,...   \n",
       "\n",
       "                                      cooking_directions  \n",
       "37572  In a small bowl, dissolve the yeast in the mil...  "
      ]
     },
     "execution_count": 85,
     "metadata": {},
     "output_type": "execute_result"
    }
   ],
   "source": [
    "recipes[recipes.recipe_id == 6667]"
   ]
  },
  {
   "cell_type": "code",
   "execution_count": 86,
   "metadata": {},
   "outputs": [],
   "source": [
    "# pretty print recipe with matching image by id"
   ]
  },
  {
   "cell_type": "code",
   "execution_count": 89,
   "metadata": {},
   "outputs": [],
   "source": [
    "# [item for row in matrix for item in row]"
   ]
  },
  {
   "cell_type": "code",
   "execution_count": 111,
   "metadata": {},
   "outputs": [],
   "source": [
    "ingredients_flat = [ingredient for recipe in recipes.ingredients for ingredient in recipe]"
   ]
  },
  {
   "cell_type": "code",
   "execution_count": 112,
   "metadata": {},
   "outputs": [],
   "source": [
    "ingredients_counter = Counter(ingredients_flat)"
   ]
  },
  {
   "cell_type": "code",
   "execution_count": 113,
   "metadata": {},
   "outputs": [
    {
     "data": {
      "text/plain": [
       "34157"
      ]
     },
     "execution_count": 113,
     "metadata": {},
     "output_type": "execute_result"
    }
   ],
   "source": [
    "len(ingredients_counter)"
   ]
  },
  {
   "cell_type": "code",
   "execution_count": 114,
   "metadata": {},
   "outputs": [
    {
     "data": {
      "text/plain": [
       "415116"
      ]
     },
     "execution_count": 114,
     "metadata": {},
     "output_type": "execute_result"
    }
   ],
   "source": [
    "ingredients_counter.total()"
   ]
  },
  {
   "cell_type": "code",
   "execution_count": 115,
   "metadata": {},
   "outputs": [
    {
     "data": {
      "text/plain": [
       "[('salt', 13910),\n",
       " ('butter', 12354),\n",
       " ('white sugar', 12016),\n",
       " ('all-purpose flour', 9529),\n",
       " ('garlic', 7511),\n",
       " ('olive oil', 6909),\n",
       " ('water', 6892),\n",
       " ('vanilla extract', 5915),\n",
       " ('milk', 5811),\n",
       " ('eggs', 5359)]"
      ]
     },
     "execution_count": 115,
     "metadata": {},
     "output_type": "execute_result"
    }
   ],
   "source": [
    "ingredients_counter.most_common(10)"
   ]
  },
  {
   "cell_type": "code",
   "execution_count": 116,
   "metadata": {},
   "outputs": [
    {
     "data": {
      "text/plain": [
       "[('lime sliced into rounds (optional)', 1),\n",
       " ('jalapeno-stuffed green olives', 1),\n",
       " ('fluid ounce) jiggers premium tequila', 1),\n",
       " ('fluid ounce) jigger orange liqueur', 1),\n",
       " ('fluid ounce) jigger sweetened lime juice', 1),\n",
       " ('fluid ounces beer (such as Miller® High Life®)', 1),\n",
       " ('fluid ounces cola-flavored carbonated beverage (such as Coca-Cola®)', 1),\n",
       " ('instant milk chocolate drink mix', 1),\n",
       " ('Meyer lemon juiced and peeled', 1),\n",
       " ('fluid ounces spiced rum (such as Kraken®)', 1),\n",
       " ('fluid ounce freshly squeezed orange juice', 1),\n",
       " ('fluid ounce freshly squeezed grapefruit juice', 1),\n",
       " ('fluid ounce white rum (such as Captain Morgan™)', 1),\n",
       " (\"fluid ounce dark rum (such as Myers's®)\", 1),\n",
       " ('fluid ounce hibiscus syrup', 1),\n",
       " ('fluid ounce almond orgeat syrup (such as Torani®)', 1),\n",
       " ('black beans drained and liquid reserved', 1),\n",
       " ('fluid ounces reduced calorie cranberry juice cocktail', 1),\n",
       " ('fluid ounces reduced calorie lemonade', 1),\n",
       " ('crushed jalapeno and habanero peanut brittle (such as Klondike Candies®) (optional)',\n",
       "  1)]"
      ]
     },
     "execution_count": 116,
     "metadata": {},
     "output_type": "execute_result"
    }
   ],
   "source": [
    "ingredients_counter.most_common()[-20:]"
   ]
  },
  {
   "cell_type": "markdown",
   "metadata": {},
   "source": [
    "measuring units, brands and preparation methods (squeezed) to be removed for accurate counting -> text processing instead of naive vectorization\n",
    "\n",
    "from i don't remember which article mean(embedding_title, embedding_ingredients, embedding_directions)"
   ]
  },
  {
   "cell_type": "code",
   "execution_count": 117,
   "metadata": {},
   "outputs": [],
   "source": [
    "top_20 = ingredients_counter.most_common(20)\n",
    "most_common_keys = list(reversed([x[0] for x in top_20]))\n",
    "most_common_counts = list(reversed([x[1] for x in top_20]))"
   ]
  },
  {
   "cell_type": "code",
   "execution_count": 118,
   "metadata": {},
   "outputs": [
    {
     "data": {
      "image/png": "[encoded data removed]",
      "text/plain": [
       "<Figure size 640x480 with 1 Axes>"
      ]
     },
     "metadata": {},
     "output_type": "display_data"
    }
   ],
   "source": [
    "plt.barh(most_common_keys, most_common_counts)\n",
    "plt.show()"
   ]
  },
  {
   "cell_type": "code",
   "execution_count": null,
   "metadata": {},
   "outputs": [],
   "source": []
  },
  {
   "cell_type": "code",
   "execution_count": null,
   "metadata": {},
   "outputs": [],
   "source": []
  },
  {
   "cell_type": "markdown",
   "metadata": {},
   "source": [
    "### 2.0 Ratings"
   ]
  },
  {
   "cell_type": "markdown",
   "metadata": {},
   "source": []
  },
  {
   "cell_type": "markdown",
   "metadata": {},
   "source": []
  },
  {
   "cell_type": "code",
   "execution_count": 4,
   "metadata": {},
   "outputs": [
    {
     "data": {
      "text/html": [
       "<div>\n",
       "<style scoped>\n",
       "    .dataframe tbody tr th:only-of-type {\n",
       "        vertical-align: middle;\n",
       "    }\n",
       "\n",
       "    .dataframe tbody tr th {\n",
       "        vertical-align: top;\n",
       "    }\n",
       "\n",
       "    .dataframe thead th {\n",
       "        text-align: right;\n",
       "    }\n",
       "</style>\n",
       "<table border=\"1\" class=\"dataframe\">\n",
       "  <thead>\n",
       "    <tr style=\"text-align: right;\">\n",
       "      <th></th>\n",
       "      <th>user_id</th>\n",
       "      <th>recipe_id</th>\n",
       "      <th>rating</th>\n",
       "      <th>dateLastModified</th>\n",
       "    </tr>\n",
       "  </thead>\n",
       "  <tbody>\n",
       "    <tr>\n",
       "      <th>0</th>\n",
       "      <td>8542392</td>\n",
       "      <td>222388</td>\n",
       "      <td>5</td>\n",
       "      <td>2017-04-22T12:46:43.663\\n</td>\n",
       "    </tr>\n",
       "    <tr>\n",
       "      <th>1</th>\n",
       "      <td>11174581</td>\n",
       "      <td>222388</td>\n",
       "      <td>5</td>\n",
       "      <td>2013-06-20T15:50:25.96\\n</td>\n",
       "    </tr>\n",
       "    <tr>\n",
       "      <th>2</th>\n",
       "      <td>8262477</td>\n",
       "      <td>222388</td>\n",
       "      <td>5</td>\n",
       "      <td>2015-02-14T07:27:51.307\\n</td>\n",
       "    </tr>\n",
       "    <tr>\n",
       "      <th>3</th>\n",
       "      <td>3574785</td>\n",
       "      <td>240488</td>\n",
       "      <td>5</td>\n",
       "      <td>2017-10-07T18:20:08.973\\n</td>\n",
       "    </tr>\n",
       "    <tr>\n",
       "      <th>4</th>\n",
       "      <td>12145410</td>\n",
       "      <td>240488</td>\n",
       "      <td>2</td>\n",
       "      <td>2018-01-06T00:06:09.563\\n</td>\n",
       "    </tr>\n",
       "    <tr>\n",
       "      <th>...</th>\n",
       "      <td>...</td>\n",
       "      <td>...</td>\n",
       "      <td>...</td>\n",
       "      <td>...</td>\n",
       "    </tr>\n",
       "    <tr>\n",
       "      <th>3793998</th>\n",
       "      <td>12318233</td>\n",
       "      <td>170710</td>\n",
       "      <td>5</td>\n",
       "      <td>2013-11-03T11:09:47.763\\n</td>\n",
       "    </tr>\n",
       "    <tr>\n",
       "      <th>3793999</th>\n",
       "      <td>51226</td>\n",
       "      <td>170710</td>\n",
       "      <td>5</td>\n",
       "      <td>2009-07-18T19:33:36.317\\n</td>\n",
       "    </tr>\n",
       "    <tr>\n",
       "      <th>3794000</th>\n",
       "      <td>1476783</td>\n",
       "      <td>170710</td>\n",
       "      <td>5</td>\n",
       "      <td>2009-07-27T10:21:45.823\\n</td>\n",
       "    </tr>\n",
       "    <tr>\n",
       "      <th>3794001</th>\n",
       "      <td>1245064</td>\n",
       "      <td>79774</td>\n",
       "      <td>4</td>\n",
       "      <td>2006-01-21T20:57:09.327\\n</td>\n",
       "    </tr>\n",
       "    <tr>\n",
       "      <th>3794002</th>\n",
       "      <td>982699</td>\n",
       "      <td>79774</td>\n",
       "      <td>4</td>\n",
       "      <td>2007-07-22T14:59:17.393\\n</td>\n",
       "    </tr>\n",
       "  </tbody>\n",
       "</table>\n",
       "<p>3794003 rows × 4 columns</p>\n",
       "</div>"
      ],
      "text/plain": [
       "          user_id  recipe_id  rating           dateLastModified\n",
       "0         8542392     222388       5  2017-04-22T12:46:43.663\\n\n",
       "1        11174581     222388       5   2013-06-20T15:50:25.96\\n\n",
       "2         8262477     222388       5  2015-02-14T07:27:51.307\\n\n",
       "3         3574785     240488       5  2017-10-07T18:20:08.973\\n\n",
       "4        12145410     240488       2  2018-01-06T00:06:09.563\\n\n",
       "...           ...        ...     ...                        ...\n",
       "3793998  12318233     170710       5  2013-11-03T11:09:47.763\\n\n",
       "3793999     51226     170710       5  2009-07-18T19:33:36.317\\n\n",
       "3794000   1476783     170710       5  2009-07-27T10:21:45.823\\n\n",
       "3794001   1245064      79774       4  2006-01-21T20:57:09.327\\n\n",
       "3794002    982699      79774       4  2007-07-22T14:59:17.393\\n\n",
       "\n",
       "[3794003 rows x 4 columns]"
      ]
     },
     "execution_count": 4,
     "metadata": {},
     "output_type": "execute_result"
    }
   ],
   "source": [
    "pd.read_csv(\"MommysCookbookDS/data/foodRecSys-V1_kaggle/raw-data_interaction.csv\")"
   ]
  },
  {
   "cell_type": "code",
   "execution_count": null,
   "metadata": {},
   "outputs": [],
   "source": []
  }
 ],
 "metadata": {
  "kernelspec": {
   "display_name": "mlflowkernel",
   "language": "python",
   "name": "mlflowkernel"
  },
  "language_info": {
   "codemirror_mode": {
    "name": "ipython",
    "version": 3
   },
   "file_extension": ".py",
   "mimetype": "text/x-python",
   "name": "python",
   "nbconvert_exporter": "python",
   "pygments_lexer": "ipython3",
   "version": "3.11.6"
  }
 },
 "nbformat": 4,
 "nbformat_minor": 2
}
