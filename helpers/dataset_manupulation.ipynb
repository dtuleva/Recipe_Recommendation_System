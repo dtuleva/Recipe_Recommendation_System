{
 "cells": [
  {
   "cell_type": "code",
   "execution_count": 1,
   "metadata": {},
   "outputs": [],
   "source": [
    "import ast\n",
    "\n",
    "import pandas as pd"
   ]
  },
  {
   "cell_type": "markdown",
   "metadata": {},
   "source": [
    "# Dataset manipulation\n",
    "### extract user info and review text from raw recipe dataset"
   ]
  },
  {
   "cell_type": "markdown",
   "metadata": {},
   "source": []
  },
  {
   "cell_type": "code",
   "execution_count": 2,
   "metadata": {},
   "outputs": [],
   "source": [
    "interactions = pd.read_csv(\"../data/foodRecSys-V1_kaggle/raw-data_recipe.csv\") # recipes raw"
   ]
  },
  {
   "cell_type": "code",
   "execution_count": 3,
   "metadata": {},
   "outputs": [],
   "source": [
    "cols_to_keep = [\"recipe_id\", \"aver_rate\", \"review_nums\", \"reviews\"]"
   ]
  },
  {
   "cell_type": "code",
   "execution_count": 4,
   "metadata": {},
   "outputs": [
    {
     "data": {
      "text/html": [
       "<div>\n",
       "<style scoped>\n",
       "    .dataframe tbody tr th:only-of-type {\n",
       "        vertical-align: middle;\n",
       "    }\n",
       "\n",
       "    .dataframe tbody tr th {\n",
       "        vertical-align: top;\n",
       "    }\n",
       "\n",
       "    .dataframe thead th {\n",
       "        text-align: right;\n",
       "    }\n",
       "</style>\n",
       "<table border=\"1\" class=\"dataframe\">\n",
       "  <thead>\n",
       "    <tr style=\"text-align: right;\">\n",
       "      <th></th>\n",
       "      <th>recipe_id</th>\n",
       "      <th>aver_rate</th>\n",
       "      <th>review_nums</th>\n",
       "      <th>reviews</th>\n",
       "    </tr>\n",
       "  </thead>\n",
       "  <tbody>\n",
       "    <tr>\n",
       "      <th>0</th>\n",
       "      <td>222388</td>\n",
       "      <td>5.000000</td>\n",
       "      <td>3</td>\n",
       "      <td>{8542392: {'rating': 5, 'followersCount': 11, ...</td>\n",
       "    </tr>\n",
       "    <tr>\n",
       "      <th>1</th>\n",
       "      <td>240488</td>\n",
       "      <td>4.764706</td>\n",
       "      <td>29</td>\n",
       "      <td>{3574785: {'rating': 5, 'followersCount': 0, '...</td>\n",
       "    </tr>\n",
       "    <tr>\n",
       "      <th>2</th>\n",
       "      <td>218939</td>\n",
       "      <td>4.571429</td>\n",
       "      <td>12</td>\n",
       "      <td>{13774946: {'rating': 5, 'followersCount': 0, ...</td>\n",
       "    </tr>\n",
       "    <tr>\n",
       "      <th>3</th>\n",
       "      <td>87211</td>\n",
       "      <td>4.625000</td>\n",
       "      <td>163</td>\n",
       "      <td>{1563136: {'rating': 5, 'followersCount': 0, '...</td>\n",
       "    </tr>\n",
       "    <tr>\n",
       "      <th>4</th>\n",
       "      <td>245714</td>\n",
       "      <td>4.500000</td>\n",
       "      <td>2</td>\n",
       "      <td>{2945555: {'rating': 5, 'followersCount': 6690...</td>\n",
       "    </tr>\n",
       "    <tr>\n",
       "      <th>...</th>\n",
       "      <td>...</td>\n",
       "      <td>...</td>\n",
       "      <td>...</td>\n",
       "      <td>...</td>\n",
       "    </tr>\n",
       "    <tr>\n",
       "      <th>49693</th>\n",
       "      <td>222886</td>\n",
       "      <td>3.500000</td>\n",
       "      <td>4</td>\n",
       "      <td>{2043209: {'rating': 5, 'followersCount': 1509...</td>\n",
       "    </tr>\n",
       "    <tr>\n",
       "      <th>49694</th>\n",
       "      <td>25650</td>\n",
       "      <td>4.333333</td>\n",
       "      <td>3</td>\n",
       "      <td>{1380296: {'rating': 4, 'followersCount': 0, '...</td>\n",
       "    </tr>\n",
       "    <tr>\n",
       "      <th>49695</th>\n",
       "      <td>23544</td>\n",
       "      <td>3.615385</td>\n",
       "      <td>21</td>\n",
       "      <td>{6412992: {'rating': 4, 'followersCount': 7, '...</td>\n",
       "    </tr>\n",
       "    <tr>\n",
       "      <th>49696</th>\n",
       "      <td>170710</td>\n",
       "      <td>4.714286</td>\n",
       "      <td>19</td>\n",
       "      <td>{2381248: {'rating': 5, 'followersCount': 2, '...</td>\n",
       "    </tr>\n",
       "    <tr>\n",
       "      <th>49697</th>\n",
       "      <td>79774</td>\n",
       "      <td>4.500000</td>\n",
       "      <td>2</td>\n",
       "      <td>{1245064: {'rating': 4, 'followersCount': 4, '...</td>\n",
       "    </tr>\n",
       "  </tbody>\n",
       "</table>\n",
       "<p>49698 rows × 4 columns</p>\n",
       "</div>"
      ],
      "text/plain": [
       "       recipe_id  aver_rate  review_nums  \\\n",
       "0         222388   5.000000            3   \n",
       "1         240488   4.764706           29   \n",
       "2         218939   4.571429           12   \n",
       "3          87211   4.625000          163   \n",
       "4         245714   4.500000            2   \n",
       "...          ...        ...          ...   \n",
       "49693     222886   3.500000            4   \n",
       "49694      25650   4.333333            3   \n",
       "49695      23544   3.615385           21   \n",
       "49696     170710   4.714286           19   \n",
       "49697      79774   4.500000            2   \n",
       "\n",
       "                                                 reviews  \n",
       "0      {8542392: {'rating': 5, 'followersCount': 11, ...  \n",
       "1      {3574785: {'rating': 5, 'followersCount': 0, '...  \n",
       "2      {13774946: {'rating': 5, 'followersCount': 0, ...  \n",
       "3      {1563136: {'rating': 5, 'followersCount': 0, '...  \n",
       "4      {2945555: {'rating': 5, 'followersCount': 6690...  \n",
       "...                                                  ...  \n",
       "49693  {2043209: {'rating': 5, 'followersCount': 1509...  \n",
       "49694  {1380296: {'rating': 4, 'followersCount': 0, '...  \n",
       "49695  {6412992: {'rating': 4, 'followersCount': 7, '...  \n",
       "49696  {2381248: {'rating': 5, 'followersCount': 2, '...  \n",
       "49697  {1245064: {'rating': 4, 'followersCount': 4, '...  \n",
       "\n",
       "[49698 rows x 4 columns]"
      ]
     },
     "execution_count": 4,
     "metadata": {},
     "output_type": "execute_result"
    }
   ],
   "source": [
    "interactions = interactions[cols_to_keep]\n",
    "interactions"
   ]
  },
  {
   "cell_type": "code",
   "execution_count": 5,
   "metadata": {},
   "outputs": [],
   "source": [
    "interactions[\"reviews\"] = interactions.reviews.apply(ast.literal_eval)"
   ]
  },
  {
   "cell_type": "code",
   "execution_count": 6,
   "metadata": {},
   "outputs": [
    {
     "data": {
      "text/plain": [
       "dict"
      ]
     },
     "execution_count": 6,
     "metadata": {},
     "output_type": "execute_result"
    }
   ],
   "source": [
    "type(interactions.reviews[0])"
   ]
  },
  {
   "cell_type": "code",
   "execution_count": 7,
   "metadata": {},
   "outputs": [],
   "source": [
    "# black magic for \n",
    "# new row for each item (review) with key (user_id) and value (user_info) in separate columns\n",
    "\n",
    "interactions = (\n",
    "    interactions\n",
    "        .assign(reviews=interactions.reviews.map(lambda d: d.items()))\n",
    "        .explode(\"reviews\")\n",
    "        .assign(\n",
    "            user_id=lambda df: df.reviews.str.get(0),\n",
    "            user_info=lambda df: df.reviews.str.get(1)\n",
    "        )\n",
    "        .drop(columns=\"reviews\")\n",
    "        .reset_index(drop=True)\n",
    ")"
   ]
  },
  {
   "cell_type": "code",
   "execution_count": 8,
   "metadata": {},
   "outputs": [
    {
     "data": {
      "text/html": [
       "<div>\n",
       "<style scoped>\n",
       "    .dataframe tbody tr th:only-of-type {\n",
       "        vertical-align: middle;\n",
       "    }\n",
       "\n",
       "    .dataframe tbody tr th {\n",
       "        vertical-align: top;\n",
       "    }\n",
       "\n",
       "    .dataframe thead th {\n",
       "        text-align: right;\n",
       "    }\n",
       "</style>\n",
       "<table border=\"1\" class=\"dataframe\">\n",
       "  <thead>\n",
       "    <tr style=\"text-align: right;\">\n",
       "      <th></th>\n",
       "      <th>recipe_id</th>\n",
       "      <th>aver_rate</th>\n",
       "      <th>review_nums</th>\n",
       "      <th>user_id</th>\n",
       "      <th>user_info</th>\n",
       "    </tr>\n",
       "  </thead>\n",
       "  <tbody>\n",
       "    <tr>\n",
       "      <th>0</th>\n",
       "      <td>222388</td>\n",
       "      <td>5.0</td>\n",
       "      <td>3</td>\n",
       "      <td>8542392</td>\n",
       "      <td>{'rating': 5, 'followersCount': 11, 'madeRecip...</td>\n",
       "    </tr>\n",
       "    <tr>\n",
       "      <th>1</th>\n",
       "      <td>222388</td>\n",
       "      <td>5.0</td>\n",
       "      <td>3</td>\n",
       "      <td>11174581</td>\n",
       "      <td>{'rating': 5, 'followersCount': 8, 'madeRecipe...</td>\n",
       "    </tr>\n",
       "    <tr>\n",
       "      <th>2</th>\n",
       "      <td>222388</td>\n",
       "      <td>5.0</td>\n",
       "      <td>3</td>\n",
       "      <td>8262477</td>\n",
       "      <td>{'rating': 5, 'followersCount': 0, 'madeRecipe...</td>\n",
       "    </tr>\n",
       "  </tbody>\n",
       "</table>\n",
       "</div>"
      ],
      "text/plain": [
       "   recipe_id  aver_rate  review_nums   user_id  \\\n",
       "0     222388        5.0            3   8542392   \n",
       "1     222388        5.0            3  11174581   \n",
       "2     222388        5.0            3   8262477   \n",
       "\n",
       "                                           user_info  \n",
       "0  {'rating': 5, 'followersCount': 11, 'madeRecip...  \n",
       "1  {'rating': 5, 'followersCount': 8, 'madeRecipe...  \n",
       "2  {'rating': 5, 'followersCount': 0, 'madeRecipe...  "
      ]
     },
     "execution_count": 8,
     "metadata": {},
     "output_type": "execute_result"
    }
   ],
   "source": [
    "interactions.head(3)"
   ]
  },
  {
   "cell_type": "code",
   "execution_count": 9,
   "metadata": {},
   "outputs": [
    {
     "data": {
      "text/plain": [
       "(3794003, 5)"
      ]
     },
     "execution_count": 9,
     "metadata": {},
     "output_type": "execute_result"
    }
   ],
   "source": [
    "interactions.shape"
   ]
  },
  {
   "cell_type": "code",
   "execution_count": 10,
   "metadata": {},
   "outputs": [
    {
     "data": {
      "text/plain": [
       "{'rating': 5,\n",
       " 'followersCount': 11,\n",
       " 'madeRecipesCount': 18,\n",
       " 'favoritesCount': 200,\n",
       " 'dateLastModified': '2017-04-22T12:46:43.663',\n",
       " 'text': \"Best breakfast ever! I ran out of paprika while seasoning, so I used garlic piercer on the other half of the batch. Very good! Can't wait to make it again... and figure out how to use the drippings!\",\n",
       " 'followingCount': 0}"
      ]
     },
     "execution_count": 10,
     "metadata": {},
     "output_type": "execute_result"
    }
   ],
   "source": [
    "interactions.user_info[0]"
   ]
  },
  {
   "cell_type": "code",
   "execution_count": 57,
   "metadata": {},
   "outputs": [
    {
     "data": {
      "text/html": [
       "<div>\n",
       "<style scoped>\n",
       "    .dataframe tbody tr th:only-of-type {\n",
       "        vertical-align: middle;\n",
       "    }\n",
       "\n",
       "    .dataframe tbody tr th {\n",
       "        vertical-align: top;\n",
       "    }\n",
       "\n",
       "    .dataframe thead th {\n",
       "        text-align: right;\n",
       "    }\n",
       "</style>\n",
       "<table border=\"1\" class=\"dataframe\">\n",
       "  <thead>\n",
       "    <tr style=\"text-align: right;\">\n",
       "      <th></th>\n",
       "      <th>rating</th>\n",
       "      <th>followersCount</th>\n",
       "      <th>madeRecipesCount</th>\n",
       "      <th>favoritesCount</th>\n",
       "      <th>dateLastModified</th>\n",
       "      <th>text</th>\n",
       "      <th>followingCount</th>\n",
       "    </tr>\n",
       "  </thead>\n",
       "  <tbody>\n",
       "    <tr>\n",
       "      <th>0</th>\n",
       "      <td>5</td>\n",
       "      <td>11</td>\n",
       "      <td>18</td>\n",
       "      <td>200</td>\n",
       "      <td>2017-04-22T12:46:43.663</td>\n",
       "      <td>Best breakfast ever! I ran out of paprika whil...</td>\n",
       "      <td>0</td>\n",
       "    </tr>\n",
       "    <tr>\n",
       "      <th>1</th>\n",
       "      <td>5</td>\n",
       "      <td>8</td>\n",
       "      <td>55</td>\n",
       "      <td>101</td>\n",
       "      <td>2013-06-20T15:50:25.96</td>\n",
       "      <td>Awesome!\\nIt's amazing.</td>\n",
       "      <td>0</td>\n",
       "    </tr>\n",
       "    <tr>\n",
       "      <th>2</th>\n",
       "      <td>5</td>\n",
       "      <td>0</td>\n",
       "      <td>1</td>\n",
       "      <td>52</td>\n",
       "      <td>2015-02-14T07:27:51.307</td>\n",
       "      <td>The flavors came together well and it really w...</td>\n",
       "      <td>0</td>\n",
       "    </tr>\n",
       "    <tr>\n",
       "      <th>3</th>\n",
       "      <td>5</td>\n",
       "      <td>0</td>\n",
       "      <td>4</td>\n",
       "      <td>118</td>\n",
       "      <td>2017-10-07T18:20:08.973</td>\n",
       "      <td>Like most, I changed it a bit.  Not a fan of T...</td>\n",
       "      <td>0</td>\n",
       "    </tr>\n",
       "    <tr>\n",
       "      <th>4</th>\n",
       "      <td>2</td>\n",
       "      <td>0</td>\n",
       "      <td>83</td>\n",
       "      <td>170</td>\n",
       "      <td>2018-01-06T00:06:09.563</td>\n",
       "      <td>This was one of the worst recipes I have ever ...</td>\n",
       "      <td>0</td>\n",
       "    </tr>\n",
       "  </tbody>\n",
       "</table>\n",
       "</div>"
      ],
      "text/plain": [
       "   rating  followersCount  madeRecipesCount  favoritesCount  \\\n",
       "0       5              11                18             200   \n",
       "1       5               8                55             101   \n",
       "2       5               0                 1              52   \n",
       "3       5               0                 4             118   \n",
       "4       2               0                83             170   \n",
       "\n",
       "          dateLastModified                                               text  \\\n",
       "0  2017-04-22T12:46:43.663  Best breakfast ever! I ran out of paprika whil...   \n",
       "1   2013-06-20T15:50:25.96                            Awesome!\\nIt's amazing.   \n",
       "2  2015-02-14T07:27:51.307  The flavors came together well and it really w...   \n",
       "3  2017-10-07T18:20:08.973  Like most, I changed it a bit.  Not a fan of T...   \n",
       "4  2018-01-06T00:06:09.563  This was one of the worst recipes I have ever ...   \n",
       "\n",
       "   followingCount  \n",
       "0               0  \n",
       "1               0  \n",
       "2               0  \n",
       "3               0  \n",
       "4               0  "
      ]
     },
     "execution_count": 57,
     "metadata": {},
     "output_type": "execute_result"
    }
   ],
   "source": [
    "interactions[\"user_info\"][0:5].apply(pd.Series)"
   ]
  },
  {
   "cell_type": "code",
   "execution_count": 65,
   "metadata": {},
   "outputs": [],
   "source": [
    "# expand user_info to columns\n",
    "\n",
    "# interactions = pd.concat([interactions[[\"recipe_id\", \"aver_rate\", \"review_nums\"]], interactions[\"user_info\"].apply(pd.Series)], axis=1)"
   ]
  },
  {
   "cell_type": "code",
   "execution_count": 49,
   "metadata": {},
   "outputs": [],
   "source": [
    "i = 0\n",
    "chunksize = 100_000\n",
    "header = True\n",
    "\n",
    "while i < interactions.shape[0]:\n",
    "    chunk = interactions[i : i + chunksize]\n",
    "    chunk = pd.concat([chunk[[\"recipe_id\", \"user_id\"]], chunk[\"user_info\"].apply(pd.Series)], axis=1)\n",
    "    chunk.text = chunk.text.str.replace(\"\\n\", \" \").str.replace(\"\\r\", \" \")\n",
    "\n",
    "    chunk.to_csv(\"../data/raw-data_interactions_verbose.csv\", index = False, header = header, mode='a')\n",
    "    \n",
    "    i += chunksize\n",
    "    header = False\n"
   ]
  },
  {
   "cell_type": "code",
   "execution_count": 45,
   "metadata": {},
   "outputs": [
    {
     "name": "stdout",
     "output_type": "stream",
     "text": [
      "['Wings came out great! A few changes: 1. Cut up the rosemary into smaller pieces and sprinkled it over all the wings. 2. Opened up the garlic and sprinkled it over all the wings. \\r \\r Then when I added the spice mixture the rosemary and garlic mixed into the wings more. I believe this gave the dish more flavor. I baked them 20 min on one side, took them out and turned them then baked another 20 minutes on the other side. \\r \\r Instead of broiling them, I grilled them one by one on the grill. They came out really well. I think the grilling really sealed in the flavor. \\r \\r Thanks for the recipe!']\n"
     ]
    }
   ],
   "source": [
    "print(chunk.text[chunk.user_id == 9470683].values)"
   ]
  },
  {
   "cell_type": "code",
   "execution_count": 50,
   "metadata": {},
   "outputs": [],
   "source": [
    "interactions_verbose = pd.read_csv(\"../data/raw-data_interactions_verbose.csv\", usecols = [\"user_id\", \"recipe_id\", \"dateLastModified\"])"
   ]
  },
  {
   "cell_type": "code",
   "execution_count": 54,
   "metadata": {},
   "outputs": [],
   "source": [
    "interactions_verbose = interactions_verbose.drop_duplicates()"
   ]
  },
  {
   "cell_type": "code",
   "execution_count": 58,
   "metadata": {},
   "outputs": [
    {
     "data": {
      "text/html": [
       "<div>\n",
       "<style scoped>\n",
       "    .dataframe tbody tr th:only-of-type {\n",
       "        vertical-align: middle;\n",
       "    }\n",
       "\n",
       "    .dataframe tbody tr th {\n",
       "        vertical-align: top;\n",
       "    }\n",
       "\n",
       "    .dataframe thead th {\n",
       "        text-align: right;\n",
       "    }\n",
       "</style>\n",
       "<table border=\"1\" class=\"dataframe\">\n",
       "  <thead>\n",
       "    <tr style=\"text-align: right;\">\n",
       "      <th></th>\n",
       "      <th>recipe_id</th>\n",
       "      <th>user_id</th>\n",
       "      <th>dateLastModified</th>\n",
       "    </tr>\n",
       "  </thead>\n",
       "  <tbody>\n",
       "    <tr>\n",
       "      <th>0</th>\n",
       "      <td>222388</td>\n",
       "      <td>8542392</td>\n",
       "      <td>2017-04-22T12:46:43.663</td>\n",
       "    </tr>\n",
       "    <tr>\n",
       "      <th>1</th>\n",
       "      <td>222388</td>\n",
       "      <td>11174581</td>\n",
       "      <td>2013-06-20T15:50:25.96</td>\n",
       "    </tr>\n",
       "    <tr>\n",
       "      <th>2</th>\n",
       "      <td>222388</td>\n",
       "      <td>8262477</td>\n",
       "      <td>2015-02-14T07:27:51.307</td>\n",
       "    </tr>\n",
       "    <tr>\n",
       "      <th>3</th>\n",
       "      <td>240488</td>\n",
       "      <td>3574785</td>\n",
       "      <td>2017-10-07T18:20:08.973</td>\n",
       "    </tr>\n",
       "    <tr>\n",
       "      <th>4</th>\n",
       "      <td>240488</td>\n",
       "      <td>12145410</td>\n",
       "      <td>2018-01-06T00:06:09.563</td>\n",
       "    </tr>\n",
       "    <tr>\n",
       "      <th>...</th>\n",
       "      <td>...</td>\n",
       "      <td>...</td>\n",
       "      <td>...</td>\n",
       "    </tr>\n",
       "    <tr>\n",
       "      <th>3794035</th>\n",
       "      <td>170710</td>\n",
       "      <td>12318233</td>\n",
       "      <td>2013-11-03T11:09:47.763</td>\n",
       "    </tr>\n",
       "    <tr>\n",
       "      <th>3794036</th>\n",
       "      <td>170710</td>\n",
       "      <td>51226</td>\n",
       "      <td>2009-07-18T19:33:36.317</td>\n",
       "    </tr>\n",
       "    <tr>\n",
       "      <th>3794037</th>\n",
       "      <td>170710</td>\n",
       "      <td>3616571</td>\n",
       "      <td>2011-09-20T10:45:59.587</td>\n",
       "    </tr>\n",
       "    <tr>\n",
       "      <th>3794038</th>\n",
       "      <td>79774</td>\n",
       "      <td>1245064</td>\n",
       "      <td>2006-01-21T20:57:09.327</td>\n",
       "    </tr>\n",
       "    <tr>\n",
       "      <th>3794039</th>\n",
       "      <td>79774</td>\n",
       "      <td>982699</td>\n",
       "      <td>2007-07-22T14:59:17.393</td>\n",
       "    </tr>\n",
       "  </tbody>\n",
       "</table>\n",
       "<p>3794003 rows × 3 columns</p>\n",
       "</div>"
      ],
      "text/plain": [
       "         recipe_id   user_id         dateLastModified\n",
       "0           222388   8542392  2017-04-22T12:46:43.663\n",
       "1           222388  11174581   2013-06-20T15:50:25.96\n",
       "2           222388   8262477  2015-02-14T07:27:51.307\n",
       "3           240488   3574785  2017-10-07T18:20:08.973\n",
       "4           240488  12145410  2018-01-06T00:06:09.563\n",
       "...            ...       ...                      ...\n",
       "3794035     170710  12318233  2013-11-03T11:09:47.763\n",
       "3794036     170710     51226  2009-07-18T19:33:36.317\n",
       "3794037     170710   3616571  2011-09-20T10:45:59.587\n",
       "3794038      79774   1245064  2006-01-21T20:57:09.327\n",
       "3794039      79774    982699  2007-07-22T14:59:17.393\n",
       "\n",
       "[3794003 rows x 3 columns]"
      ]
     },
     "execution_count": 58,
     "metadata": {},
     "output_type": "execute_result"
    }
   ],
   "source": [
    "interactions_verbose"
   ]
  },
  {
   "cell_type": "code",
   "execution_count": 61,
   "metadata": {},
   "outputs": [],
   "source": [
    "interactions_raw = pd.read_csv(\"../data/foodRecSys-V1_kaggle/raw-data_interaction.csv\")"
   ]
  },
  {
   "cell_type": "code",
   "execution_count": 62,
   "metadata": {},
   "outputs": [
    {
     "data": {
      "text/html": [
       "<div>\n",
       "<style scoped>\n",
       "    .dataframe tbody tr th:only-of-type {\n",
       "        vertical-align: middle;\n",
       "    }\n",
       "\n",
       "    .dataframe tbody tr th {\n",
       "        vertical-align: top;\n",
       "    }\n",
       "\n",
       "    .dataframe thead th {\n",
       "        text-align: right;\n",
       "    }\n",
       "</style>\n",
       "<table border=\"1\" class=\"dataframe\">\n",
       "  <thead>\n",
       "    <tr style=\"text-align: right;\">\n",
       "      <th></th>\n",
       "      <th>user_id</th>\n",
       "      <th>recipe_id</th>\n",
       "      <th>rating</th>\n",
       "      <th>dateLastModified</th>\n",
       "    </tr>\n",
       "  </thead>\n",
       "  <tbody>\n",
       "    <tr>\n",
       "      <th>0</th>\n",
       "      <td>8542392</td>\n",
       "      <td>222388</td>\n",
       "      <td>5</td>\n",
       "      <td>2017-04-22T12:46:43.663\\n</td>\n",
       "    </tr>\n",
       "    <tr>\n",
       "      <th>1</th>\n",
       "      <td>11174581</td>\n",
       "      <td>222388</td>\n",
       "      <td>5</td>\n",
       "      <td>2013-06-20T15:50:25.96\\n</td>\n",
       "    </tr>\n",
       "    <tr>\n",
       "      <th>2</th>\n",
       "      <td>8262477</td>\n",
       "      <td>222388</td>\n",
       "      <td>5</td>\n",
       "      <td>2015-02-14T07:27:51.307\\n</td>\n",
       "    </tr>\n",
       "    <tr>\n",
       "      <th>3</th>\n",
       "      <td>3574785</td>\n",
       "      <td>240488</td>\n",
       "      <td>5</td>\n",
       "      <td>2017-10-07T18:20:08.973\\n</td>\n",
       "    </tr>\n",
       "    <tr>\n",
       "      <th>4</th>\n",
       "      <td>12145410</td>\n",
       "      <td>240488</td>\n",
       "      <td>2</td>\n",
       "      <td>2018-01-06T00:06:09.563\\n</td>\n",
       "    </tr>\n",
       "    <tr>\n",
       "      <th>...</th>\n",
       "      <td>...</td>\n",
       "      <td>...</td>\n",
       "      <td>...</td>\n",
       "      <td>...</td>\n",
       "    </tr>\n",
       "    <tr>\n",
       "      <th>3793998</th>\n",
       "      <td>12318233</td>\n",
       "      <td>170710</td>\n",
       "      <td>5</td>\n",
       "      <td>2013-11-03T11:09:47.763\\n</td>\n",
       "    </tr>\n",
       "    <tr>\n",
       "      <th>3793999</th>\n",
       "      <td>51226</td>\n",
       "      <td>170710</td>\n",
       "      <td>5</td>\n",
       "      <td>2009-07-18T19:33:36.317\\n</td>\n",
       "    </tr>\n",
       "    <tr>\n",
       "      <th>3794000</th>\n",
       "      <td>1476783</td>\n",
       "      <td>170710</td>\n",
       "      <td>5</td>\n",
       "      <td>2009-07-27T10:21:45.823\\n</td>\n",
       "    </tr>\n",
       "    <tr>\n",
       "      <th>3794001</th>\n",
       "      <td>1245064</td>\n",
       "      <td>79774</td>\n",
       "      <td>4</td>\n",
       "      <td>2006-01-21T20:57:09.327\\n</td>\n",
       "    </tr>\n",
       "    <tr>\n",
       "      <th>3794002</th>\n",
       "      <td>982699</td>\n",
       "      <td>79774</td>\n",
       "      <td>4</td>\n",
       "      <td>2007-07-22T14:59:17.393\\n</td>\n",
       "    </tr>\n",
       "  </tbody>\n",
       "</table>\n",
       "<p>3794003 rows × 4 columns</p>\n",
       "</div>"
      ],
      "text/plain": [
       "          user_id  recipe_id  rating           dateLastModified\n",
       "0         8542392     222388       5  2017-04-22T12:46:43.663\\n\n",
       "1        11174581     222388       5   2013-06-20T15:50:25.96\\n\n",
       "2         8262477     222388       5  2015-02-14T07:27:51.307\\n\n",
       "3         3574785     240488       5  2017-10-07T18:20:08.973\\n\n",
       "4        12145410     240488       2  2018-01-06T00:06:09.563\\n\n",
       "...           ...        ...     ...                        ...\n",
       "3793998  12318233     170710       5  2013-11-03T11:09:47.763\\n\n",
       "3793999     51226     170710       5  2009-07-18T19:33:36.317\\n\n",
       "3794000   1476783     170710       5  2009-07-27T10:21:45.823\\n\n",
       "3794001   1245064      79774       4  2006-01-21T20:57:09.327\\n\n",
       "3794002    982699      79774       4  2007-07-22T14:59:17.393\\n\n",
       "\n",
       "[3794003 rows x 4 columns]"
      ]
     },
     "execution_count": 62,
     "metadata": {},
     "output_type": "execute_result"
    }
   ],
   "source": [
    "interactions_raw"
   ]
  },
  {
   "cell_type": "code",
   "execution_count": null,
   "metadata": {},
   "outputs": [],
   "source": []
  },
  {
   "cell_type": "code",
   "execution_count": 12,
   "metadata": {},
   "outputs": [],
   "source": []
  },
  {
   "cell_type": "code",
   "execution_count": null,
   "metadata": {},
   "outputs": [],
   "source": []
  },
  {
   "cell_type": "code",
   "execution_count": null,
   "metadata": {},
   "outputs": [],
   "source": []
  }
 ],
 "metadata": {
  "kernelspec": {
   "display_name": "mlflowkernel",
   "language": "python",
   "name": "mlflowkernel"
  },
  "language_info": {
   "codemirror_mode": {
    "name": "ipython",
    "version": 3
   },
   "file_extension": ".py",
   "mimetype": "text/x-python",
   "name": "python",
   "nbconvert_exporter": "python",
   "pygments_lexer": "ipython3",
   "version": "3.11.6"
  }
 },
 "nbformat": 4,
 "nbformat_minor": 2
}
