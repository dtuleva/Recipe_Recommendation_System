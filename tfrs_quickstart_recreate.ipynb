{
  "nbformat": 4,
  "nbformat_minor": 0,
  "metadata": {
    "colab": {
      "provenance": [],
      "authorship_tag": "ABX9TyNAy+1DknMVARXi5aFk98b/",
      "include_colab_link": true
    },
    "kernelspec": {
      "name": "python3",
      "display_name": "Python 3"
    },
    "language_info": {
      "name": "python"
    }
  },
  "cells": [
    {
      "cell_type": "markdown",
      "metadata": {
        "id": "view-in-github",
        "colab_type": "text"
      },
      "source": [
        "<a href=\"https://colab.research.google.com/github/dtuleva/Recipe_Recommendation_System/blob/main/tfrs_quickstart_recreate.ipynb\" target=\"_parent\"><img src=\"https://colab.research.google.com/assets/colab-badge.svg\" alt=\"Open In Colab\"/></a>"
      ]
    },
    {
      "cell_type": "code",
      "execution_count": null,
      "metadata": {
        "colab": {
          "base_uri": "https://localhost:8080/"
        },
        "id": "KPLfFQF0HrjW",
        "outputId": "89e0e3c4-a32d-481a-a33c-3e8dd605f1f4"
      },
      "outputs": [
        {
          "output_type": "stream",
          "name": "stdout",
          "text": [
            "\u001b[2K     \u001b[90m━━━━━━━━━━━━━━━━━━━━━━━━━━━━━━━━━━━━━━━━\u001b[0m \u001b[32m19.1/19.1 MB\u001b[0m \u001b[31m12.9 MB/s\u001b[0m eta \u001b[36m0:00:00\u001b[0m\n",
            "\u001b[2K     \u001b[90m━━━━━━━━━━━━━━━━━━━━━━━━━━━━━━━━━━━━━━━━\u001b[0m \u001b[32m150.3/150.3 kB\u001b[0m \u001b[31m8.9 MB/s\u001b[0m eta \u001b[36m0:00:00\u001b[0m\n",
            "\u001b[2K     \u001b[90m━━━━━━━━━━━━━━━━━━━━━━━━━━━━━━━━━━━━━━━━\u001b[0m \u001b[32m190.6/190.6 kB\u001b[0m \u001b[31m5.6 MB/s\u001b[0m eta \u001b[36m0:00:00\u001b[0m\n",
            "\u001b[2K     \u001b[90m━━━━━━━━━━━━━━━━━━━━━━━━━━━━━━━━━━━━━━━━\u001b[0m \u001b[32m233.4/233.4 kB\u001b[0m \u001b[31m14.1 MB/s\u001b[0m eta \u001b[36m0:00:00\u001b[0m\n",
            "\u001b[2K     \u001b[90m━━━━━━━━━━━━━━━━━━━━━━━━━━━━━━━━━━━━━━━━\u001b[0m \u001b[32m148.1/148.1 kB\u001b[0m \u001b[31m10.7 MB/s\u001b[0m eta \u001b[36m0:00:00\u001b[0m\n",
            "\u001b[2K     \u001b[90m━━━━━━━━━━━━━━━━━━━━━━━━━━━━━━━━━━━━━━━━\u001b[0m \u001b[32m80.2/80.2 kB\u001b[0m \u001b[31m5.3 MB/s\u001b[0m eta \u001b[36m0:00:00\u001b[0m\n",
            "\u001b[2K     \u001b[90m━━━━━━━━━━━━━━━━━━━━━━━━━━━━━━━━━━━━━━━━\u001b[0m \u001b[32m78.6/78.6 kB\u001b[0m \u001b[31m4.7 MB/s\u001b[0m eta \u001b[36m0:00:00\u001b[0m\n",
            "\u001b[2K     \u001b[90m━━━━━━━━━━━━━━━━━━━━━━━━━━━━━━━━━━━━━━━━\u001b[0m \u001b[32m62.7/62.7 kB\u001b[0m \u001b[31m4.9 MB/s\u001b[0m eta \u001b[36m0:00:00\u001b[0m\n",
            "\u001b[?25h"
          ]
        }
      ],
      "source": [
        "!pip install mlflow --quiet\n",
        "\n"
      ]
    },
    {
      "cell_type": "code",
      "source": [
        "!pip install -q tensorflow-recommenders\n",
        "# !pip install -q --upgrade tensorflow-datasets"
      ],
      "metadata": {
        "colab": {
          "base_uri": "https://localhost:8080/"
        },
        "id": "7may0eXYFSIJ",
        "outputId": "87a84fc3-05e6-422e-9c37-4717e122d881"
      },
      "execution_count": null,
      "outputs": [
        {
          "output_type": "stream",
          "name": "stdout",
          "text": [
            "\u001b[?25l     \u001b[90m━━━━━━━━━━━━━━━━━━━━━━━━━━━━━━━━━━━━━━━━\u001b[0m \u001b[32m0.0/96.2 kB\u001b[0m \u001b[31m?\u001b[0m eta \u001b[36m-:--:--\u001b[0m\r\u001b[2K     \u001b[91m━━━━━━━━━━━━━━━━━\u001b[0m\u001b[90m╺\u001b[0m\u001b[90m━━━━━━━━━━━━━━━━━━━━━━\u001b[0m \u001b[32m41.0/96.2 kB\u001b[0m \u001b[31m892.9 kB/s\u001b[0m eta \u001b[36m0:00:01\u001b[0m\r\u001b[2K     \u001b[90m━━━━━━━━━━━━━━━━━━━━━━━━━━━━━━━━━━━━━━━━\u001b[0m \u001b[32m96.2/96.2 kB\u001b[0m \u001b[31m1.4 MB/s\u001b[0m eta \u001b[36m0:00:00\u001b[0m\n",
            "\u001b[?25h"
          ]
        }
      ]
    },
    {
      "cell_type": "code",
      "source": [
        "!zip -r /content/test_experiment.zip /content/mlruns # zip mlflow logs"
      ],
      "metadata": {
        "id": "4ew9RMNojzYb",
        "colab": {
          "base_uri": "https://localhost:8080/"
        },
        "outputId": "3ae69247-d197-4528-9171-6cd51eae0acf"
      },
      "execution_count": null,
      "outputs": [
        {
          "output_type": "stream",
          "name": "stdout",
          "text": [
            "  adding: content/mlruns/ (stored 0%)\n",
            "  adding: content/mlruns/0/ (stored 0%)\n",
            "  adding: content/mlruns/0/38b663884d18471ba617a6ffcbb62e51/ (stored 0%)\n",
            "  adding: content/mlruns/0/38b663884d18471ba617a6ffcbb62e51/params/ (stored 0%)\n",
            "  adding: content/mlruns/0/38b663884d18471ba617a6ffcbb62e51/params/dataset (stored 0%)\n",
            "  adding: content/mlruns/0/38b663884d18471ba617a6ffcbb62e51/meta.yaml (deflated 44%)\n",
            "  adding: content/mlruns/0/38b663884d18471ba617a6ffcbb62e51/artifacts/ (stored 0%)\n",
            "  adding: content/mlruns/0/38b663884d18471ba617a6ffcbb62e51/metrics/ (stored 0%)\n",
            "  adding: content/mlruns/0/38b663884d18471ba617a6ffcbb62e51/tags/ (stored 0%)\n",
            "  adding: content/mlruns/0/38b663884d18471ba617a6ffcbb62e51/tags/mlflow.source.name (deflated 5%)\n",
            "  adding: content/mlruns/0/38b663884d18471ba617a6ffcbb62e51/tags/mlflow.runName (stored 0%)\n",
            "  adding: content/mlruns/0/38b663884d18471ba617a6ffcbb62e51/tags/mlflow.user (stored 0%)\n",
            "  adding: content/mlruns/0/38b663884d18471ba617a6ffcbb62e51/tags/mlflow.source.type (stored 0%)\n",
            "  adding: content/mlruns/0/554494b4ff0c4059aa98e993ff230131/ (stored 0%)\n",
            "  adding: content/mlruns/0/554494b4ff0c4059aa98e993ff230131/params/ (stored 0%)\n",
            "  adding: content/mlruns/0/554494b4ff0c4059aa98e993ff230131/params/validation_steps (stored 0%)\n",
            "  adding: content/mlruns/0/554494b4ff0c4059aa98e993ff230131/params/opt_weight_decay (stored 0%)\n",
            "  adding: content/mlruns/0/554494b4ff0c4059aa98e993ff230131/params/use_multiprocessing (stored 0%)\n",
            "  adding: content/mlruns/0/554494b4ff0c4059aa98e993ff230131/params/opt_is_legacy_optimizer (stored 0%)\n",
            "  adding: content/mlruns/0/554494b4ff0c4059aa98e993ff230131/params/opt_initial_accumulator_value (stored 0%)\n",
            "  adding: content/mlruns/0/554494b4ff0c4059aa98e993ff230131/params/epochs (stored 0%)\n",
            "  adding: content/mlruns/0/554494b4ff0c4059aa98e993ff230131/params/opt_ema_overwrite_frequency (stored 0%)\n",
            "  adding: content/mlruns/0/554494b4ff0c4059aa98e993ff230131/params/opt_global_clipnorm (stored 0%)\n",
            "  adding: content/mlruns/0/554494b4ff0c4059aa98e993ff230131/params/max_queue_size (stored 0%)\n",
            "  adding: content/mlruns/0/554494b4ff0c4059aa98e993ff230131/params/validation_batch_size (stored 0%)\n",
            "  adding: content/mlruns/0/554494b4ff0c4059aa98e993ff230131/params/initial_epoch (stored 0%)\n",
            "  adding: content/mlruns/0/554494b4ff0c4059aa98e993ff230131/params/opt_ema_momentum (stored 0%)\n",
            "  adding: content/mlruns/0/554494b4ff0c4059aa98e993ff230131/params/opt_name (stored 0%)\n",
            "  adding: content/mlruns/0/554494b4ff0c4059aa98e993ff230131/params/class_weight (stored 0%)\n",
            "  adding: content/mlruns/0/554494b4ff0c4059aa98e993ff230131/params/opt_epsilon (stored 0%)\n",
            "  adding: content/mlruns/0/554494b4ff0c4059aa98e993ff230131/params/validation_freq (stored 0%)\n",
            "  adding: content/mlruns/0/554494b4ff0c4059aa98e993ff230131/params/validation_split (stored 0%)\n",
            "  adding: content/mlruns/0/554494b4ff0c4059aa98e993ff230131/params/sample_weight (stored 0%)\n",
            "  adding: content/mlruns/0/554494b4ff0c4059aa98e993ff230131/params/opt_clipvalue (stored 0%)\n",
            "  adding: content/mlruns/0/554494b4ff0c4059aa98e993ff230131/params/opt_use_ema (stored 0%)\n",
            "  adding: content/mlruns/0/554494b4ff0c4059aa98e993ff230131/params/opt_clipnorm (stored 0%)\n",
            "  adding: content/mlruns/0/554494b4ff0c4059aa98e993ff230131/params/shuffle (stored 0%)\n",
            "  adding: content/mlruns/0/554494b4ff0c4059aa98e993ff230131/params/workers (stored 0%)\n",
            "  adding: content/mlruns/0/554494b4ff0c4059aa98e993ff230131/params/dataset (stored 0%)\n",
            "  adding: content/mlruns/0/554494b4ff0c4059aa98e993ff230131/params/opt_jit_compile (stored 0%)\n",
            "  adding: content/mlruns/0/554494b4ff0c4059aa98e993ff230131/params/opt_learning_rate (stored 0%)\n",
            "  adding: content/mlruns/0/554494b4ff0c4059aa98e993ff230131/params/steps_per_epoch (stored 0%)\n",
            "  adding: content/mlruns/0/554494b4ff0c4059aa98e993ff230131/params/batch_size (stored 0%)\n",
            "  adding: content/mlruns/0/554494b4ff0c4059aa98e993ff230131/meta.yaml (deflated 44%)\n",
            "  adding: content/mlruns/0/554494b4ff0c4059aa98e993ff230131/inputs/ (stored 0%)\n",
            "  adding: content/mlruns/0/554494b4ff0c4059aa98e993ff230131/inputs/f2522f701eaa80faca2b592ac2bb7cc4/ (stored 0%)\n",
            "  adding: content/mlruns/0/554494b4ff0c4059aa98e993ff230131/inputs/f2522f701eaa80faca2b592ac2bb7cc4/meta.yaml (deflated 30%)\n",
            "  adding: content/mlruns/0/554494b4ff0c4059aa98e993ff230131/artifacts/ (stored 0%)\n",
            "  adding: content/mlruns/0/554494b4ff0c4059aa98e993ff230131/metrics/ (stored 0%)\n",
            "  adding: content/mlruns/0/554494b4ff0c4059aa98e993ff230131/metrics/regularization_loss (deflated 28%)\n",
            "  adding: content/mlruns/0/554494b4ff0c4059aa98e993ff230131/metrics/total_loss (deflated 33%)\n",
            "  adding: content/mlruns/0/554494b4ff0c4059aa98e993ff230131/metrics/loss (deflated 33%)\n",
            "  adding: content/mlruns/0/554494b4ff0c4059aa98e993ff230131/metrics/factorized_top_k/ (stored 0%)\n",
            "  adding: content/mlruns/0/554494b4ff0c4059aa98e993ff230131/metrics/factorized_top_k/top_50_categorical_accuracy (deflated 37%)\n",
            "  adding: content/mlruns/0/554494b4ff0c4059aa98e993ff230131/metrics/factorized_top_k/top_5_categorical_accuracy (deflated 36%)\n",
            "  adding: content/mlruns/0/554494b4ff0c4059aa98e993ff230131/metrics/factorized_top_k/top_100_categorical_accuracy (deflated 33%)\n",
            "  adding: content/mlruns/0/554494b4ff0c4059aa98e993ff230131/metrics/factorized_top_k/top_10_categorical_accuracy (deflated 36%)\n",
            "  adding: content/mlruns/0/554494b4ff0c4059aa98e993ff230131/metrics/factorized_top_k/top_1_categorical_accuracy (deflated 36%)\n",
            "  adding: content/mlruns/0/554494b4ff0c4059aa98e993ff230131/tags/ (stored 0%)\n",
            "  adding: content/mlruns/0/554494b4ff0c4059aa98e993ff230131/tags/mlflow.source.name (deflated 5%)\n",
            "  adding: content/mlruns/0/554494b4ff0c4059aa98e993ff230131/tags/mlflow.runName (stored 0%)\n",
            "  adding: content/mlruns/0/554494b4ff0c4059aa98e993ff230131/tags/mlflow.user (stored 0%)\n",
            "  adding: content/mlruns/0/554494b4ff0c4059aa98e993ff230131/tags/mlflow.source.type (stored 0%)\n",
            "  adding: content/mlruns/0/15b9f4a228ef492098f7fc03616cae2d/ (stored 0%)\n",
            "  adding: content/mlruns/0/15b9f4a228ef492098f7fc03616cae2d/params/ (stored 0%)\n",
            "  adding: content/mlruns/0/15b9f4a228ef492098f7fc03616cae2d/params/metric (deflated 5%)\n",
            "  adding: content/mlruns/0/15b9f4a228ef492098f7fc03616cae2d/params/dataset (stored 0%)\n",
            "  adding: content/mlruns/0/15b9f4a228ef492098f7fc03616cae2d/meta.yaml (deflated 44%)\n",
            "  adding: content/mlruns/0/15b9f4a228ef492098f7fc03616cae2d/artifacts/ (stored 0%)\n",
            "  adding: content/mlruns/0/15b9f4a228ef492098f7fc03616cae2d/metrics/ (stored 0%)\n",
            "  adding: content/mlruns/0/15b9f4a228ef492098f7fc03616cae2d/tags/ (stored 0%)\n",
            "  adding: content/mlruns/0/15b9f4a228ef492098f7fc03616cae2d/tags/mlflow.source.name (deflated 5%)\n",
            "  adding: content/mlruns/0/15b9f4a228ef492098f7fc03616cae2d/tags/mlflow.runName (stored 0%)\n",
            "  adding: content/mlruns/0/15b9f4a228ef492098f7fc03616cae2d/tags/mlflow.user (stored 0%)\n",
            "  adding: content/mlruns/0/15b9f4a228ef492098f7fc03616cae2d/tags/mlflow.source.type (stored 0%)\n",
            "  adding: content/mlruns/0/meta.yaml (deflated 24%)\n",
            "  adding: content/mlruns/0/cd3993fb90134eaa9285c9fe5016daae/ (stored 0%)\n",
            "  adding: content/mlruns/0/cd3993fb90134eaa9285c9fe5016daae/params/ (stored 0%)\n",
            "  adding: content/mlruns/0/cd3993fb90134eaa9285c9fe5016daae/params/dataset (stored 0%)\n",
            "  adding: content/mlruns/0/cd3993fb90134eaa9285c9fe5016daae/meta.yaml (deflated 44%)\n",
            "  adding: content/mlruns/0/cd3993fb90134eaa9285c9fe5016daae/artifacts/ (stored 0%)\n",
            "  adding: content/mlruns/0/cd3993fb90134eaa9285c9fe5016daae/metrics/ (stored 0%)\n",
            "  adding: content/mlruns/0/cd3993fb90134eaa9285c9fe5016daae/tags/ (stored 0%)\n",
            "  adding: content/mlruns/0/cd3993fb90134eaa9285c9fe5016daae/tags/mlflow.source.name (deflated 5%)\n",
            "  adding: content/mlruns/0/cd3993fb90134eaa9285c9fe5016daae/tags/mlflow.runName (stored 0%)\n",
            "  adding: content/mlruns/0/cd3993fb90134eaa9285c9fe5016daae/tags/mlflow.user (stored 0%)\n",
            "  adding: content/mlruns/0/cd3993fb90134eaa9285c9fe5016daae/tags/mlflow.source.type (stored 0%)\n",
            "  adding: content/mlruns/0/a1f068a720de4ef9b16813996593f183/ (stored 0%)\n",
            "  adding: content/mlruns/0/a1f068a720de4ef9b16813996593f183/params/ (stored 0%)\n",
            "  adding: content/mlruns/0/a1f068a720de4ef9b16813996593f183/params/dataset (stored 0%)\n",
            "  adding: content/mlruns/0/a1f068a720de4ef9b16813996593f183/meta.yaml (deflated 44%)\n",
            "  adding: content/mlruns/0/a1f068a720de4ef9b16813996593f183/artifacts/ (stored 0%)\n",
            "  adding: content/mlruns/0/a1f068a720de4ef9b16813996593f183/metrics/ (stored 0%)\n",
            "  adding: content/mlruns/0/a1f068a720de4ef9b16813996593f183/tags/ (stored 0%)\n",
            "  adding: content/mlruns/0/a1f068a720de4ef9b16813996593f183/tags/mlflow.source.name (deflated 5%)\n",
            "  adding: content/mlruns/0/a1f068a720de4ef9b16813996593f183/tags/mlflow.runName (stored 0%)\n",
            "  adding: content/mlruns/0/a1f068a720de4ef9b16813996593f183/tags/mlflow.user (stored 0%)\n",
            "  adding: content/mlruns/0/a1f068a720de4ef9b16813996593f183/tags/mlflow.source.type (stored 0%)\n",
            "  adding: content/mlruns/0/8d61af100fc44a2e9026885654a75563/ (stored 0%)\n",
            "  adding: content/mlruns/0/8d61af100fc44a2e9026885654a75563/params/ (stored 0%)\n",
            "  adding: content/mlruns/0/8d61af100fc44a2e9026885654a75563/params/dataset (stored 0%)\n",
            "  adding: content/mlruns/0/8d61af100fc44a2e9026885654a75563/meta.yaml (deflated 44%)\n",
            "  adding: content/mlruns/0/8d61af100fc44a2e9026885654a75563/artifacts/ (stored 0%)\n",
            "  adding: content/mlruns/0/8d61af100fc44a2e9026885654a75563/metrics/ (stored 0%)\n",
            "  adding: content/mlruns/0/8d61af100fc44a2e9026885654a75563/tags/ (stored 0%)\n",
            "  adding: content/mlruns/0/8d61af100fc44a2e9026885654a75563/tags/mlflow.source.name (deflated 5%)\n",
            "  adding: content/mlruns/0/8d61af100fc44a2e9026885654a75563/tags/mlflow.runName (stored 0%)\n",
            "  adding: content/mlruns/0/8d61af100fc44a2e9026885654a75563/tags/mlflow.user (stored 0%)\n",
            "  adding: content/mlruns/0/8d61af100fc44a2e9026885654a75563/tags/mlflow.source.type (stored 0%)\n",
            "  adding: content/mlruns/0/e3308437f0a048b19be48e4f999387ff/ (stored 0%)\n",
            "  adding: content/mlruns/0/e3308437f0a048b19be48e4f999387ff/params/ (stored 0%)\n",
            "  adding: content/mlruns/0/e3308437f0a048b19be48e4f999387ff/params/dataset (stored 0%)\n",
            "  adding: content/mlruns/0/e3308437f0a048b19be48e4f999387ff/meta.yaml (deflated 44%)\n",
            "  adding: content/mlruns/0/e3308437f0a048b19be48e4f999387ff/artifacts/ (stored 0%)\n",
            "  adding: content/mlruns/0/e3308437f0a048b19be48e4f999387ff/metrics/ (stored 0%)\n",
            "  adding: content/mlruns/0/e3308437f0a048b19be48e4f999387ff/tags/ (stored 0%)\n",
            "  adding: content/mlruns/0/e3308437f0a048b19be48e4f999387ff/tags/mlflow.source.name (deflated 5%)\n",
            "  adding: content/mlruns/0/e3308437f0a048b19be48e4f999387ff/tags/mlflow.runName (stored 0%)\n",
            "  adding: content/mlruns/0/e3308437f0a048b19be48e4f999387ff/tags/mlflow.user (stored 0%)\n",
            "  adding: content/mlruns/0/e3308437f0a048b19be48e4f999387ff/tags/mlflow.source.type (stored 0%)\n",
            "  adding: content/mlruns/0/7920f9c7b64e43af975c6243fa64f972/ (stored 0%)\n",
            "  adding: content/mlruns/0/7920f9c7b64e43af975c6243fa64f972/params/ (stored 0%)\n",
            "  adding: content/mlruns/0/7920f9c7b64e43af975c6243fa64f972/params/dataset (stored 0%)\n",
            "  adding: content/mlruns/0/7920f9c7b64e43af975c6243fa64f972/meta.yaml (deflated 45%)\n",
            "  adding: content/mlruns/0/7920f9c7b64e43af975c6243fa64f972/artifacts/ (stored 0%)\n",
            "  adding: content/mlruns/0/7920f9c7b64e43af975c6243fa64f972/metrics/ (stored 0%)\n",
            "  adding: content/mlruns/0/7920f9c7b64e43af975c6243fa64f972/tags/ (stored 0%)\n",
            "  adding: content/mlruns/0/7920f9c7b64e43af975c6243fa64f972/tags/mlflow.source.name (deflated 5%)\n",
            "  adding: content/mlruns/0/7920f9c7b64e43af975c6243fa64f972/tags/mlflow.runName (stored 0%)\n",
            "  adding: content/mlruns/0/7920f9c7b64e43af975c6243fa64f972/tags/mlflow.user (stored 0%)\n",
            "  adding: content/mlruns/0/7920f9c7b64e43af975c6243fa64f972/tags/mlflow.source.type (stored 0%)\n",
            "  adding: content/mlruns/0/datasets/ (stored 0%)\n",
            "  adding: content/mlruns/0/datasets/62e9459d1822ff957ff22129990660db/ (stored 0%)\n",
            "  adding: content/mlruns/0/datasets/62e9459d1822ff957ff22129990660db/meta.yaml (deflated 46%)\n",
            "  adding: content/mlruns/0/559fee39e8574e3f913f0df95b430a6b/ (stored 0%)\n",
            "  adding: content/mlruns/0/559fee39e8574e3f913f0df95b430a6b/params/ (stored 0%)\n",
            "  adding: content/mlruns/0/559fee39e8574e3f913f0df95b430a6b/params/dataset (stored 0%)\n",
            "  adding: content/mlruns/0/559fee39e8574e3f913f0df95b430a6b/meta.yaml (deflated 45%)\n",
            "  adding: content/mlruns/0/559fee39e8574e3f913f0df95b430a6b/artifacts/ (stored 0%)\n",
            "  adding: content/mlruns/0/559fee39e8574e3f913f0df95b430a6b/metrics/ (stored 0%)\n",
            "  adding: content/mlruns/0/559fee39e8574e3f913f0df95b430a6b/tags/ (stored 0%)\n",
            "  adding: content/mlruns/0/559fee39e8574e3f913f0df95b430a6b/tags/mlflow.source.name (deflated 5%)\n",
            "  adding: content/mlruns/0/559fee39e8574e3f913f0df95b430a6b/tags/mlflow.runName (stored 0%)\n",
            "  adding: content/mlruns/0/559fee39e8574e3f913f0df95b430a6b/tags/mlflow.user (stored 0%)\n",
            "  adding: content/mlruns/0/559fee39e8574e3f913f0df95b430a6b/tags/mlflow.source.type (stored 0%)\n",
            "  adding: content/mlruns/605032351589729120/ (stored 0%)\n",
            "  adding: content/mlruns/605032351589729120/meta.yaml (deflated 31%)\n",
            "  adding: content/mlruns/793677429221280436/ (stored 0%)\n",
            "  adding: content/mlruns/793677429221280436/meta.yaml (deflated 32%)\n",
            "  adding: content/mlruns/.trash/ (stored 0%)\n"
          ]
        }
      ]
    },
    {
      "cell_type": "markdown",
      "source": [
        "# Recreate tfrs quickstart tutorial\n",
        "\n"
      ],
      "metadata": {
        "id": "FknNiPJ5MCzv"
      }
    },
    {
      "cell_type": "code",
      "source": [
        "import mlflow\n",
        "import pandas as pd"
      ],
      "metadata": {
        "id": "4FPXGEgaFL7k"
      },
      "execution_count": null,
      "outputs": []
    },
    {
      "cell_type": "code",
      "source": [
        "from typing import Dict, Text\n",
        "\n",
        "import numpy as np\n",
        "import tensorflow as tf\n",
        "\n",
        "# import tensorflow_datasets as tfds\n",
        "import tensorflow_recommenders as tfrs"
      ],
      "metadata": {
        "id": "InElb1zgFTqS"
      },
      "execution_count": null,
      "outputs": []
    },
    {
      "cell_type": "code",
      "source": [
        "# experiment = mlflow.create_experiment(\"tfrs_quickstart_recreate\")"
      ],
      "metadata": {
        "id": "ZheNbhzDHtb0"
      },
      "execution_count": null,
      "outputs": []
    },
    {
      "cell_type": "code",
      "source": [
        "mlflow.autolog()"
      ],
      "metadata": {
        "id": "ncz-sP62Kf2F",
        "colab": {
          "base_uri": "https://localhost:8080/"
        },
        "outputId": "531ab547-cef9-4367-cfb3-8aa3c73cac56"
      },
      "execution_count": null,
      "outputs": [
        {
          "output_type": "stream",
          "name": "stderr",
          "text": [
            "2024/01/06 10:43:30 INFO mlflow.tracking.fluent: Autologging successfully enabled for tensorflow.\n"
          ]
        }
      ]
    },
    {
      "cell_type": "markdown",
      "source": [
        "##### Recreate dataset structure with recipe data"
      ],
      "metadata": {
        "id": "A9tggWVvImHD"
      }
    },
    {
      "cell_type": "code",
      "source": [
        "ratings_data = pd.read_csv(\"/content/mock-data_interaction.csv\")\n",
        "recipes_data = pd.read_csv(\"/content/mock-data_recipe.csv\")"
      ],
      "metadata": {
        "id": "SQOHACtYIa9J"
      },
      "execution_count": null,
      "outputs": []
    },
    {
      "cell_type": "code",
      "source": [
        "ratings = tf.data.Dataset.from_tensor_slices(dict(ratings_data)) # dict for columns of  different dtypes"
      ],
      "metadata": {
        "id": "9Gep5LMJLe2k"
      },
      "execution_count": null,
      "outputs": []
    },
    {
      "cell_type": "code",
      "source": [
        "recipes = tf.data.Dataset.from_tensor_slices(recipes_data.recipe_id)"
      ],
      "metadata": {
        "id": "XdwLW2rTJJlK"
      },
      "execution_count": null,
      "outputs": []
    },
    {
      "cell_type": "code",
      "source": [
        "# feature selection\n",
        "ratings = ratings.map(lambda x: {\n",
        "    \"recipe_id\": x[\"recipe_id\"],\n",
        "    \"user_id\": x[\"user_id\"]\n",
        "})"
      ],
      "metadata": {
        "id": "b4KRDyXFL-zT"
      },
      "execution_count": null,
      "outputs": []
    },
    {
      "cell_type": "code",
      "source": [
        "for r in ratings.take(1):\n",
        "  print(type(r))\n",
        "  for k, v in r.items():\n",
        "    print(f\"{k}: {v}\")"
      ],
      "metadata": {
        "colab": {
          "base_uri": "https://localhost:8080/"
        },
        "id": "T2Hr6bC-Ke8Y",
        "outputId": "96e1044a-91f2-4a3c-b6a1-a91161886685"
      },
      "execution_count": null,
      "outputs": [
        {
          "output_type": "stream",
          "name": "stdout",
          "text": [
            "<class 'dict'>\n",
            "recipe_id: 222388\n",
            "user_id: 8542392\n"
          ]
        }
      ]
    },
    {
      "cell_type": "code",
      "source": [
        "for r in recipes.take(1):\n",
        "  print(r)"
      ],
      "metadata": {
        "id": "CuetAkVNMsyy",
        "colab": {
          "base_uri": "https://localhost:8080/"
        },
        "outputId": "8dbd205d-cfa8-4acf-b6af-7fc52083f8d2"
      },
      "execution_count": null,
      "outputs": [
        {
          "output_type": "stream",
          "name": "stdout",
          "text": [
            "tf.Tensor(222388, shape=(), dtype=int64)\n"
          ]
        }
      ]
    },
    {
      "cell_type": "markdown",
      "source": [
        "Build vocabularies to convert user ids and movie titles into integer indices for embedding layers:"
      ],
      "metadata": {
        "id": "fMoqRkUmM_47"
      }
    },
    {
      "cell_type": "code",
      "source": [
        "user_id_vocabulary = tf.keras.layers.IntegerLookup(mask_token = None)\n",
        "user_id_vocabulary.adapt(ratings.map(lambda x: x[\"user_id\"]))\n",
        "\n",
        "recipe_id_vocabulary = tf.keras.layers.IntegerLookup(mask_token = None)\n",
        "recipe_id_vocabulary.adapt(recipes)"
      ],
      "metadata": {
        "id": "PsodCoriM_C2"
      },
      "execution_count": null,
      "outputs": []
    },
    {
      "cell_type": "code",
      "source": [
        "inverse_user_id_vocabulary = tf.keras.layers.IntegerLookup(vocabulary = user_id_vocabulary.get_vocabulary(), invert = True)\n",
        "inverse_recipe_id_vocabulary = tf.keras.layers.IntegerLookup(vocabulary = recipe_id_vocabulary.get_vocabulary(), invert = True)"
      ],
      "metadata": {
        "id": "XDLVvlZx-gO8"
      },
      "execution_count": null,
      "outputs": []
    },
    {
      "cell_type": "code",
      "source": [
        "user_id_vocabulary.vocabulary_size(), inverse_user_id_vocabulary.vocabulary_size()"
      ],
      "metadata": {
        "colab": {
          "base_uri": "https://localhost:8080/"
        },
        "id": "PkjEjZbVJ9KH",
        "outputId": "bd6419c1-ec35-4be9-ec34-ed30608b8733"
      },
      "execution_count": null,
      "outputs": [
        {
          "output_type": "execute_result",
          "data": {
            "text/plain": [
              "(8267, 8267)"
            ]
          },
          "metadata": {},
          "execution_count": 148
        }
      ]
    },
    {
      "cell_type": "code",
      "source": [
        "recipe_id_vocabulary.vocabulary_size(), inverse_recipe_id_vocabulary.vocabulary_size()"
      ],
      "metadata": {
        "colab": {
          "base_uri": "https://localhost:8080/"
        },
        "id": "0KS6bCxEKFlX",
        "outputId": "d83cae12-4798-431b-ba3a-c0c151d043da"
      },
      "execution_count": null,
      "outputs": [
        {
          "output_type": "execute_result",
          "data": {
            "text/plain": [
              "(101, 101)"
            ]
          },
          "metadata": {},
          "execution_count": 149
        }
      ]
    },
    {
      "cell_type": "code",
      "source": [
        "user_id_vocabulary(8542392)"
      ],
      "metadata": {
        "id": "iHpyoNqlN5gP",
        "colab": {
          "base_uri": "https://localhost:8080/"
        },
        "outputId": "6cb704f7-3b7b-468b-ba7e-f29c144aaa14"
      },
      "execution_count": null,
      "outputs": [
        {
          "output_type": "execute_result",
          "data": {
            "text/plain": [
              "<tf.Tensor: shape=(), dtype=int64, numpy=2416>"
            ]
          },
          "metadata": {},
          "execution_count": 150
        }
      ]
    },
    {
      "cell_type": "code",
      "source": [
        "inverse_user_id_vocabulary(2416)"
      ],
      "metadata": {
        "colab": {
          "base_uri": "https://localhost:8080/"
        },
        "id": "ddzbBGAEI7VJ",
        "outputId": "444f0dcc-946e-439e-88c0-a528debf443a"
      },
      "execution_count": null,
      "outputs": [
        {
          "output_type": "execute_result",
          "data": {
            "text/plain": [
              "<tf.Tensor: shape=(), dtype=int64, numpy=8542392>"
            ]
          },
          "metadata": {},
          "execution_count": 151
        }
      ]
    },
    {
      "cell_type": "code",
      "source": [
        "recipe_id_vocabulary(222388)"
      ],
      "metadata": {
        "colab": {
          "base_uri": "https://localhost:8080/"
        },
        "id": "NKqyRFT0iXK0",
        "outputId": "53cdfe94-45de-47c7-8c11-47299e67ad24"
      },
      "execution_count": null,
      "outputs": [
        {
          "output_type": "execute_result",
          "data": {
            "text/plain": [
              "<tf.Tensor: shape=(), dtype=int64, numpy=32>"
            ]
          },
          "metadata": {},
          "execution_count": 152
        }
      ]
    },
    {
      "cell_type": "code",
      "source": [
        "inverse_recipe_id_vocabulary(32)"
      ],
      "metadata": {
        "colab": {
          "base_uri": "https://localhost:8080/"
        },
        "id": "8KZA_DDPJWBK",
        "outputId": "c6a6c8b3-f94e-4af9-8ad1-cbc695aca2b8"
      },
      "execution_count": null,
      "outputs": [
        {
          "output_type": "execute_result",
          "data": {
            "text/plain": [
              "<tf.Tensor: shape=(), dtype=int64, numpy=222388>"
            ]
          },
          "metadata": {},
          "execution_count": 153
        }
      ]
    },
    {
      "cell_type": "code",
      "source": [],
      "metadata": {
        "id": "qdArrYcF8yvC"
      },
      "execution_count": null,
      "outputs": []
    },
    {
      "cell_type": "markdown",
      "source": [
        "## Define a model\n",
        "We can define a TFRS model by inheriting from tfrs.Model and implementing the compute_loss method:"
      ],
      "metadata": {
        "id": "nsZEk9xkOHCo"
      }
    },
    {
      "cell_type": "code",
      "source": [
        "class RecipeModel(tfrs.Model):\n",
        "  # We derive from a custom base class to help reduce boilerplate. Under the hood,\n",
        "  # these are still plain Keras Models.\n",
        "\n",
        "  def __init__(\n",
        "      self,\n",
        "      user_model: tf.keras.Model,\n",
        "      recipe_model: tf.keras.Model,\n",
        "      task: tfrs.tasks.Retrieval):\n",
        "    super().__init__()\n",
        "\n",
        "    # Set up user and movie representations.\n",
        "    self.user_model = user_model\n",
        "    self.recipe_model = recipe_model\n",
        "\n",
        "    # Set up a retrieval task.\n",
        "    self.task = task\n",
        "\n",
        "  def compute_loss(self, features: Dict[Text, tf.Tensor], training=False) -> tf.Tensor:\n",
        "    # Define how the loss is computed.\n",
        "\n",
        "    user_embeddings = self.user_model(features[\"user_id\"])\n",
        "    recipe_embeddings = self.recipe_model(features[\"recipe_id\"])\n",
        "\n",
        "    return self.task(user_embeddings, recipe_embeddings)"
      ],
      "metadata": {
        "id": "yfiAz2HgOOeH"
      },
      "execution_count": null,
      "outputs": []
    },
    {
      "cell_type": "code",
      "source": [],
      "metadata": {
        "id": "7ZGOh3-xi8nk"
      },
      "execution_count": null,
      "outputs": []
    },
    {
      "cell_type": "markdown",
      "source": [
        "### Define the two models and the retrieval task."
      ],
      "metadata": {
        "id": "uB53aIM0Ow_X"
      }
    },
    {
      "cell_type": "code",
      "source": [
        "# Define user and movie models.\n",
        "user_model = tf.keras.Sequential([\n",
        "    user_id_vocabulary,\n",
        "    tf.keras.layers.Embedding(user_id_vocabulary.vocabulary_size(), 64)\n",
        "])\n",
        "recipe_model = tf.keras.Sequential([\n",
        "    recipe_id_vocabulary,\n",
        "    tf.keras.layers.Embedding(recipe_id_vocabulary.vocabulary_size(), 64)\n",
        "])\n",
        "\n",
        "# Define your objectives.\n",
        "task = tfrs.tasks.Retrieval(metrics=tfrs.metrics.FactorizedTopK(\n",
        "    recipes.batch(100).map(recipe_model)\n",
        "  )\n",
        ")"
      ],
      "metadata": {
        "id": "cBTCAt3ZO1UW"
      },
      "execution_count": null,
      "outputs": []
    },
    {
      "cell_type": "code",
      "source": [],
      "metadata": {
        "id": "pGj_Rlm_jied"
      },
      "execution_count": null,
      "outputs": []
    },
    {
      "cell_type": "code",
      "source": [],
      "metadata": {
        "id": "cKBdmX-JjKHT"
      },
      "execution_count": null,
      "outputs": []
    },
    {
      "cell_type": "markdown",
      "source": [
        "\n",
        "### Fit and evaluate it.\n",
        "\n",
        "Create the model, train it, and generate predictions:"
      ],
      "metadata": {
        "id": "yWxZhMxsPUbc"
      }
    },
    {
      "cell_type": "code",
      "source": [
        "test_user_idx = 2416"
      ],
      "metadata": {
        "id": "V-w2Kf9Ivafl"
      },
      "execution_count": null,
      "outputs": []
    },
    {
      "cell_type": "code",
      "source": [
        "# Create a retrieval model.\n",
        "model = RecipeModel(user_model, recipe_model, task)\n",
        "model.compile(optimizer=tf.keras.optimizers.Adagrad(0.5))"
      ],
      "metadata": {
        "id": "cx2nRQ7ums2m"
      },
      "execution_count": null,
      "outputs": []
    },
    {
      "cell_type": "code",
      "source": [
        "with mlflow.start_run() as run:\n",
        "  # Train for 3 epochs.\n",
        "  model.fit(ratings.batch(4096), epochs=3)\n",
        "  mlflow.log_param(\"dataset\", \"mock_100\")\n",
        "  # mlflow.log_metric(\"factorized_top_k/top_1_categorical_accuracy\", model.metrics)\n"
      ],
      "metadata": {
        "colab": {
          "base_uri": "https://localhost:8080/"
        },
        "id": "iRE-z8iGmve3",
        "outputId": "47dddaf4-fce7-4c98-ebfa-57e2f870daab"
      },
      "execution_count": null,
      "outputs": [
        {
          "output_type": "stream",
          "name": "stderr",
          "text": [
            "2024/01/06 10:43:49 WARNING mlflow.tensorflow: Encountered unexpected error while inferring batch size from training dataset: The layer \"recipe_model_2\" has never been called and thus has no defined input shape. Note that the `input_shape` property is only available for Functional and Sequential models.\n",
            "2024/01/06 10:43:49 WARNING mlflow.utils.autologging_utils: MLflow autologging encountered a warning: \"/usr/local/lib/python3.10/dist-packages/mlflow/tensorflow/_autolog.py:52: UserWarning: This model has not yet been built. Build the model first by calling `build()` or by calling the model on a batch of data.\"\n"
          ]
        },
        {
          "output_type": "stream",
          "name": "stdout",
          "text": [
            "Epoch 1/3\n",
            "3/3 [==============================] - 2s 287ms/step - factorized_top_k/top_1_categorical_accuracy: 0.0029 - factorized_top_k/top_5_categorical_accuracy: 0.0251 - factorized_top_k/top_10_categorical_accuracy: 0.0559 - factorized_top_k/top_50_categorical_accuracy: 0.4915 - factorized_top_k/top_100_categorical_accuracy: 0.9977 - loss: 18512.6555 - regularization_loss: 0.0000e+00 - total_loss: 18512.6555\n",
            "Epoch 2/3\n",
            "3/3 [==============================] - 1s 273ms/step - factorized_top_k/top_1_categorical_accuracy: 0.0352 - factorized_top_k/top_5_categorical_accuracy: 0.1389 - factorized_top_k/top_10_categorical_accuracy: 0.2387 - factorized_top_k/top_50_categorical_accuracy: 0.5916 - factorized_top_k/top_100_categorical_accuracy: 0.9953 - loss: 18304.2974 - regularization_loss: 0.0000e+00 - total_loss: 18304.2974\n",
            "Epoch 3/3\n",
            "3/3 [==============================] - 1s 277ms/step - factorized_top_k/top_1_categorical_accuracy: 0.5576 - factorized_top_k/top_5_categorical_accuracy: 0.9739 - factorized_top_k/top_10_categorical_accuracy: 0.9850 - factorized_top_k/top_50_categorical_accuracy: 0.9970 - factorized_top_k/top_100_categorical_accuracy: 1.0000 - loss: 13385.8505 - regularization_loss: 0.0000e+00 - total_loss: 13385.8505\n"
          ]
        },
        {
          "output_type": "stream",
          "name": "stderr",
          "text": [
            "2024/01/06 10:43:54 WARNING mlflow.tensorflow: Failed to infer model signature: could not sample data to infer model signature: Cannot log input example or model signature for input with type <class 'tensorflow.python.data.ops.batch_op._BatchDataset'>. TensorFlow Keras autologging can only log input examples and model signatures for the following input types: numpy.ndarray, dict[string -> numpy.ndarray], tensorflow.keras.utils.Sequence, and tensorflow.data.Dataset (TensorFlow >= 2.1.0 required)\n",
            "2024/01/06 10:43:54 WARNING mlflow.tensorflow: You are saving a TensorFlow Core model or Keras model without a signature. Inference with mlflow.pyfunc.spark_udf() will not work unless the model's pyfunc representation accepts pandas DataFrames as inference inputs.\n",
            "WARNING:tensorflow:Skipping full serialization of Keras layer <__main__.RecipeModel object at 0x7d5c56c3d4e0>, because it is not built.\n",
            "2024/01/06 10:43:54 WARNING mlflow.utils.autologging_utils: Encountered unexpected error during tensorflow autologging: Model <__main__.RecipeModel object at 0x7d5c56c3d4e0> cannot be saved either because the input shape is not available or because the forward pass of the model is not defined.To define a forward pass, please override `Model.call()`. To specify an input shape, either call `build(input_shape)` directly, or call the model on actual data using `Model()`, `Model.fit()`, or `Model.predict()`. If you have a custom training step, please make sure to invoke the forward pass in train step through `Model.__call__`, i.e. `model(inputs)`, as opposed to `model.call()`.\n"
          ]
        }
      ]
    },
    {
      "cell_type": "code",
      "source": [
        "\n",
        "\n",
        "\n",
        "\n",
        "# Use brute-force search to set up retrieval using the trained representations.\n",
        "index = tfrs.layers.factorized_top_k.BruteForce(model.user_model)\n",
        "index.index_from_dataset(\n",
        "    recipes.batch(100).map(lambda recipe_id: (recipe_id, model.recipe_model(recipe_id))))\n",
        "\n",
        "# Get some recommendations.\n",
        "_, recommendations = index(np.array([2416])) # top candidate scores, top candidate identifiers\n",
        "print(f\"Top 3 recommendations for user 2416: {recommendations[0, :3]}\")"
      ],
      "metadata": {
        "colab": {
          "base_uri": "https://localhost:8080/"
        },
        "id": "h0UtFnWgPOeP",
        "outputId": "700ac43a-4704-4946-a7a9-3366b4e41119"
      },
      "execution_count": null,
      "outputs": [
        {
          "output_type": "stream",
          "name": "stdout",
          "text": [
            "Top 3 recommendations for user 2416: [ 22402 236920 230270]\n"
          ]
        }
      ]
    },
    {
      "cell_type": "code",
      "source": [
        "index(np.array([2416]))"
      ],
      "metadata": {
        "id": "ADmPeu4VpsxL",
        "colab": {
          "base_uri": "https://localhost:8080/"
        },
        "outputId": "82e08056-3be6-467c-f925-cbfa0fc24c73"
      },
      "execution_count": null,
      "outputs": [
        {
          "output_type": "execute_result",
          "data": {
            "text/plain": [
              "(<tf.Tensor: shape=(1, 10), dtype=float32, numpy=\n",
              " array([[0.3299513 , 0.2462537 , 0.23303875, 0.23258811, 0.21546024,\n",
              "         0.2124027 , 0.20341575, 0.2000542 , 0.19347173, 0.19252276]],\n",
              "       dtype=float32)>,\n",
              " <tf.Tensor: shape=(1, 10), dtype=int64, numpy=\n",
              " array([[ 22402, 236920, 230270,  26623, 231412,  57002,  14664, 245714,\n",
              "          17813,  53650]])>)"
            ]
          },
          "metadata": {},
          "execution_count": 176
        }
      ]
    },
    {
      "cell_type": "code",
      "source": [
        "test_user_ratings = ratings_data[ratings_data.user_id == inverse_user_id_vocabulary(test_user_idx).numpy()]\n",
        "test_user_ratings"
      ],
      "metadata": {
        "colab": {
          "base_uri": "https://localhost:8080/",
          "height": 81
        },
        "id": "40p_02LkVUM7",
        "outputId": "9cdb2d98-217f-4b72-94a6-916e9be5b5df"
      },
      "execution_count": null,
      "outputs": [
        {
          "output_type": "execute_result",
          "data": {
            "text/plain": [
              "   Unnamed: 0  user_id  recipe_id  rating           dateLastModified\n",
              "0           0  8542392     222388       5  2017-04-22T12:46:43.663\\n"
            ],
            "text/html": [
              "\n",
              "  <div id=\"df-727d8984-87f0-45ee-8a4b-802bbd009ab4\" class=\"colab-df-container\">\n",
              "    <div>\n",
              "<style scoped>\n",
              "    .dataframe tbody tr th:only-of-type {\n",
              "        vertical-align: middle;\n",
              "    }\n",
              "\n",
              "    .dataframe tbody tr th {\n",
              "        vertical-align: top;\n",
              "    }\n",
              "\n",
              "    .dataframe thead th {\n",
              "        text-align: right;\n",
              "    }\n",
              "</style>\n",
              "<table border=\"1\" class=\"dataframe\">\n",
              "  <thead>\n",
              "    <tr style=\"text-align: right;\">\n",
              "      <th></th>\n",
              "      <th>Unnamed: 0</th>\n",
              "      <th>user_id</th>\n",
              "      <th>recipe_id</th>\n",
              "      <th>rating</th>\n",
              "      <th>dateLastModified</th>\n",
              "    </tr>\n",
              "  </thead>\n",
              "  <tbody>\n",
              "    <tr>\n",
              "      <th>0</th>\n",
              "      <td>0</td>\n",
              "      <td>8542392</td>\n",
              "      <td>222388</td>\n",
              "      <td>5</td>\n",
              "      <td>2017-04-22T12:46:43.663\\n</td>\n",
              "    </tr>\n",
              "  </tbody>\n",
              "</table>\n",
              "</div>\n",
              "    <div class=\"colab-df-buttons\">\n",
              "\n",
              "  <div class=\"colab-df-container\">\n",
              "    <button class=\"colab-df-convert\" onclick=\"convertToInteractive('df-727d8984-87f0-45ee-8a4b-802bbd009ab4')\"\n",
              "            title=\"Convert this dataframe to an interactive table.\"\n",
              "            style=\"display:none;\">\n",
              "\n",
              "  <svg xmlns=\"http://www.w3.org/2000/svg\" height=\"24px\" viewBox=\"0 -960 960 960\">\n",
              "    <path d=\"M120-120v-720h720v720H120Zm60-500h600v-160H180v160Zm220 220h160v-160H400v160Zm0 220h160v-160H400v160ZM180-400h160v-160H180v160Zm440 0h160v-160H620v160ZM180-180h160v-160H180v160Zm440 0h160v-160H620v160Z\"/>\n",
              "  </svg>\n",
              "    </button>\n",
              "\n",
              "  <style>\n",
              "    .colab-df-container {\n",
              "      display:flex;\n",
              "      gap: 12px;\n",
              "    }\n",
              "\n",
              "    .colab-df-convert {\n",
              "      background-color: #E8F0FE;\n",
              "      border: none;\n",
              "      border-radius: 50%;\n",
              "      cursor: pointer;\n",
              "      display: none;\n",
              "      fill: #1967D2;\n",
              "      height: 32px;\n",
              "      padding: 0 0 0 0;\n",
              "      width: 32px;\n",
              "    }\n",
              "\n",
              "    .colab-df-convert:hover {\n",
              "      background-color: #E2EBFA;\n",
              "      box-shadow: 0px 1px 2px rgba(60, 64, 67, 0.3), 0px 1px 3px 1px rgba(60, 64, 67, 0.15);\n",
              "      fill: #174EA6;\n",
              "    }\n",
              "\n",
              "    .colab-df-buttons div {\n",
              "      margin-bottom: 4px;\n",
              "    }\n",
              "\n",
              "    [theme=dark] .colab-df-convert {\n",
              "      background-color: #3B4455;\n",
              "      fill: #D2E3FC;\n",
              "    }\n",
              "\n",
              "    [theme=dark] .colab-df-convert:hover {\n",
              "      background-color: #434B5C;\n",
              "      box-shadow: 0px 1px 3px 1px rgba(0, 0, 0, 0.15);\n",
              "      filter: drop-shadow(0px 1px 2px rgba(0, 0, 0, 0.3));\n",
              "      fill: #FFFFFF;\n",
              "    }\n",
              "  </style>\n",
              "\n",
              "    <script>\n",
              "      const buttonEl =\n",
              "        document.querySelector('#df-727d8984-87f0-45ee-8a4b-802bbd009ab4 button.colab-df-convert');\n",
              "      buttonEl.style.display =\n",
              "        google.colab.kernel.accessAllowed ? 'block' : 'none';\n",
              "\n",
              "      async function convertToInteractive(key) {\n",
              "        const element = document.querySelector('#df-727d8984-87f0-45ee-8a4b-802bbd009ab4');\n",
              "        const dataTable =\n",
              "          await google.colab.kernel.invokeFunction('convertToInteractive',\n",
              "                                                    [key], {});\n",
              "        if (!dataTable) return;\n",
              "\n",
              "        const docLinkHtml = 'Like what you see? Visit the ' +\n",
              "          '<a target=\"_blank\" href=https://colab.research.google.com/notebooks/data_table.ipynb>data table notebook</a>'\n",
              "          + ' to learn more about interactive tables.';\n",
              "        element.innerHTML = '';\n",
              "        dataTable['output_type'] = 'display_data';\n",
              "        await google.colab.output.renderOutput(dataTable, element);\n",
              "        const docLink = document.createElement('div');\n",
              "        docLink.innerHTML = docLinkHtml;\n",
              "        element.appendChild(docLink);\n",
              "      }\n",
              "    </script>\n",
              "  </div>\n",
              "\n",
              "    </div>\n",
              "  </div>\n"
            ]
          },
          "metadata": {},
          "execution_count": 177
        }
      ]
    },
    {
      "cell_type": "code",
      "source": [
        "\n"
      ],
      "metadata": {
        "id": "WF52jEV_Uigq"
      },
      "execution_count": null,
      "outputs": []
    },
    {
      "cell_type": "code",
      "source": [
        "rated_recipes = test_user_ratings.recipe_id"
      ],
      "metadata": {
        "id": "Sh41vexWpa3o"
      },
      "execution_count": null,
      "outputs": []
    },
    {
      "cell_type": "code",
      "source": [
        "recipes_data[recipes_data.recipe_id.isin(rated_recipes)][[\"recipe_id\", \"recipe_name\", \"review_nums\"]]"
      ],
      "metadata": {
        "colab": {
          "base_uri": "https://localhost:8080/",
          "height": 81
        },
        "id": "EZKTGPBYP2vb",
        "outputId": "22a11272-be8a-44ed-e691-117ed60b9129"
      },
      "execution_count": null,
      "outputs": [
        {
          "output_type": "execute_result",
          "data": {
            "text/plain": [
              "   recipe_id     recipe_name  review_nums\n",
              "0     222388  Homemade Bacon            3"
            ],
            "text/html": [
              "\n",
              "  <div id=\"df-f12765ab-42b7-4fb4-a834-de4b909c8286\" class=\"colab-df-container\">\n",
              "    <div>\n",
              "<style scoped>\n",
              "    .dataframe tbody tr th:only-of-type {\n",
              "        vertical-align: middle;\n",
              "    }\n",
              "\n",
              "    .dataframe tbody tr th {\n",
              "        vertical-align: top;\n",
              "    }\n",
              "\n",
              "    .dataframe thead th {\n",
              "        text-align: right;\n",
              "    }\n",
              "</style>\n",
              "<table border=\"1\" class=\"dataframe\">\n",
              "  <thead>\n",
              "    <tr style=\"text-align: right;\">\n",
              "      <th></th>\n",
              "      <th>recipe_id</th>\n",
              "      <th>recipe_name</th>\n",
              "      <th>review_nums</th>\n",
              "    </tr>\n",
              "  </thead>\n",
              "  <tbody>\n",
              "    <tr>\n",
              "      <th>0</th>\n",
              "      <td>222388</td>\n",
              "      <td>Homemade Bacon</td>\n",
              "      <td>3</td>\n",
              "    </tr>\n",
              "  </tbody>\n",
              "</table>\n",
              "</div>\n",
              "    <div class=\"colab-df-buttons\">\n",
              "\n",
              "  <div class=\"colab-df-container\">\n",
              "    <button class=\"colab-df-convert\" onclick=\"convertToInteractive('df-f12765ab-42b7-4fb4-a834-de4b909c8286')\"\n",
              "            title=\"Convert this dataframe to an interactive table.\"\n",
              "            style=\"display:none;\">\n",
              "\n",
              "  <svg xmlns=\"http://www.w3.org/2000/svg\" height=\"24px\" viewBox=\"0 -960 960 960\">\n",
              "    <path d=\"M120-120v-720h720v720H120Zm60-500h600v-160H180v160Zm220 220h160v-160H400v160Zm0 220h160v-160H400v160ZM180-400h160v-160H180v160Zm440 0h160v-160H620v160ZM180-180h160v-160H180v160Zm440 0h160v-160H620v160Z\"/>\n",
              "  </svg>\n",
              "    </button>\n",
              "\n",
              "  <style>\n",
              "    .colab-df-container {\n",
              "      display:flex;\n",
              "      gap: 12px;\n",
              "    }\n",
              "\n",
              "    .colab-df-convert {\n",
              "      background-color: #E8F0FE;\n",
              "      border: none;\n",
              "      border-radius: 50%;\n",
              "      cursor: pointer;\n",
              "      display: none;\n",
              "      fill: #1967D2;\n",
              "      height: 32px;\n",
              "      padding: 0 0 0 0;\n",
              "      width: 32px;\n",
              "    }\n",
              "\n",
              "    .colab-df-convert:hover {\n",
              "      background-color: #E2EBFA;\n",
              "      box-shadow: 0px 1px 2px rgba(60, 64, 67, 0.3), 0px 1px 3px 1px rgba(60, 64, 67, 0.15);\n",
              "      fill: #174EA6;\n",
              "    }\n",
              "\n",
              "    .colab-df-buttons div {\n",
              "      margin-bottom: 4px;\n",
              "    }\n",
              "\n",
              "    [theme=dark] .colab-df-convert {\n",
              "      background-color: #3B4455;\n",
              "      fill: #D2E3FC;\n",
              "    }\n",
              "\n",
              "    [theme=dark] .colab-df-convert:hover {\n",
              "      background-color: #434B5C;\n",
              "      box-shadow: 0px 1px 3px 1px rgba(0, 0, 0, 0.15);\n",
              "      filter: drop-shadow(0px 1px 2px rgba(0, 0, 0, 0.3));\n",
              "      fill: #FFFFFF;\n",
              "    }\n",
              "  </style>\n",
              "\n",
              "    <script>\n",
              "      const buttonEl =\n",
              "        document.querySelector('#df-f12765ab-42b7-4fb4-a834-de4b909c8286 button.colab-df-convert');\n",
              "      buttonEl.style.display =\n",
              "        google.colab.kernel.accessAllowed ? 'block' : 'none';\n",
              "\n",
              "      async function convertToInteractive(key) {\n",
              "        const element = document.querySelector('#df-f12765ab-42b7-4fb4-a834-de4b909c8286');\n",
              "        const dataTable =\n",
              "          await google.colab.kernel.invokeFunction('convertToInteractive',\n",
              "                                                    [key], {});\n",
              "        if (!dataTable) return;\n",
              "\n",
              "        const docLinkHtml = 'Like what you see? Visit the ' +\n",
              "          '<a target=\"_blank\" href=https://colab.research.google.com/notebooks/data_table.ipynb>data table notebook</a>'\n",
              "          + ' to learn more about interactive tables.';\n",
              "        element.innerHTML = '';\n",
              "        dataTable['output_type'] = 'display_data';\n",
              "        await google.colab.output.renderOutput(dataTable, element);\n",
              "        const docLink = document.createElement('div');\n",
              "        docLink.innerHTML = docLinkHtml;\n",
              "        element.appendChild(docLink);\n",
              "      }\n",
              "    </script>\n",
              "  </div>\n",
              "\n",
              "    </div>\n",
              "  </div>\n"
            ]
          },
          "metadata": {},
          "execution_count": 179
        }
      ]
    },
    {
      "cell_type": "code",
      "source": [
        "recipes_data[recipes_data.recipe_id.isin(recommendations.numpy().ravel())][[\"recipe_id\", \"recipe_name\", \"review_nums\"]]"
      ],
      "metadata": {
        "colab": {
          "base_uri": "https://localhost:8080/",
          "height": 363
        },
        "id": "n1gCjMDEQR3c",
        "outputId": "325bb9f7-852d-4fdd-be79-8165ad0576a7"
      },
      "execution_count": null,
      "outputs": [
        {
          "output_type": "execute_result",
          "data": {
            "text/plain": [
              "    recipe_id                               recipe_name  review_nums\n",
              "4      245714                        Potato Bacon Pizza            2\n",
              "8       22402                   Cranberry Pork Chops II          100\n",
              "24     236920       Sweet and Sour Ground Pork Stir-Fry           24\n",
              "36      26623                          Mexican Meatloaf           31\n",
              "56     231412                      Jambalaya In a Jiffy           21\n",
              "61      53650                                    Chalau           27\n",
              "76      57002  Pork Tenderloin with Dijon Marsala Sauce          581\n",
              "78     230270                    Beefy Lasagna Roll-Ups           33\n",
              "91      17813               Thai Breaded Chicken Filets           17\n",
              "93      14664                  Cilantro and Lime Butter           16"
            ],
            "text/html": [
              "\n",
              "  <div id=\"df-0a500f0e-f118-4b98-a0f3-0cecd7a0c2f3\" class=\"colab-df-container\">\n",
              "    <div>\n",
              "<style scoped>\n",
              "    .dataframe tbody tr th:only-of-type {\n",
              "        vertical-align: middle;\n",
              "    }\n",
              "\n",
              "    .dataframe tbody tr th {\n",
              "        vertical-align: top;\n",
              "    }\n",
              "\n",
              "    .dataframe thead th {\n",
              "        text-align: right;\n",
              "    }\n",
              "</style>\n",
              "<table border=\"1\" class=\"dataframe\">\n",
              "  <thead>\n",
              "    <tr style=\"text-align: right;\">\n",
              "      <th></th>\n",
              "      <th>recipe_id</th>\n",
              "      <th>recipe_name</th>\n",
              "      <th>review_nums</th>\n",
              "    </tr>\n",
              "  </thead>\n",
              "  <tbody>\n",
              "    <tr>\n",
              "      <th>4</th>\n",
              "      <td>245714</td>\n",
              "      <td>Potato Bacon Pizza</td>\n",
              "      <td>2</td>\n",
              "    </tr>\n",
              "    <tr>\n",
              "      <th>8</th>\n",
              "      <td>22402</td>\n",
              "      <td>Cranberry Pork Chops II</td>\n",
              "      <td>100</td>\n",
              "    </tr>\n",
              "    <tr>\n",
              "      <th>24</th>\n",
              "      <td>236920</td>\n",
              "      <td>Sweet and Sour Ground Pork Stir-Fry</td>\n",
              "      <td>24</td>\n",
              "    </tr>\n",
              "    <tr>\n",
              "      <th>36</th>\n",
              "      <td>26623</td>\n",
              "      <td>Mexican Meatloaf</td>\n",
              "      <td>31</td>\n",
              "    </tr>\n",
              "    <tr>\n",
              "      <th>56</th>\n",
              "      <td>231412</td>\n",
              "      <td>Jambalaya In a Jiffy</td>\n",
              "      <td>21</td>\n",
              "    </tr>\n",
              "    <tr>\n",
              "      <th>61</th>\n",
              "      <td>53650</td>\n",
              "      <td>Chalau</td>\n",
              "      <td>27</td>\n",
              "    </tr>\n",
              "    <tr>\n",
              "      <th>76</th>\n",
              "      <td>57002</td>\n",
              "      <td>Pork Tenderloin with Dijon Marsala Sauce</td>\n",
              "      <td>581</td>\n",
              "    </tr>\n",
              "    <tr>\n",
              "      <th>78</th>\n",
              "      <td>230270</td>\n",
              "      <td>Beefy Lasagna Roll-Ups</td>\n",
              "      <td>33</td>\n",
              "    </tr>\n",
              "    <tr>\n",
              "      <th>91</th>\n",
              "      <td>17813</td>\n",
              "      <td>Thai Breaded Chicken Filets</td>\n",
              "      <td>17</td>\n",
              "    </tr>\n",
              "    <tr>\n",
              "      <th>93</th>\n",
              "      <td>14664</td>\n",
              "      <td>Cilantro and Lime Butter</td>\n",
              "      <td>16</td>\n",
              "    </tr>\n",
              "  </tbody>\n",
              "</table>\n",
              "</div>\n",
              "    <div class=\"colab-df-buttons\">\n",
              "\n",
              "  <div class=\"colab-df-container\">\n",
              "    <button class=\"colab-df-convert\" onclick=\"convertToInteractive('df-0a500f0e-f118-4b98-a0f3-0cecd7a0c2f3')\"\n",
              "            title=\"Convert this dataframe to an interactive table.\"\n",
              "            style=\"display:none;\">\n",
              "\n",
              "  <svg xmlns=\"http://www.w3.org/2000/svg\" height=\"24px\" viewBox=\"0 -960 960 960\">\n",
              "    <path d=\"M120-120v-720h720v720H120Zm60-500h600v-160H180v160Zm220 220h160v-160H400v160Zm0 220h160v-160H400v160ZM180-400h160v-160H180v160Zm440 0h160v-160H620v160ZM180-180h160v-160H180v160Zm440 0h160v-160H620v160Z\"/>\n",
              "  </svg>\n",
              "    </button>\n",
              "\n",
              "  <style>\n",
              "    .colab-df-container {\n",
              "      display:flex;\n",
              "      gap: 12px;\n",
              "    }\n",
              "\n",
              "    .colab-df-convert {\n",
              "      background-color: #E8F0FE;\n",
              "      border: none;\n",
              "      border-radius: 50%;\n",
              "      cursor: pointer;\n",
              "      display: none;\n",
              "      fill: #1967D2;\n",
              "      height: 32px;\n",
              "      padding: 0 0 0 0;\n",
              "      width: 32px;\n",
              "    }\n",
              "\n",
              "    .colab-df-convert:hover {\n",
              "      background-color: #E2EBFA;\n",
              "      box-shadow: 0px 1px 2px rgba(60, 64, 67, 0.3), 0px 1px 3px 1px rgba(60, 64, 67, 0.15);\n",
              "      fill: #174EA6;\n",
              "    }\n",
              "\n",
              "    .colab-df-buttons div {\n",
              "      margin-bottom: 4px;\n",
              "    }\n",
              "\n",
              "    [theme=dark] .colab-df-convert {\n",
              "      background-color: #3B4455;\n",
              "      fill: #D2E3FC;\n",
              "    }\n",
              "\n",
              "    [theme=dark] .colab-df-convert:hover {\n",
              "      background-color: #434B5C;\n",
              "      box-shadow: 0px 1px 3px 1px rgba(0, 0, 0, 0.15);\n",
              "      filter: drop-shadow(0px 1px 2px rgba(0, 0, 0, 0.3));\n",
              "      fill: #FFFFFF;\n",
              "    }\n",
              "  </style>\n",
              "\n",
              "    <script>\n",
              "      const buttonEl =\n",
              "        document.querySelector('#df-0a500f0e-f118-4b98-a0f3-0cecd7a0c2f3 button.colab-df-convert');\n",
              "      buttonEl.style.display =\n",
              "        google.colab.kernel.accessAllowed ? 'block' : 'none';\n",
              "\n",
              "      async function convertToInteractive(key) {\n",
              "        const element = document.querySelector('#df-0a500f0e-f118-4b98-a0f3-0cecd7a0c2f3');\n",
              "        const dataTable =\n",
              "          await google.colab.kernel.invokeFunction('convertToInteractive',\n",
              "                                                    [key], {});\n",
              "        if (!dataTable) return;\n",
              "\n",
              "        const docLinkHtml = 'Like what you see? Visit the ' +\n",
              "          '<a target=\"_blank\" href=https://colab.research.google.com/notebooks/data_table.ipynb>data table notebook</a>'\n",
              "          + ' to learn more about interactive tables.';\n",
              "        element.innerHTML = '';\n",
              "        dataTable['output_type'] = 'display_data';\n",
              "        await google.colab.output.renderOutput(dataTable, element);\n",
              "        const docLink = document.createElement('div');\n",
              "        docLink.innerHTML = docLinkHtml;\n",
              "        element.appendChild(docLink);\n",
              "      }\n",
              "    </script>\n",
              "  </div>\n",
              "\n",
              "\n",
              "<div id=\"df-b935a56e-96cb-4cf2-b15e-b00ac2ff497d\">\n",
              "  <button class=\"colab-df-quickchart\" onclick=\"quickchart('df-b935a56e-96cb-4cf2-b15e-b00ac2ff497d')\"\n",
              "            title=\"Suggest charts\"\n",
              "            style=\"display:none;\">\n",
              "\n",
              "<svg xmlns=\"http://www.w3.org/2000/svg\" height=\"24px\"viewBox=\"0 0 24 24\"\n",
              "     width=\"24px\">\n",
              "    <g>\n",
              "        <path d=\"M19 3H5c-1.1 0-2 .9-2 2v14c0 1.1.9 2 2 2h14c1.1 0 2-.9 2-2V5c0-1.1-.9-2-2-2zM9 17H7v-7h2v7zm4 0h-2V7h2v10zm4 0h-2v-4h2v4z\"/>\n",
              "    </g>\n",
              "</svg>\n",
              "  </button>\n",
              "\n",
              "<style>\n",
              "  .colab-df-quickchart {\n",
              "      --bg-color: #E8F0FE;\n",
              "      --fill-color: #1967D2;\n",
              "      --hover-bg-color: #E2EBFA;\n",
              "      --hover-fill-color: #174EA6;\n",
              "      --disabled-fill-color: #AAA;\n",
              "      --disabled-bg-color: #DDD;\n",
              "  }\n",
              "\n",
              "  [theme=dark] .colab-df-quickchart {\n",
              "      --bg-color: #3B4455;\n",
              "      --fill-color: #D2E3FC;\n",
              "      --hover-bg-color: #434B5C;\n",
              "      --hover-fill-color: #FFFFFF;\n",
              "      --disabled-bg-color: #3B4455;\n",
              "      --disabled-fill-color: #666;\n",
              "  }\n",
              "\n",
              "  .colab-df-quickchart {\n",
              "    background-color: var(--bg-color);\n",
              "    border: none;\n",
              "    border-radius: 50%;\n",
              "    cursor: pointer;\n",
              "    display: none;\n",
              "    fill: var(--fill-color);\n",
              "    height: 32px;\n",
              "    padding: 0;\n",
              "    width: 32px;\n",
              "  }\n",
              "\n",
              "  .colab-df-quickchart:hover {\n",
              "    background-color: var(--hover-bg-color);\n",
              "    box-shadow: 0 1px 2px rgba(60, 64, 67, 0.3), 0 1px 3px 1px rgba(60, 64, 67, 0.15);\n",
              "    fill: var(--button-hover-fill-color);\n",
              "  }\n",
              "\n",
              "  .colab-df-quickchart-complete:disabled,\n",
              "  .colab-df-quickchart-complete:disabled:hover {\n",
              "    background-color: var(--disabled-bg-color);\n",
              "    fill: var(--disabled-fill-color);\n",
              "    box-shadow: none;\n",
              "  }\n",
              "\n",
              "  .colab-df-spinner {\n",
              "    border: 2px solid var(--fill-color);\n",
              "    border-color: transparent;\n",
              "    border-bottom-color: var(--fill-color);\n",
              "    animation:\n",
              "      spin 1s steps(1) infinite;\n",
              "  }\n",
              "\n",
              "  @keyframes spin {\n",
              "    0% {\n",
              "      border-color: transparent;\n",
              "      border-bottom-color: var(--fill-color);\n",
              "      border-left-color: var(--fill-color);\n",
              "    }\n",
              "    20% {\n",
              "      border-color: transparent;\n",
              "      border-left-color: var(--fill-color);\n",
              "      border-top-color: var(--fill-color);\n",
              "    }\n",
              "    30% {\n",
              "      border-color: transparent;\n",
              "      border-left-color: var(--fill-color);\n",
              "      border-top-color: var(--fill-color);\n",
              "      border-right-color: var(--fill-color);\n",
              "    }\n",
              "    40% {\n",
              "      border-color: transparent;\n",
              "      border-right-color: var(--fill-color);\n",
              "      border-top-color: var(--fill-color);\n",
              "    }\n",
              "    60% {\n",
              "      border-color: transparent;\n",
              "      border-right-color: var(--fill-color);\n",
              "    }\n",
              "    80% {\n",
              "      border-color: transparent;\n",
              "      border-right-color: var(--fill-color);\n",
              "      border-bottom-color: var(--fill-color);\n",
              "    }\n",
              "    90% {\n",
              "      border-color: transparent;\n",
              "      border-bottom-color: var(--fill-color);\n",
              "    }\n",
              "  }\n",
              "</style>\n",
              "\n",
              "  <script>\n",
              "    async function quickchart(key) {\n",
              "      const quickchartButtonEl =\n",
              "        document.querySelector('#' + key + ' button');\n",
              "      quickchartButtonEl.disabled = true;  // To prevent multiple clicks.\n",
              "      quickchartButtonEl.classList.add('colab-df-spinner');\n",
              "      try {\n",
              "        const charts = await google.colab.kernel.invokeFunction(\n",
              "            'suggestCharts', [key], {});\n",
              "      } catch (error) {\n",
              "        console.error('Error during call to suggestCharts:', error);\n",
              "      }\n",
              "      quickchartButtonEl.classList.remove('colab-df-spinner');\n",
              "      quickchartButtonEl.classList.add('colab-df-quickchart-complete');\n",
              "    }\n",
              "    (() => {\n",
              "      let quickchartButtonEl =\n",
              "        document.querySelector('#df-b935a56e-96cb-4cf2-b15e-b00ac2ff497d button');\n",
              "      quickchartButtonEl.style.display =\n",
              "        google.colab.kernel.accessAllowed ? 'block' : 'none';\n",
              "    })();\n",
              "  </script>\n",
              "</div>\n",
              "    </div>\n",
              "  </div>\n"
            ]
          },
          "metadata": {},
          "execution_count": 180
        }
      ]
    },
    {
      "cell_type": "markdown",
      "source": [
        "Yo ho ho and a plate of pork"
      ],
      "metadata": {
        "id": "SFm-ZlI9We7S"
      }
    },
    {
      "cell_type": "code",
      "source": [],
      "metadata": {
        "id": "yoBqhf5pQ0Tc"
      },
      "execution_count": null,
      "outputs": []
    }
  ]
}