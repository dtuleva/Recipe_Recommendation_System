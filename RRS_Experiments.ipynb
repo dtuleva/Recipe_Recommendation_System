{
  "nbformat": 4,
  "nbformat_minor": 0,
  "metadata": {
    "colab": {
      "provenance": [],
      "gpuType": "T4",
      "authorship_tag": "ABX9TyPS8JTwWy5U/e3iAG/Z1R3Z",
      "include_colab_link": true
    },
    "kernelspec": {
      "name": "python3",
      "display_name": "Python 3"
    },
    "language_info": {
      "name": "python"
    },
    "accelerator": "GPU"
  },
  "cells": [
    {
      "cell_type": "markdown",
      "metadata": {
        "id": "view-in-github",
        "colab_type": "text"
      },
      "source": [
        "<a href=\"https://colab.research.google.com/github/dtuleva/Recipe_Recommendation_System/blob/main/RRS_Experiments.ipynb\" target=\"_parent\"><img src=\"https://colab.research.google.com/assets/colab-badge.svg\" alt=\"Open In Colab\"/></a>"
      ]
    },
    {
      "cell_type": "code",
      "execution_count": 1,
      "metadata": {
        "colab": {
          "base_uri": "https://localhost:8080/"
        },
        "id": "FLMz9iWC6fFD",
        "outputId": "015cd943-fa6e-4115-e8f1-819276771d3a"
      },
      "outputs": [
        {
          "output_type": "stream",
          "name": "stdout",
          "text": [
            "\u001b[?25l     \u001b[90m━━━━━━━━━━━━━━━━━━━━━━━━━━━━━━━━━━━━━━━━\u001b[0m \u001b[32m0.0/96.2 kB\u001b[0m \u001b[31m?\u001b[0m eta \u001b[36m-:--:--\u001b[0m\r\u001b[2K     \u001b[91m━━━━━━━━━━━━━━━━━━━━━━━━━━━━━━━━━━━━━━\u001b[0m\u001b[90m╺\u001b[0m\u001b[90m━\u001b[0m \u001b[32m92.2/96.2 kB\u001b[0m \u001b[31m3.2 MB/s\u001b[0m eta \u001b[36m0:00:01\u001b[0m\r\u001b[2K     \u001b[90m━━━━━━━━━━━━━━━━━━━━━━━━━━━━━━━━━━━━━━━━\u001b[0m \u001b[32m96.2/96.2 kB\u001b[0m \u001b[31m2.6 MB/s\u001b[0m eta \u001b[36m0:00:00\u001b[0m\n",
            "\u001b[?25h"
          ]
        }
      ],
      "source": [
        "!pip install -q tensorflow-recommenders"
      ]
    },
    {
      "cell_type": "code",
      "source": [
        "!pip install -q mlflow"
      ],
      "metadata": {
        "colab": {
          "base_uri": "https://localhost:8080/"
        },
        "id": "DqwvgvTQ7SEI",
        "outputId": "092c7be6-444b-44ce-a87e-99b9da227cc9"
      },
      "execution_count": 2,
      "outputs": [
        {
          "output_type": "stream",
          "name": "stdout",
          "text": [
            "\u001b[2K     \u001b[90m━━━━━━━━━━━━━━━━━━━━━━━━━━━━━━━━━━━━━━━━\u001b[0m \u001b[32m19.1/19.1 MB\u001b[0m \u001b[31m66.1 MB/s\u001b[0m eta \u001b[36m0:00:00\u001b[0m\n",
            "\u001b[2K     \u001b[90m━━━━━━━━━━━━━━━━━━━━━━━━━━━━━━━━━━━━━━━━\u001b[0m \u001b[32m150.3/150.3 kB\u001b[0m \u001b[31m17.6 MB/s\u001b[0m eta \u001b[36m0:00:00\u001b[0m\n",
            "\u001b[2K     \u001b[90m━━━━━━━━━━━━━━━━━━━━━━━━━━━━━━━━━━━━━━━━\u001b[0m \u001b[32m196.4/196.4 kB\u001b[0m \u001b[31m23.5 MB/s\u001b[0m eta \u001b[36m0:00:00\u001b[0m\n",
            "\u001b[2K     \u001b[90m━━━━━━━━━━━━━━━━━━━━━━━━━━━━━━━━━━━━━━━━\u001b[0m \u001b[32m233.4/233.4 kB\u001b[0m \u001b[31m26.8 MB/s\u001b[0m eta \u001b[36m0:00:00\u001b[0m\n",
            "\u001b[2K     \u001b[90m━━━━━━━━━━━━━━━━━━━━━━━━━━━━━━━━━━━━━━━━\u001b[0m \u001b[32m148.1/148.1 kB\u001b[0m \u001b[31m19.6 MB/s\u001b[0m eta \u001b[36m0:00:00\u001b[0m\n",
            "\u001b[2K     \u001b[90m━━━━━━━━━━━━━━━━━━━━━━━━━━━━━━━━━━━━━━━━\u001b[0m \u001b[32m80.2/80.2 kB\u001b[0m \u001b[31m10.6 MB/s\u001b[0m eta \u001b[36m0:00:00\u001b[0m\n",
            "\u001b[2K     \u001b[90m━━━━━━━━━━━━━━━━━━━━━━━━━━━━━━━━━━━━━━━━\u001b[0m \u001b[32m78.7/78.7 kB\u001b[0m \u001b[31m9.7 MB/s\u001b[0m eta \u001b[36m0:00:00\u001b[0m\n",
            "\u001b[2K     \u001b[90m━━━━━━━━━━━━━━━━━━━━━━━━━━━━━━━━━━━━━━━━\u001b[0m \u001b[32m62.7/62.7 kB\u001b[0m \u001b[31m8.2 MB/s\u001b[0m eta \u001b[36m0:00:00\u001b[0m\n",
            "\u001b[?25h"
          ]
        }
      ]
    },
    {
      "cell_type": "code",
      "source": [
        "!pip install -U -q tensorboard_plugin_profile"
      ],
      "metadata": {
        "colab": {
          "base_uri": "https://localhost:8080/"
        },
        "id": "2BLcKUAg7HLf",
        "outputId": "f3488469-38f5-4a62-c3aa-c4100ef3b53a"
      },
      "execution_count": 3,
      "outputs": [
        {
          "output_type": "stream",
          "name": "stdout",
          "text": [
            "\u001b[2K     \u001b[90m━━━━━━━━━━━━━━━━━━━━━━━━━━━━━━━━━━━━━━━━\u001b[0m \u001b[32m5.6/5.6 MB\u001b[0m \u001b[31m22.3 MB/s\u001b[0m eta \u001b[36m0:00:00\u001b[0m\n",
            "\u001b[?25h"
          ]
        }
      ]
    },
    {
      "cell_type": "code",
      "source": [
        "from google.colab import drive\n",
        "drive.mount(\"/content/gdrive\")"
      ],
      "metadata": {
        "colab": {
          "base_uri": "https://localhost:8080/"
        },
        "id": "mJD6IXBU7J5x",
        "outputId": "b90db746-0811-4d7e-88c4-06d1bd4ed8dc"
      },
      "execution_count": 4,
      "outputs": [
        {
          "output_type": "stream",
          "name": "stdout",
          "text": [
            "Mounted at /content/gdrive\n"
          ]
        }
      ]
    },
    {
      "cell_type": "code",
      "source": [
        "from typing import Dict, Text\n",
        "\n",
        "import pandas as pd\n",
        "import tensorflow as tf\n",
        "\n",
        "import tensorflow_recommenders as tfrs\n",
        "\n",
        "from tensorflow.keras.models import Sequential\n",
        "from tensorflow.keras.layers import IntegerLookup\n",
        "\n",
        "import mlflow"
      ],
      "metadata": {
        "id": "gCgky7RH7K8g"
      },
      "execution_count": 5,
      "outputs": []
    },
    {
      "cell_type": "code",
      "source": [],
      "metadata": {
        "id": "PetIzFnl7d-h"
      },
      "execution_count": 5,
      "outputs": []
    },
    {
      "cell_type": "markdown",
      "source": [
        "# Recipe Recommendation System\n",
        "## part 3 - Experiments"
      ],
      "metadata": {
        "id": "qoUsXH3Q7evW"
      }
    },
    {
      "cell_type": "code",
      "source": [
        "ratings_data = pd.read_csv(\"/content/gdrive/MyDrive/RRS_data/core-data-train_rating.csv\")\n",
        "ratings_data_val = pd.read_csv(\"/content/gdrive/MyDrive/RRS_data/core-data-valid_rating.csv\")\n",
        "recipes_data = pd.read_csv(\"/content/gdrive/MyDrive/RRS_data/core-data_recipe.csv\")"
      ],
      "metadata": {
        "id": "v_N2DCcB7y7K"
      },
      "execution_count": 6,
      "outputs": []
    },
    {
      "cell_type": "code",
      "source": [
        "ratings = tf.data.Dataset.from_tensor_slices(dict(ratings_data))\n",
        "ratings_val = tf.data.Dataset.from_tensor_slices(dict(ratings_data_val))\n",
        "recipes = tf.data.Dataset.from_tensor_slices(dict(recipes_data))"
      ],
      "metadata": {
        "id": "sGSrLCHhGoDY"
      },
      "execution_count": 7,
      "outputs": []
    },
    {
      "cell_type": "code",
      "source": [
        "ratings = ratings.map(lambda x: {\n",
        "    \"recipe_id\": x[\"recipe_id\"],\n",
        "    \"user_id\": x[\"user_id\"]\n",
        "})\n",
        "\n",
        "ratings_val = ratings_val.map(lambda x: {\n",
        "    \"recipe_id\": x[\"recipe_id\"],\n",
        "    \"user_id\": x[\"user_id\"]\n",
        "})\n",
        "\n",
        "recipes = recipes.map(lambda x: x[\"recipe_id\"])"
      ],
      "metadata": {
        "id": "CKP62uxtHnzM"
      },
      "execution_count": 8,
      "outputs": []
    },
    {
      "cell_type": "code",
      "source": [
        "for r in ratings.take(1):\n",
        "  print(type(r))\n",
        "  for k, v in r.items():\n",
        "    print(f\"{k}: {v}\")"
      ],
      "metadata": {
        "colab": {
          "base_uri": "https://localhost:8080/"
        },
        "id": "1AupzflDHzhg",
        "outputId": "40b10423-51d3-4c86-aa80-9b324034dff5"
      },
      "execution_count": 9,
      "outputs": [
        {
          "output_type": "stream",
          "name": "stdout",
          "text": [
            "<class 'dict'>\n",
            "recipe_id: 17991\n",
            "user_id: 5215572\n"
          ]
        }
      ]
    },
    {
      "cell_type": "code",
      "source": [
        "for r in recipes.take(1):\n",
        "  print(r)"
      ],
      "metadata": {
        "colab": {
          "base_uri": "https://localhost:8080/"
        },
        "id": "1IyxKKcSH9cu",
        "outputId": "3e909a24-e1db-455f-a309-3af81e8d9bff"
      },
      "execution_count": 10,
      "outputs": [
        {
          "output_type": "stream",
          "name": "stdout",
          "text": [
            "tf.Tensor(240488, shape=(), dtype=int64)\n"
          ]
        }
      ]
    },
    {
      "cell_type": "code",
      "source": [
        "ratings.cardinality(), recipes.cardinality()"
      ],
      "metadata": {
        "colab": {
          "base_uri": "https://localhost:8080/"
        },
        "id": "6jj-ZAxsIEmX",
        "outputId": "7b1e8de0-48aa-4f0a-bd19-5ea987c25f6a"
      },
      "execution_count": 11,
      "outputs": [
        {
          "output_type": "execute_result",
          "data": {
            "text/plain": [
              "(<tf.Tensor: shape=(), dtype=int64, numpy=676946>,\n",
              " <tf.Tensor: shape=(), dtype=int64, numpy=45630>)"
            ]
          },
          "metadata": {},
          "execution_count": 11
        }
      ]
    },
    {
      "cell_type": "code",
      "source": [],
      "metadata": {
        "id": "hgHr3-9pKcRE"
      },
      "execution_count": 11,
      "outputs": []
    },
    {
      "cell_type": "code",
      "source": [
        "unique_user_ids = ratings_data.user_id.unique()\n",
        "len(unique_user_ids)"
      ],
      "metadata": {
        "colab": {
          "base_uri": "https://localhost:8080/"
        },
        "id": "X1YSvevFKcz6",
        "outputId": "5db32c38-d2b1-42bd-a424-d2cee3dfd75d"
      },
      "execution_count": 12,
      "outputs": [
        {
          "output_type": "execute_result",
          "data": {
            "text/plain": [
              "68768"
            ]
          },
          "metadata": {},
          "execution_count": 12
        }
      ]
    },
    {
      "cell_type": "code",
      "source": [
        "unique_recipe_ids = recipes_data.recipe_id.unique()\n",
        "len(unique_recipe_ids)"
      ],
      "metadata": {
        "colab": {
          "base_uri": "https://localhost:8080/"
        },
        "id": "nQuviezHIZJX",
        "outputId": "21835ffd-9721-4af1-ce9d-d452689c0699"
      },
      "execution_count": 13,
      "outputs": [
        {
          "output_type": "execute_result",
          "data": {
            "text/plain": [
              "45630"
            ]
          },
          "metadata": {},
          "execution_count": 13
        }
      ]
    },
    {
      "cell_type": "code",
      "source": [
        "embedding_dimension = 32"
      ],
      "metadata": {
        "id": "n8bSfDV8JQ8M"
      },
      "execution_count": 14,
      "outputs": []
    },
    {
      "cell_type": "code",
      "source": [],
      "metadata": {
        "id": "PrthWGG0JQzt"
      },
      "execution_count": 14,
      "outputs": []
    },
    {
      "cell_type": "code",
      "source": [
        "# query tower\n",
        "\n",
        "user_model = Sequential([\n",
        "  IntegerLookup(\n",
        "      vocabulary=unique_user_ids, mask_token=None),\n",
        "  # We add an additional embedding to account for unknown tokens.\n",
        "  tf.keras.layers.Embedding(len(unique_user_ids) + 1, embedding_dimension)\n",
        "])"
      ],
      "metadata": {
        "id": "VoGGSq_zJm90"
      },
      "execution_count": 15,
      "outputs": []
    },
    {
      "cell_type": "code",
      "source": [
        "# candidate tower\n",
        "recipe_model = Sequential([\n",
        "  IntegerLookup(\n",
        "      vocabulary=unique_recipe_ids, mask_token=None),\n",
        "  tf.keras.layers.Embedding(len(unique_recipe_ids) + 1, embedding_dimension)\n",
        "])"
      ],
      "metadata": {
        "id": "EPilBcN7KqfX"
      },
      "execution_count": 16,
      "outputs": []
    },
    {
      "cell_type": "code",
      "source": [
        "metrics = tfrs.metrics.FactorizedTopK(\n",
        "  candidates=recipes.batch(128).map(recipe_model)\n",
        ")"
      ],
      "metadata": {
        "id": "V9hBZlIeLYxg"
      },
      "execution_count": 17,
      "outputs": []
    },
    {
      "cell_type": "code",
      "source": [
        "task = tfrs.tasks.Retrieval(\n",
        "  metrics=metrics\n",
        ")"
      ],
      "metadata": {
        "id": "ccvDkTRiLkZH"
      },
      "execution_count": 18,
      "outputs": []
    },
    {
      "cell_type": "code",
      "source": [
        "class BaseRetrievalModel(tfrs.Model):\n",
        "\n",
        "  def __init__(self, user_model, movie_model):\n",
        "    super().__init__()\n",
        "    self.recipe_model: tf.keras.Model = recipe_model\n",
        "    self.user_model: tf.keras.Model = user_model\n",
        "    self.task: tf.keras.layers.Layer = task\n",
        "\n",
        "  def compute_loss(self, features: Dict[Text, tf.Tensor], training=False) -> tf.Tensor:\n",
        "    # We pick out the user features and pass them into the user model.\n",
        "    user_embeddings = self.user_model(features[\"user_id\"])\n",
        "    # And pick out the movie features and pass them into the movie model,\n",
        "    # getting embeddings back.\n",
        "    positive_recipe_embeddings = self.recipe_model(features[\"recipe_id\"])\n",
        "\n",
        "    # The task computes the loss and the metrics.\n",
        "    return self.task(user_embeddings, positive_recipe_embeddings)"
      ],
      "metadata": {
        "id": "C8HWfZodLoRY"
      },
      "execution_count": 19,
      "outputs": []
    },
    {
      "cell_type": "code",
      "source": [
        "model = BaseRetrievalModel(user_model, recipe_model)\n",
        "model.compile(optimizer=tf.keras.optimizers.Adagrad(learning_rate=0.1))"
      ],
      "metadata": {
        "id": "TFFv-9ApNTr8"
      },
      "execution_count": 20,
      "outputs": []
    },
    {
      "cell_type": "code",
      "source": [
        "ratings_train = ratings.batch(512)\n",
        "ratings_val = ratings_val.batch(512)"
      ],
      "metadata": {
        "id": "GdjaovAaNroQ"
      },
      "execution_count": 21,
      "outputs": []
    },
    {
      "cell_type": "code",
      "source": [
        "tensorboard_callback = tf.keras.callbacks.TensorBoard(log_dir = \"/content/log\")"
      ],
      "metadata": {
        "id": "O6zUXLKFOYQP"
      },
      "execution_count": 22,
      "outputs": []
    },
    {
      "cell_type": "code",
      "source": [
        "experiment = mlflow.create_experiment(\"base_retrieval\")"
      ],
      "metadata": {
        "id": "lWWe62aVRPxP"
      },
      "execution_count": 23,
      "outputs": []
    },
    {
      "cell_type": "code",
      "source": [
        "mlflow.autolog()"
      ],
      "metadata": {
        "colab": {
          "base_uri": "https://localhost:8080/"
        },
        "id": "LRp8-T95RXgO",
        "outputId": "76bf16ee-8a08-4cdc-c67e-c1a0bdd77b48"
      },
      "execution_count": 24,
      "outputs": [
        {
          "output_type": "stream",
          "name": "stderr",
          "text": [
            "2024/01/25 11:09:29 INFO mlflow.tracking.fluent: Autologging successfully enabled for tensorflow.\n"
          ]
        }
      ]
    },
    {
      "cell_type": "code",
      "source": [
        "with mlflow.start_run(experiment_id = experiment, run_name=\"autolog_01\") as run:\n",
        "  model.fit(ratings_train, validation_data= ratings_val, epochs = 10, callbacks = [tensorboard_callback])"
      ],
      "metadata": {
        "colab": {
          "base_uri": "https://localhost:8080/"
        },
        "id": "c2kTPdXKORRS",
        "outputId": "b8d8c130-5b2f-4fc6-916a-589e13b76ad3"
      },
      "execution_count": null,
      "outputs": [
        {
          "output_type": "stream",
          "name": "stderr",
          "text": [
            "2024/01/25 11:09:30 WARNING mlflow.tensorflow: Encountered unexpected error while inferring batch size from training dataset: The layer \"base_retrieval_model\" has never been called and thus has no defined input shape. Note that the `input_shape` property is only available for Functional and Sequential models.\n",
            "2024/01/25 11:09:40 WARNING mlflow.utils.autologging_utils: MLflow autologging encountered a warning: \"/usr/local/lib/python3.10/dist-packages/mlflow/tensorflow/_autolog.py:52: UserWarning: This model has not yet been built. Build the model first by calling `build()` or by calling the model on a batch of data.\"\n"
          ]
        },
        {
          "output_type": "stream",
          "name": "stdout",
          "text": [
            "Epoch 1/10\n",
            "1323/1323 [==============================] - 2491s 2s/step - factorized_top_k/top_1_categorical_accuracy: 1.7727e-05 - factorized_top_k/top_5_categorical_accuracy: 0.0030 - factorized_top_k/top_10_categorical_accuracy: 0.0059 - factorized_top_k/top_50_categorical_accuracy: 0.0202 - factorized_top_k/top_100_categorical_accuracy: 0.0323 - loss: 3189.7506 - regularization_loss: 0.0000e+00 - total_loss: 3189.7506 - val_factorized_top_k/top_1_categorical_accuracy: 3.6715e-04 - val_factorized_top_k/top_5_categorical_accuracy: 0.0027 - val_factorized_top_k/top_10_categorical_accuracy: 0.0050 - val_factorized_top_k/top_50_categorical_accuracy: 0.0191 - val_factorized_top_k/top_100_categorical_accuracy: 0.0315 - val_loss: 1974.8689 - val_regularization_loss: 0.0000e+00 - val_total_loss: 1974.8689\n",
            "Epoch 2/10\n",
            "1323/1323 [==============================] - 2453s 2s/step - factorized_top_k/top_1_categorical_accuracy: 2.5408e-04 - factorized_top_k/top_5_categorical_accuracy: 0.0520 - factorized_top_k/top_10_categorical_accuracy: 0.0755 - factorized_top_k/top_50_categorical_accuracy: 0.1528 - factorized_top_k/top_100_categorical_accuracy: 0.1990 - loss: 3147.0114 - regularization_loss: 0.0000e+00 - total_loss: 3147.0114 - val_factorized_top_k/top_1_categorical_accuracy: 5.1701e-04 - val_factorized_top_k/top_5_categorical_accuracy: 0.0043 - val_factorized_top_k/top_10_categorical_accuracy: 0.0091 - val_factorized_top_k/top_50_categorical_accuracy: 0.0328 - val_factorized_top_k/top_100_categorical_accuracy: 0.0516 - val_loss: 1981.5660 - val_regularization_loss: 0.0000e+00 - val_total_loss: 1981.5660\n",
            "Epoch 3/10\n",
            "1323/1323 [==============================] - 2495s 2s/step - factorized_top_k/top_1_categorical_accuracy: 0.0049 - factorized_top_k/top_5_categorical_accuracy: 0.0874 - factorized_top_k/top_10_categorical_accuracy: 0.1160 - factorized_top_k/top_50_categorical_accuracy: 0.2019 - factorized_top_k/top_100_categorical_accuracy: 0.2518 - loss: 3005.8635 - regularization_loss: 0.0000e+00 - total_loss: 3005.8635 - val_factorized_top_k/top_1_categorical_accuracy: 3.4468e-04 - val_factorized_top_k/top_5_categorical_accuracy: 0.0030 - val_factorized_top_k/top_10_categorical_accuracy: 0.0066 - val_factorized_top_k/top_50_categorical_accuracy: 0.0281 - val_factorized_top_k/top_100_categorical_accuracy: 0.0460 - val_loss: 2012.9998 - val_regularization_loss: 0.0000e+00 - val_total_loss: 2012.9998\n",
            "Epoch 4/10\n",
            "1323/1323 [==============================] - 2587s 2s/step - factorized_top_k/top_1_categorical_accuracy: 0.0094 - factorized_top_k/top_5_categorical_accuracy: 0.1022 - factorized_top_k/top_10_categorical_accuracy: 0.1322 - factorized_top_k/top_50_categorical_accuracy: 0.2221 - factorized_top_k/top_100_categorical_accuracy: 0.2747 - loss: 2851.2368 - regularization_loss: 0.0000e+00 - total_loss: 2851.2368 - val_factorized_top_k/top_1_categorical_accuracy: 3.5966e-04 - val_factorized_top_k/top_5_categorical_accuracy: 0.0027 - val_factorized_top_k/top_10_categorical_accuracy: 0.0053 - val_factorized_top_k/top_50_categorical_accuracy: 0.0227 - val_factorized_top_k/top_100_categorical_accuracy: 0.0388 - val_loss: 2058.6479 - val_regularization_loss: 0.0000e+00 - val_total_loss: 2058.6479\n",
            "Epoch 5/10\n",
            "1323/1323 [==============================] - ETA: 0s - factorized_top_k/top_1_categorical_accuracy: 0.0081 - factorized_top_k/top_5_categorical_accuracy: 0.1088 - factorized_top_k/top_10_categorical_accuracy: 0.1410 - factorized_top_k/top_50_categorical_accuracy: 0.2377 - factorized_top_k/top_100_categorical_accuracy: 0.2948 - loss: 2728.8651 - regularization_loss: 0.0000e+00 - total_loss: 2728.8651"
          ]
        }
      ]
    },
    {
      "cell_type": "code",
      "source": [
        "# Load the TensorBoard notebook extension.\n",
        "%load_ext tensorboard\n",
        "\n",
        "# %reload_ext tensorboard"
      ],
      "metadata": {
        "id": "R20-d4x_OZbx"
      },
      "execution_count": null,
      "outputs": []
    },
    {
      "cell_type": "code",
      "source": [
        "%tensorboard --logdir=\"/content/log\""
      ],
      "metadata": {
        "id": "bXL2ge4EPJVb"
      },
      "execution_count": null,
      "outputs": []
    },
    {
      "cell_type": "code",
      "source": [],
      "metadata": {
        "id": "BoQhtIZMPPhz"
      },
      "execution_count": null,
      "outputs": []
    }
  ]
}