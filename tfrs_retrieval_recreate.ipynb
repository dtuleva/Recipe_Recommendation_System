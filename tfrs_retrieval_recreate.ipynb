{
  "nbformat": 4,
  "nbformat_minor": 0,
  "metadata": {
    "colab": {
      "provenance": [],
      "authorship_tag": "ABX9TyOltIIbfzzOBBvBGxkGDA00",
      "include_colab_link": true
    },
    "kernelspec": {
      "name": "python3",
      "display_name": "Python 3"
    },
    "language_info": {
      "name": "python"
    }
  },
  "cells": [
    {
      "cell_type": "markdown",
      "metadata": {
        "id": "view-in-github",
        "colab_type": "text"
      },
      "source": [
        "<a href=\"https://colab.research.google.com/github/dtuleva/Recipe_Recommendation_System/blob/main/tfrs_retrieval_recreate.ipynb\" target=\"_parent\"><img src=\"https://colab.research.google.com/assets/colab-badge.svg\" alt=\"Open In Colab\"/></a>"
      ]
    },
    {
      "cell_type": "code",
      "execution_count": 1,
      "metadata": {
        "id": "uh98J3YrPTuP",
        "colab": {
          "base_uri": "https://localhost:8080/"
        },
        "outputId": "ff185258-ffe0-4d44-b42e-fe6e6e024a46"
      },
      "outputs": [
        {
          "output_type": "stream",
          "name": "stdout",
          "text": [
            "\u001b[?25l     \u001b[90m━━━━━━━━━━━━━━━━━━━━━━━━━━━━━━━━━━━━━━━━\u001b[0m \u001b[32m0.0/96.2 kB\u001b[0m \u001b[31m?\u001b[0m eta \u001b[36m-:--:--\u001b[0m\r\u001b[2K     \u001b[91m━━━━━━━━━━━━━━━━━\u001b[0m\u001b[90m╺\u001b[0m\u001b[90m━━━━━━━━━━━━━━━━━━━━━━\u001b[0m \u001b[32m41.0/96.2 kB\u001b[0m \u001b[31m1.2 MB/s\u001b[0m eta \u001b[36m0:00:01\u001b[0m\r\u001b[2K     \u001b[91m━━━━━━━━━━━━━━━━━━━━━━━━━━━━━━━━━━━━━━\u001b[0m\u001b[90m╺\u001b[0m\u001b[90m━\u001b[0m \u001b[32m92.2/96.2 kB\u001b[0m \u001b[31m1.7 MB/s\u001b[0m eta \u001b[36m0:00:01\u001b[0m\r\u001b[2K     \u001b[91m━━━━━━━━━━━━━━━━━━━━━━━━━━━━━━━━━━━━━━\u001b[0m\u001b[90m╺\u001b[0m\u001b[90m━\u001b[0m \u001b[32m92.2/96.2 kB\u001b[0m \u001b[31m1.7 MB/s\u001b[0m eta \u001b[36m0:00:01\u001b[0m\r\u001b[2K     \u001b[90m━━━━━━━━━━━━━━━━━━━━━━━━━━━━━━━━━━━━━━━━\u001b[0m \u001b[32m96.2/96.2 kB\u001b[0m \u001b[31m734.4 kB/s\u001b[0m eta \u001b[36m0:00:00\u001b[0m\n",
            "\u001b[?25h"
          ]
        }
      ],
      "source": [
        "!pip install -q tensorflow-recommenders\n",
        "# !pip install -q --upgrade tensorflow-datasets"
      ]
    },
    {
      "cell_type": "code",
      "source": [
        "from typing import Dict, Text\n",
        "\n",
        "import numpy as np\n",
        "import pandas as pd\n",
        "import tensorflow as tf\n",
        "\n",
        "# import tensorflow_datasets as tfds\n",
        "import tensorflow_recommenders as tfrs"
      ],
      "metadata": {
        "id": "f_5SnRPiQkoY"
      },
      "execution_count": 36,
      "outputs": []
    },
    {
      "cell_type": "markdown",
      "source": [
        "# Recreate Recommending movies: retrieval"
      ],
      "metadata": {
        "id": "y3a6lqvkPzGp"
      }
    },
    {
      "cell_type": "markdown",
      "source": [
        "[tutorial link](\"https://www.tensorflow.org/recommenders/examples/basic_retrieval\")"
      ],
      "metadata": {
        "id": "TAXWqgwhP_MN"
      }
    },
    {
      "cell_type": "markdown",
      "source": [
        "Real-world recommender systems are often composed of two stages:\n",
        "\n",
        "1. The retrieval stage is responsible for selecting an initial set of hundreds of candidates from all possible candidates. The main objective of this model is to efficiently weed out all candidates that the user is not interested in. Because the retrieval model may be dealing with millions of candidates, it has to be computationally efficient.\n",
        "2. The ranking stage takes the outputs of the retrieval model and fine-tunes them to select the best possible handful of recommendations. Its task is to narrow down the set of items the user may be interested in to a shortlist of likely candidates.\n",
        "\n",
        "In this tutorial, we're going to focus on the first stage, retrieval. If you are interested in the ranking stage, have a look at our [ranking](basic_ranking) tutorial.\n",
        "\n",
        "Retrieval models are often composed of two sub-models:\n",
        "\n",
        "1. A query model computing the query representation (normally a fixed-dimensionality embedding vector) using query features.\n",
        "2. A candidate model computing the candidate representation (an equally-sized vector) using the candidate features\n",
        "\n",
        "The outputs of the two models are then multiplied together to give a query-candidate affinity score, with higher scores expressing a better match between the candidate and the query.\n",
        "\n",
        "In this tutorial, we're going to build and train such a two-tower model using the Movielens dataset.\n",
        "\n",
        "We're going to:\n",
        "\n",
        "1. Get our data and split it into a training and test set.\n",
        "2. Implement a retrieval model.\n",
        "3. Fit and evaluate it.\n",
        "4. Export it for efficient serving by building an approximate nearest neighbours (ANN) index."
      ],
      "metadata": {
        "id": "5Pw5uYzaQVuG"
      }
    },
    {
      "cell_type": "markdown",
      "source": [
        "## The dataset\n",
        "\n",
        "The Movielens dataset is a classic dataset from the [GroupLens](https://grouplens.org/datasets/movielens/) research group at the University of Minnesota. It contains a set of ratings given to movies by a set of users, and is a workhorse of recommender system research.\n",
        "\n",
        "The data can be treated in two ways:\n",
        "\n",
        "1. It can be interpreted as expressesing which movies the users watched (and rated), and which they did not. This is a form of implicit feedback, where users' watches tell us which things they prefer to see and which they'd rather not see.\n",
        "2. It can also be seen as expressesing how much the users liked the movies they did watch. This is a form of explicit feedback: given that a user watched a movie, we can tell roughly how much they liked by looking at the rating they have given.\n",
        "\n",
        "In this tutorial, we are focusing on a retrieval system: a model that predicts a set of movies from the catalogue that the user is likely to watch. Often, implicit data is more useful here, and so we are going to treat Movielens as an implicit system. This means that every movie a user watched is a positive example, and every movie they have not seen is an implicit negative example."
      ],
      "metadata": {
        "id": "wuBP4XhXQW5N"
      }
    },
    {
      "cell_type": "markdown",
      "source": [
        "### Preprocess the dataset\n",
        "\n",
        "To fit and evaluate the model, we need to split it into a training and evaluation set. In an industrial recommender system, this would most likely be done by time: the data up to time $T$ would be used to predict interactions after $T$.\n",
        "\n",
        "\n",
        "In this simple example, however, let's use a random split, putting 80% of the ratings in the train set, and 20% in the test set."
      ],
      "metadata": {
        "id": "pnPZeBn9RWVP"
      }
    },
    {
      "cell_type": "code",
      "source": [
        "ratings_data = pd.read_csv(\"/content/mock-data_interaction.csv\")\n",
        "recipes_data = pd.read_csv(\"/content/mock-data_recipe.csv\")"
      ],
      "metadata": {
        "id": "d_IFZWLQP6-l"
      },
      "execution_count": 37,
      "outputs": []
    },
    {
      "cell_type": "code",
      "source": [
        "ratings = tf.data.Dataset.from_tensor_slices(dict(ratings_data))\n",
        "recipes = tf.data.Dataset.from_tensor_slices(dict(recipes_data))"
      ],
      "metadata": {
        "id": "70F6IJEyR63G"
      },
      "execution_count": 38,
      "outputs": []
    },
    {
      "cell_type": "code",
      "source": [
        "# feature selection\n",
        "ratings = ratings.map(lambda x: {\n",
        "    \"recipe_id\": x[\"recipe_id\"],\n",
        "    \"user_id\": x[\"user_id\"]\n",
        "})"
      ],
      "metadata": {
        "id": "owcigJDCSAK-"
      },
      "execution_count": 39,
      "outputs": []
    },
    {
      "cell_type": "code",
      "source": [
        "for r in ratings.take(1):\n",
        "  print(type(r))\n",
        "  for k, v in r.items():\n",
        "    print(f\"{k}: {v}\")"
      ],
      "metadata": {
        "colab": {
          "base_uri": "https://localhost:8080/"
        },
        "id": "h94B7RndSEfI",
        "outputId": "20f687c7-d22b-44e9-858a-ad5d3ec29b85"
      },
      "execution_count": 40,
      "outputs": [
        {
          "output_type": "stream",
          "name": "stdout",
          "text": [
            "<class 'dict'>\n",
            "recipe_id: 222388\n",
            "user_id: 8542392\n"
          ]
        }
      ]
    },
    {
      "cell_type": "code",
      "source": [
        "recipes = recipes.map(lambda x: x[\"recipe_id\"])"
      ],
      "metadata": {
        "id": "sNp1F2_6aOtw"
      },
      "execution_count": 41,
      "outputs": []
    },
    {
      "cell_type": "code",
      "source": [
        "for r in recipes.take(1):\n",
        "  print(r)"
      ],
      "metadata": {
        "colab": {
          "base_uri": "https://localhost:8080/"
        },
        "id": "Hh_fxt81SMw_",
        "outputId": "808e4a37-54db-404e-c6a9-4afb4999567c"
      },
      "execution_count": 42,
      "outputs": [
        {
          "output_type": "stream",
          "name": "stdout",
          "text": [
            "tf.Tensor(222388, shape=(), dtype=int64)\n"
          ]
        }
      ]
    },
    {
      "cell_type": "code",
      "source": [
        "ratings_cardinality = ratings.cardinality()\n",
        "ratings_cardinality"
      ],
      "metadata": {
        "colab": {
          "base_uri": "https://localhost:8080/"
        },
        "id": "f5bymvjaSMoP",
        "outputId": "7f0b1caa-875c-4dc5-edd4-a57043662e3e"
      },
      "execution_count": 43,
      "outputs": [
        {
          "output_type": "execute_result",
          "data": {
            "text/plain": [
              "<tf.Tensor: shape=(), dtype=int64, numpy=8671>"
            ]
          },
          "metadata": {},
          "execution_count": 43
        }
      ]
    },
    {
      "cell_type": "code",
      "source": [
        "tf.random.set_seed(42)\n",
        "shuffled = ratings.shuffle(ratings.cardinality(), seed=42, reshuffle_each_iteration=False)\n",
        "\n",
        "ratings_train = shuffled.take(6_000)\n",
        "ratings_test = shuffled.skip(6_000).take(2_000)"
      ],
      "metadata": {
        "id": "-WOJLiBqRyjo"
      },
      "execution_count": 44,
      "outputs": []
    },
    {
      "cell_type": "markdown",
      "source": [
        "Let's also figure out unique user ids and movie titles present in the data.\n",
        "\n",
        "This is important because we need to be able to map the raw values of our categorical features to embedding vectors in our models. To do that, we need a vocabulary that maps a raw feature value to an integer in a contiguous range: this allows us to look up the corresponding embeddings in our embedding tables."
      ],
      "metadata": {
        "id": "gcuxMB4gUTu-"
      }
    },
    {
      "cell_type": "code",
      "source": [
        "unique_user_ids = ratings_data.user_id.unique()\n",
        "len(unique_user_ids)"
      ],
      "metadata": {
        "colab": {
          "base_uri": "https://localhost:8080/"
        },
        "id": "bisd1EeDUJw2",
        "outputId": "074b4820-8a1b-4515-f16b-859df6d4501d"
      },
      "execution_count": 45,
      "outputs": [
        {
          "output_type": "execute_result",
          "data": {
            "text/plain": [
              "8266"
            ]
          },
          "metadata": {},
          "execution_count": 45
        }
      ]
    },
    {
      "cell_type": "code",
      "source": [
        "unique_recipe_ids = recipes_data.recipe_id.unique()\n",
        "len(unique_recipe_ids)"
      ],
      "metadata": {
        "colab": {
          "base_uri": "https://localhost:8080/"
        },
        "id": "PBZ9TmEbVmpa",
        "outputId": "5dccf126-bcea-46a3-f498-e9e6906de690"
      },
      "execution_count": 46,
      "outputs": [
        {
          "output_type": "execute_result",
          "data": {
            "text/plain": [
              "100"
            ]
          },
          "metadata": {},
          "execution_count": 46
        }
      ]
    },
    {
      "cell_type": "markdown",
      "source": [
        "## Implementing a model\n",
        "\n",
        "Choosing the architecture of our model is a key part of modelling.\n",
        "\n",
        "Because we are building a two-tower retrieval model, we can build each tower separately and then combine them in the final model."
      ],
      "metadata": {
        "id": "OMvfYM4DU_OQ"
      }
    },
    {
      "cell_type": "markdown",
      "source": [
        "### The query tower\n",
        "\n",
        "Let's start with the query tower.\n",
        "\n",
        "The first step is to decide on the dimensionality of the query and candidate representations:"
      ],
      "metadata": {
        "id": "xiU8suwjWUuo"
      }
    },
    {
      "cell_type": "code",
      "source": [
        "embedding_dimension = 32"
      ],
      "metadata": {
        "id": "HkRLrFn4U-mj"
      },
      "execution_count": 47,
      "outputs": []
    },
    {
      "cell_type": "markdown",
      "source": [
        "Higher values will correspond to models that may be more accurate, but will also be slower to fit and more prone to overfitting.\n",
        "\n",
        "The second is to define the model itself. Here, we're going to use Keras preprocessing layers to first convert user ids to integers, and then convert those to user embeddings via an Embedding layer. Note that we use the list of unique user ids we computed earlier as a vocabulary:"
      ],
      "metadata": {
        "id": "GXJhDhXFVEnQ"
      }
    },
    {
      "cell_type": "code",
      "source": [
        "user_model = tf.keras.Sequential([\n",
        "  tf.keras.layers.IntegerLookup(\n",
        "      vocabulary=unique_user_ids, mask_token=None),\n",
        "  # We add an additional embedding to account for unknown tokens.\n",
        "  tf.keras.layers.Embedding(len(unique_user_ids) + 1, embedding_dimension)\n",
        "])"
      ],
      "metadata": {
        "id": "v4TnrIRgVOf3"
      },
      "execution_count": 48,
      "outputs": []
    },
    {
      "cell_type": "code",
      "source": [
        "user_model.layers[0](8542392)"
      ],
      "metadata": {
        "colab": {
          "base_uri": "https://localhost:8080/"
        },
        "id": "sFHSyRULDmbe",
        "outputId": "6ab51a16-b996-4388-c0ea-42df0a8abe33"
      },
      "execution_count": 53,
      "outputs": [
        {
          "output_type": "execute_result",
          "data": {
            "text/plain": [
              "<tf.Tensor: shape=(), dtype=int64, numpy=1>"
            ]
          },
          "metadata": {},
          "execution_count": 53
        }
      ]
    },
    {
      "cell_type": "markdown",
      "source": [
        "A simple model like this corresponds exactly to a classic matrix factorization approach. While defining a subclass of tf.keras.Model for this simple model might be overkill, we can easily extend it to an arbitrarily complex model using standard Keras components, as long as we return an embedding_dimension-wide output at the end."
      ],
      "metadata": {
        "id": "mN8kH7LzV8z3"
      }
    },
    {
      "cell_type": "markdown",
      "source": [
        "### The candidate tower\n",
        "\n",
        "We can do the same with the candidate tower."
      ],
      "metadata": {
        "id": "q48cbOmsWAFM"
      }
    },
    {
      "cell_type": "code",
      "source": [
        "recipe_model = tf.keras.Sequential([\n",
        "  tf.keras.layers.IntegerLookup(\n",
        "      vocabulary=unique_recipe_ids, mask_token=None),\n",
        "  tf.keras.layers.Embedding(len(unique_recipe_ids) + 1, embedding_dimension)\n",
        "])"
      ],
      "metadata": {
        "id": "_LcVnMFJVETo"
      },
      "execution_count": 25,
      "outputs": []
    },
    {
      "cell_type": "code",
      "source": [
        "recipe_model.layers[0](222388)"
      ],
      "metadata": {
        "colab": {
          "base_uri": "https://localhost:8080/"
        },
        "id": "dMFGI88UElm8",
        "outputId": "7edd3754-bffc-4f31-9d46-3057c68831f7"
      },
      "execution_count": 55,
      "outputs": [
        {
          "output_type": "execute_result",
          "data": {
            "text/plain": [
              "<tf.Tensor: shape=(), dtype=int64, numpy=1>"
            ]
          },
          "metadata": {},
          "execution_count": 55
        }
      ]
    },
    {
      "cell_type": "markdown",
      "source": [
        "### Metrics\n",
        "\n",
        "In our training data we have positive (user, movie) pairs. To figure out how good our model is, we need to compare the affinity score that the model calculates for this pair to the scores of all the other possible candidates: if the score for the positive pair is higher than for all other candidates, our model is highly accurate.\n",
        "\n",
        "To do this, we can use the `tfrs.metrics.FactorizedTopK` metric. The metric has one required argument: the dataset of candidates that are used as implicit negatives for evaluation.\n",
        "\n",
        "In our case, that's the `movies` dataset, converted into embeddings via our movie model:"
      ],
      "metadata": {
        "id": "kss7ev6dWbrn"
      }
    },
    {
      "cell_type": "code",
      "source": [
        "metrics = tfrs.metrics.FactorizedTopK(\n",
        "  candidates=recipes.batch(50).map(recipe_model)\n",
        ")"
      ],
      "metadata": {
        "id": "-Y1DTPXvVD9Q"
      },
      "execution_count": 26,
      "outputs": []
    },
    {
      "cell_type": "code",
      "source": [
        "recipes.batch(10).map(recipe_model)"
      ],
      "metadata": {
        "colab": {
          "base_uri": "https://localhost:8080/"
        },
        "id": "QmwPwmqLE5rY",
        "outputId": "a7bb8ee9-cdbf-4c66-81c7-8cebd39ebf46"
      },
      "execution_count": 58,
      "outputs": [
        {
          "output_type": "execute_result",
          "data": {
            "text/plain": [
              "<_MapDataset element_spec=TensorSpec(shape=(None, 32), dtype=tf.float32, name=None)>"
            ]
          },
          "metadata": {},
          "execution_count": 58
        }
      ]
    },
    {
      "cell_type": "markdown",
      "source": [
        "### Loss\n",
        "\n",
        "The next component is the loss used to train our model. TFRS has several loss layers and tasks to make this easy.\n",
        "\n",
        "In this instance, we'll make use of the `Retrieval` task object: a convenience wrapper that bundles together the loss function and metric computation:"
      ],
      "metadata": {
        "id": "0mF_kbIdWu6Q"
      }
    },
    {
      "cell_type": "code",
      "source": [
        "task = tfrs.tasks.Retrieval(\n",
        "  metrics=metrics\n",
        ")"
      ],
      "metadata": {
        "id": "wZC_prYVWuIC"
      },
      "execution_count": 59,
      "outputs": []
    },
    {
      "cell_type": "markdown",
      "source": [
        "The task itself is a Keras layer that takes the query and candidate embeddings as arguments, and returns the computed loss: we'll use that to implement the model's training loop."
      ],
      "metadata": {
        "id": "v6lbvtHNW7-m"
      }
    },
    {
      "cell_type": "markdown",
      "source": [
        "### The full model\n",
        "\n",
        "We can now put it all together into a model. TFRS exposes a base model class (`tfrs.models.Model`) which streamlines building models: all we need to do is to set up the components in the `__init__` method, and implement the `compute_loss` method, taking in the raw features and returning a loss value.\n",
        "\n",
        "The base model will then take care of creating the appropriate training loop to fit our model."
      ],
      "metadata": {
        "id": "lG7u4pXYXI6g"
      }
    },
    {
      "cell_type": "code",
      "source": [
        "class RecipeRecommendationModel(tfrs.Model):\n",
        "\n",
        "  def __init__(self, user_model, movie_model):\n",
        "    super().__init__()\n",
        "    self.recipe_model: tf.keras.Model = recipe_model\n",
        "    self.user_model: tf.keras.Model = user_model\n",
        "    self.task: tf.keras.layers.Layer = task\n",
        "\n",
        "  def compute_loss(self, features: Dict[Text, tf.Tensor], training=False) -> tf.Tensor:\n",
        "    # We pick out the user features and pass them into the user model.\n",
        "    user_embeddings = self.user_model(features[\"user_id\"])\n",
        "    # And pick out the movie features and pass them into the movie model,\n",
        "    # getting embeddings back.\n",
        "    positive_recipe_embeddings = self.recipe_model(features[\"recipe_id\"])\n",
        "\n",
        "    # The task computes the loss and the metrics.\n",
        "    return self.task(user_embeddings, positive_recipe_embeddings)"
      ],
      "metadata": {
        "id": "Gpy7tnfFW-MI"
      },
      "execution_count": 60,
      "outputs": []
    },
    {
      "cell_type": "markdown",
      "source": [
        "The tfrs.Model base class is a simply convenience class: it allows us to compute both training and test losses using the same method.\n",
        "\n",
        "Under the hood, it's still a plain Keras model. You could achieve the same functionality by inheriting from tf.keras.Model and overriding the train_step and test_step functions (see the guide for details):"
      ],
      "metadata": {
        "id": "1Qhu6OOcYDSC"
      }
    },
    {
      "cell_type": "code",
      "source": [
        "# class NoBaseClassMovielensModel(tf.keras.Model):\n",
        "\n",
        "#   def __init__(self, user_model, movie_model):\n",
        "#     super().__init__()\n",
        "#     self.movie_model: tf.keras.Model = movie_model\n",
        "#     self.user_model: tf.keras.Model = user_model\n",
        "#     self.task: tf.keras.layers.Layer = task\n",
        "\n",
        "#   def train_step(self, features: Dict[Text, tf.Tensor]) -> tf.Tensor:\n",
        "\n",
        "#     # Set up a gradient tape to record gradients.\n",
        "#     with tf.GradientTape() as tape:\n",
        "\n",
        "#       # Loss computation.\n",
        "#       user_embeddings = self.user_model(features[\"user_id\"])\n",
        "#       positive_movie_embeddings = self.movie_model(features[\"movie_title\"])\n",
        "#       loss = self.task(user_embeddings, positive_movie_embeddings)\n",
        "\n",
        "#       # Handle regularization losses as well.\n",
        "#       regularization_loss = sum(self.losses)\n",
        "\n",
        "#       total_loss = loss + regularization_loss\n",
        "\n",
        "#     gradients = tape.gradient(total_loss, self.trainable_variables)\n",
        "#     self.optimizer.apply_gradients(zip(gradients, self.trainable_variables))\n",
        "\n",
        "#     metrics = {metric.name: metric.result() for metric in self.metrics}\n",
        "#     metrics[\"loss\"] = loss\n",
        "#     metrics[\"regularization_loss\"] = regularization_loss\n",
        "#     metrics[\"total_loss\"] = total_loss\n",
        "\n",
        "#     return metrics\n",
        "\n",
        "#   def test_step(self, features: Dict[Text, tf.Tensor]) -> tf.Tensor:\n",
        "\n",
        "#     # Loss computation.\n",
        "#     user_embeddings = self.user_model(features[\"user_id\"])\n",
        "#     positive_movie_embeddings = self.movie_model(features[\"movie_title\"])\n",
        "#     loss = self.task(user_embeddings, positive_movie_embeddings)\n",
        "\n",
        "#     # Handle regularization losses as well.\n",
        "#     regularization_loss = sum(self.losses)\n",
        "\n",
        "#     total_loss = loss + regularization_loss\n",
        "\n",
        "#     metrics = {metric.name: metric.result() for metric in self.metrics}\n",
        "#     metrics[\"loss\"] = loss\n",
        "#     metrics[\"regularization_loss\"] = regularization_loss\n",
        "#     metrics[\"total_loss\"] = total_loss\n",
        "\n",
        "#     return metrics"
      ],
      "metadata": {
        "id": "B2V0JPS0XstD"
      },
      "execution_count": 29,
      "outputs": []
    },
    {
      "cell_type": "code",
      "source": [],
      "metadata": {
        "id": "7QeIAmDBYMuK"
      },
      "execution_count": 29,
      "outputs": []
    },
    {
      "cell_type": "markdown",
      "source": [
        "## Fitting and evaluating\n",
        "\n",
        "After defining the model, we can use standard Keras fitting and evaluation routines to fit and evaluate the model.\n",
        "\n",
        "Let's first instantiate the model."
      ],
      "metadata": {
        "id": "PMsHkTIIYQqi"
      }
    },
    {
      "cell_type": "code",
      "source": [
        "model = RecipeRecommendationModel(user_model, recipe_model)\n",
        "model.compile(optimizer=tf.keras.optimizers.Adagrad(learning_rate=0.1))"
      ],
      "metadata": {
        "id": "fEqBEusUYRSC"
      },
      "execution_count": 61,
      "outputs": []
    },
    {
      "cell_type": "markdown",
      "source": [
        "Then shuffle, batch, and cache the training and evaluation data."
      ],
      "metadata": {
        "id": "HLZrZ0iaYawy"
      }
    },
    {
      "cell_type": "code",
      "source": [
        "# cached_train = train.shuffle(100_000).batch(8192).cache()\n",
        "# cached_test = test.batch(4096).cache()\n",
        "\n",
        "cached_train = ratings_train.batch(80)\n",
        "cached_test = ratings_test.batch(10)"
      ],
      "metadata": {
        "id": "Gs5NQKJHYXZS"
      },
      "execution_count": 64,
      "outputs": []
    },
    {
      "cell_type": "markdown",
      "source": [
        "Then train the  model:"
      ],
      "metadata": {
        "id": "suaNxurQYhyb"
      }
    },
    {
      "cell_type": "code",
      "source": [
        "model.fit(cached_train, epochs=3,)"
      ],
      "metadata": {
        "colab": {
          "base_uri": "https://localhost:8080/"
        },
        "id": "1koFuJdnYeWC",
        "outputId": "62e786dd-7601-4c3e-c0e4-4d6566a61bc2"
      },
      "execution_count": 65,
      "outputs": [
        {
          "output_type": "stream",
          "name": "stdout",
          "text": [
            "Epoch 1/3\n",
            "75/75 [==============================] - 6s 77ms/step - factorized_top_k/top_1_categorical_accuracy: 0.2030 - factorized_top_k/top_5_categorical_accuracy: 0.9192 - factorized_top_k/top_10_categorical_accuracy: 0.9440 - factorized_top_k/top_50_categorical_accuracy: 0.9953 - factorized_top_k/top_100_categorical_accuracy: 1.0000 - loss: 182.2120 - regularization_loss: 0.0000e+00 - total_loss: 182.2120\n",
            "Epoch 2/3\n",
            "75/75 [==============================] - 6s 73ms/step - factorized_top_k/top_1_categorical_accuracy: 0.1630 - factorized_top_k/top_5_categorical_accuracy: 0.9528 - factorized_top_k/top_10_categorical_accuracy: 0.9657 - factorized_top_k/top_50_categorical_accuracy: 0.9973 - factorized_top_k/top_100_categorical_accuracy: 1.0000 - loss: 141.7542 - regularization_loss: 0.0000e+00 - total_loss: 141.7542\n",
            "Epoch 3/3\n",
            "75/75 [==============================] - 5s 61ms/step - factorized_top_k/top_1_categorical_accuracy: 0.1762 - factorized_top_k/top_5_categorical_accuracy: 0.9667 - factorized_top_k/top_10_categorical_accuracy: 0.9817 - factorized_top_k/top_50_categorical_accuracy: 0.9987 - factorized_top_k/top_100_categorical_accuracy: 1.0000 - loss: 130.0085 - regularization_loss: 0.0000e+00 - total_loss: 130.0085\n"
          ]
        },
        {
          "output_type": "execute_result",
          "data": {
            "text/plain": [
              "<keras.src.callbacks.History at 0x7f183cbdf010>"
            ]
          },
          "metadata": {},
          "execution_count": 65
        }
      ]
    },
    {
      "cell_type": "markdown",
      "source": [
        "If you want to monitor the training process with TensorBoard, you can add a TensorBoard callback to fit() function and then start TensorBoard using `%tensorboard --logdir logs/fit`. Please refer to [TensorBoard documentation](https://www.tensorflow.org/tensorboard/get_started) for more details.\n",
        "\n",
        "As the model trains, the loss is falling and a set of top-k retrieval metrics is updated. These tell us whether the true positive is in the top-k retrieved items from the entire candidate set. For example, a top-5 categorical accuracy metric of 0.2 would tell us that, on average, the true positive is in the top 5 retrieved items 20% of the time.\n",
        "\n",
        "Note that, in this example, we evaluate the metrics during training as well as evaluation. Because this can be quite slow with large candidate sets, it may be prudent to turn metric calculation off in training, and only run it in evaluation."
      ],
      "metadata": {
        "id": "RFQnLA0dY-GX"
      }
    },
    {
      "cell_type": "code",
      "source": [
        "model.evaluate(cached_test, return_dict=True)"
      ],
      "metadata": {
        "id": "8pq0lhDvYopy",
        "colab": {
          "base_uri": "https://localhost:8080/"
        },
        "outputId": "40ce7e6c-48aa-4001-bcaf-cbdde6af752e"
      },
      "execution_count": 66,
      "outputs": [
        {
          "output_type": "stream",
          "name": "stdout",
          "text": [
            "200/200 [==============================] - 13s 62ms/step - factorized_top_k/top_1_categorical_accuracy: 0.0210 - factorized_top_k/top_5_categorical_accuracy: 0.1155 - factorized_top_k/top_10_categorical_accuracy: 0.2100 - factorized_top_k/top_50_categorical_accuracy: 0.4810 - factorized_top_k/top_100_categorical_accuracy: 0.9885 - loss: 24.3795 - regularization_loss: 0.0000e+00 - total_loss: 24.3795\n"
          ]
        },
        {
          "output_type": "execute_result",
          "data": {
            "text/plain": [
              "{'factorized_top_k/top_1_categorical_accuracy': 0.020999999716877937,\n",
              " 'factorized_top_k/top_5_categorical_accuracy': 0.11550000309944153,\n",
              " 'factorized_top_k/top_10_categorical_accuracy': 0.20999999344348907,\n",
              " 'factorized_top_k/top_50_categorical_accuracy': 0.48100000619888306,\n",
              " 'factorized_top_k/top_100_categorical_accuracy': 0.9884999990463257,\n",
              " 'loss': 22.46141242980957,\n",
              " 'regularization_loss': 0,\n",
              " 'total_loss': 22.46141242980957}"
            ]
          },
          "metadata": {},
          "execution_count": 66
        }
      ]
    },
    {
      "cell_type": "markdown",
      "source": [
        "Test set performance is much worse than training performance. This is due to two factors:\n",
        "\n",
        "1. Our model is likely to perform better on the data that it has seen, simply because it can memorize it. This overfitting phenomenon is especially strong when models have many parameters. It can be mediated by model regularization and use of user and movie features that help the model generalize better to unseen data.\n",
        "2. The model is re-recommending some of users' already watched movies. These known-positive watches can crowd out test movies out of top K recommendations.\n",
        "\n",
        "The second phenomenon can be tackled by excluding previously seen movies from test recommendations. This approach is relatively common in the recommender systems literature, but we don't follow it in these tutorials. If not recommending past watches is important, we should expect appropriately specified models to learn this behaviour automatically from past user history and contextual information. Additionally, it is often appropriate to recommend the same item multiple times (say, an evergreen TV series or a regularly purchased item)."
      ],
      "metadata": {
        "id": "iAV1HMbGZOfP"
      }
    },
    {
      "cell_type": "code",
      "source": [],
      "metadata": {
        "id": "5SEdNtuqZJ_i"
      },
      "execution_count": 33,
      "outputs": []
    }
  ]
}